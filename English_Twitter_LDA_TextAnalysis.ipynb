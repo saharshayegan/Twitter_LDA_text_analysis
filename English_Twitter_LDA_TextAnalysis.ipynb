{
  "cells": [
    {
      "cell_type": "markdown",
      "metadata": {
        "id": "view-in-github",
        "colab_type": "text"
      },
      "source": [
        "<a href=\"https://colab.research.google.com/github/saharshayegan/Twitter_LDA_text_analysis/blob/main/English_Twitter_LDA_TextAnalysis.ipynb\" target=\"_parent\"><img src=\"https://colab.research.google.com/assets/colab-badge.svg\" alt=\"Open In Colab\"/></a>"
      ]
    },
    {
      "cell_type": "code",
      "execution_count": 11,
      "metadata": {
        "colab": {
          "base_uri": "https://localhost:8080/"
        },
        "id": "o5es5hLjBZem",
        "outputId": "3174acda-6e88-4fde-f055-1c17cc0be5cd"
      },
      "outputs": [
        {
          "output_type": "stream",
          "name": "stdout",
          "text": [
            "Looking in indexes: https://pypi.org/simple, https://us-python.pkg.dev/colab-wheels/public/simple/\n",
            "Requirement already satisfied: pandas==1.2 in /usr/local/lib/python3.7/dist-packages (1.2.0)\n",
            "Requirement already satisfied: python-dateutil>=2.7.3 in /usr/local/lib/python3.7/dist-packages (from pandas==1.2) (2.8.2)\n",
            "Requirement already satisfied: numpy>=1.16.5 in /usr/local/lib/python3.7/dist-packages (from pandas==1.2) (1.21.6)\n",
            "Requirement already satisfied: pytz>=2017.3 in /usr/local/lib/python3.7/dist-packages (from pandas==1.2) (2022.1)\n",
            "Requirement already satisfied: six>=1.5 in /usr/local/lib/python3.7/dist-packages (from python-dateutil>=2.7.3->pandas==1.2) (1.15.0)\n",
            "Looking in indexes: https://pypi.org/simple, https://us-python.pkg.dev/colab-wheels/public/simple/\n",
            "Requirement already satisfied: gensim in /usr/local/lib/python3.7/dist-packages (4.2.0)\n",
            "Requirement already satisfied: numpy>=1.17.0 in /usr/local/lib/python3.7/dist-packages (from gensim) (1.21.6)\n",
            "Requirement already satisfied: smart-open>=1.8.1 in /usr/local/lib/python3.7/dist-packages (from gensim) (5.2.1)\n",
            "Requirement already satisfied: scipy>=0.18.1 in /usr/local/lib/python3.7/dist-packages (from gensim) (1.4.1)\n"
          ]
        }
      ],
      "source": [
        "#Run this and reset the runtime. Then proceed.\n",
        "!pip install --upgrade pandas==1.2\n",
        "!pip install -U gensim"
      ]
    },
    {
      "cell_type": "markdown",
      "metadata": {
        "id": "rycwxZP_XS4S"
      },
      "source": [
        "## Installing and importing"
      ]
    },
    {
      "cell_type": "code",
      "execution_count": 1,
      "metadata": {
        "id": "OFV49k6wT2iW"
      },
      "outputs": [],
      "source": [
        "import pandas as pd\n",
        "import re\n",
        "from nltk.corpus import stopwords\n",
        "\n",
        "from gensim.parsing.preprocessing import STOPWORDS\n",
        "from gensim.utils import simple_preprocess\n",
        "from gensim.models import TfidfModel, LsiModel\n",
        "from gensim.models.ldamodel import LdaModel\n",
        "from gensim import corpora\n",
        "from gensim import matutils\n",
        "\n",
        "from collections import defaultdict\n",
        "import pickle"
      ]
    },
    {
      "cell_type": "code",
      "execution_count": 2,
      "metadata": {
        "colab": {
          "base_uri": "https://localhost:8080/"
        },
        "id": "SkEAOc48jS3h",
        "outputId": "d4ae9acb-cdca-4bee-eddb-4af024dfe55e"
      },
      "outputs": [
        {
          "output_type": "stream",
          "name": "stdout",
          "text": [
            "Drive already mounted at /content/drive; to attempt to forcibly remount, call drive.mount(\"/content/drive\", force_remount=True).\n"
          ]
        }
      ],
      "source": [
        "from google.colab import drive\n",
        "drive.mount('/content/drive')"
      ]
    },
    {
      "cell_type": "code",
      "execution_count": 3,
      "metadata": {
        "id": "7RQDlG0RDdIx"
      },
      "outputs": [],
      "source": [
        "### Installing Stuff"
      ]
    },
    {
      "cell_type": "code",
      "execution_count": 4,
      "metadata": {
        "id": "BTgSGR_pf0g-",
        "colab": {
          "base_uri": "https://localhost:8080/"
        },
        "outputId": "1bb81f7d-e904-4964-ed35-4fef08f3a50d"
      },
      "outputs": [
        {
          "output_type": "stream",
          "name": "stdout",
          "text": [
            "fatal: destination path 'pyLDAvis' already exists and is not an empty directory.\n",
            "/content/pyLDAvis\n",
            "running build\n",
            "running build_py\n",
            "running egg_info\n",
            "writing pyLDAvis.egg-info/PKG-INFO\n",
            "writing dependency_links to pyLDAvis.egg-info/dependency_links.txt\n",
            "writing requirements to pyLDAvis.egg-info/requires.txt\n",
            "writing top-level names to pyLDAvis.egg-info/top_level.txt\n",
            "reading manifest template 'MANIFEST.in'\n",
            "warning: no previously-included files matching '*' found under directory 'notebooks/.ipynb_checkpoints'\n",
            "warning: no previously-included files matching '__pycache__' found under directory '*'\n",
            "warning: no previously-included files matching '*.py[co]' found under directory '*'\n",
            "adding license file 'LICENSE'\n",
            "adding license file 'AUTHORS.rst'\n",
            "writing manifest file 'pyLDAvis.egg-info/SOURCES.txt'\n",
            "running install\n",
            "running bdist_egg\n",
            "running egg_info\n",
            "writing pyLDAvis.egg-info/PKG-INFO\n",
            "writing dependency_links to pyLDAvis.egg-info/dependency_links.txt\n",
            "writing requirements to pyLDAvis.egg-info/requires.txt\n",
            "writing top-level names to pyLDAvis.egg-info/top_level.txt\n",
            "reading manifest template 'MANIFEST.in'\n",
            "warning: no previously-included files matching '*' found under directory 'notebooks/.ipynb_checkpoints'\n",
            "warning: no previously-included files matching '__pycache__' found under directory '*'\n",
            "warning: no previously-included files matching '*.py[co]' found under directory '*'\n",
            "adding license file 'LICENSE'\n",
            "adding license file 'AUTHORS.rst'\n",
            "writing manifest file 'pyLDAvis.egg-info/SOURCES.txt'\n",
            "installing library code to build/bdist.linux-x86_64/egg\n",
            "running install_lib\n",
            "running build_py\n",
            "creating build/bdist.linux-x86_64/egg\n",
            "creating build/bdist.linux-x86_64/egg/pyLDAvis\n",
            "copying build/lib/pyLDAvis/graphlab.py -> build/bdist.linux-x86_64/egg/pyLDAvis\n",
            "creating build/bdist.linux-x86_64/egg/pyLDAvis/js\n",
            "copying build/lib/pyLDAvis/js/ldavis.v3.0.0.js -> build/bdist.linux-x86_64/egg/pyLDAvis/js\n",
            "copying build/lib/pyLDAvis/js/ldavis.css -> build/bdist.linux-x86_64/egg/pyLDAvis/js\n",
            "copying build/lib/pyLDAvis/js/d3.v5.min.js -> build/bdist.linux-x86_64/egg/pyLDAvis/js\n",
            "copying build/lib/pyLDAvis/js/ldavis.v1.0.0.css -> build/bdist.linux-x86_64/egg/pyLDAvis/js\n",
            "copying build/lib/pyLDAvis/js/ldavis.js -> build/bdist.linux-x86_64/egg/pyLDAvis/js\n",
            "copying build/lib/pyLDAvis/js/ldavis.v1.0.0.js -> build/bdist.linux-x86_64/egg/pyLDAvis/js\n",
            "copying build/lib/pyLDAvis/_server.py -> build/bdist.linux-x86_64/egg/pyLDAvis\n",
            "copying build/lib/pyLDAvis/_display.py -> build/bdist.linux-x86_64/egg/pyLDAvis\n",
            "copying build/lib/pyLDAvis/utils.py -> build/bdist.linux-x86_64/egg/pyLDAvis\n",
            "copying build/lib/pyLDAvis/__init__.py -> build/bdist.linux-x86_64/egg/pyLDAvis\n",
            "copying build/lib/pyLDAvis/gensim_models.py -> build/bdist.linux-x86_64/egg/pyLDAvis\n",
            "copying build/lib/pyLDAvis/urls.py -> build/bdist.linux-x86_64/egg/pyLDAvis\n",
            "copying build/lib/pyLDAvis/sklearn.py -> build/bdist.linux-x86_64/egg/pyLDAvis\n",
            "copying build/lib/pyLDAvis/_prepare.py -> build/bdist.linux-x86_64/egg/pyLDAvis\n",
            "byte-compiling build/bdist.linux-x86_64/egg/pyLDAvis/graphlab.py to graphlab.cpython-37.pyc\n",
            "byte-compiling build/bdist.linux-x86_64/egg/pyLDAvis/_server.py to _server.cpython-37.pyc\n",
            "byte-compiling build/bdist.linux-x86_64/egg/pyLDAvis/_display.py to _display.cpython-37.pyc\n",
            "byte-compiling build/bdist.linux-x86_64/egg/pyLDAvis/utils.py to utils.cpython-37.pyc\n",
            "byte-compiling build/bdist.linux-x86_64/egg/pyLDAvis/__init__.py to __init__.cpython-37.pyc\n",
            "byte-compiling build/bdist.linux-x86_64/egg/pyLDAvis/gensim_models.py to gensim_models.cpython-37.pyc\n",
            "byte-compiling build/bdist.linux-x86_64/egg/pyLDAvis/urls.py to urls.cpython-37.pyc\n",
            "byte-compiling build/bdist.linux-x86_64/egg/pyLDAvis/sklearn.py to sklearn.cpython-37.pyc\n",
            "byte-compiling build/bdist.linux-x86_64/egg/pyLDAvis/_prepare.py to _prepare.cpython-37.pyc\n",
            "creating build/bdist.linux-x86_64/egg/EGG-INFO\n",
            "copying pyLDAvis.egg-info/PKG-INFO -> build/bdist.linux-x86_64/egg/EGG-INFO\n",
            "copying pyLDAvis.egg-info/SOURCES.txt -> build/bdist.linux-x86_64/egg/EGG-INFO\n",
            "copying pyLDAvis.egg-info/dependency_links.txt -> build/bdist.linux-x86_64/egg/EGG-INFO\n",
            "copying pyLDAvis.egg-info/not-zip-safe -> build/bdist.linux-x86_64/egg/EGG-INFO\n",
            "copying pyLDAvis.egg-info/requires.txt -> build/bdist.linux-x86_64/egg/EGG-INFO\n",
            "copying pyLDAvis.egg-info/top_level.txt -> build/bdist.linux-x86_64/egg/EGG-INFO\n",
            "creating 'dist/pyLDAvis-3.3.1-py3.7.egg' and adding 'build/bdist.linux-x86_64/egg' to it\n",
            "removing 'build/bdist.linux-x86_64/egg' (and everything under it)\n",
            "Processing pyLDAvis-3.3.1-py3.7.egg\n",
            "removing '/usr/local/lib/python3.7/dist-packages/pyLDAvis-3.3.1-py3.7.egg' (and everything under it)\n",
            "creating /usr/local/lib/python3.7/dist-packages/pyLDAvis-3.3.1-py3.7.egg\n",
            "Extracting pyLDAvis-3.3.1-py3.7.egg to /usr/local/lib/python3.7/dist-packages\n",
            "pyLDAvis 3.3.1 is already the active version in easy-install.pth\n",
            "\n",
            "Installed /usr/local/lib/python3.7/dist-packages/pyLDAvis-3.3.1-py3.7.egg\n",
            "Processing dependencies for pyLDAvis==3.3.1\n",
            "Searching for setuptools==57.4.0\n",
            "Best match: setuptools 57.4.0\n",
            "Adding setuptools 57.4.0 to easy-install.pth file\n",
            "\n",
            "Using /usr/local/lib/python3.7/dist-packages\n",
            "Searching for gensim==4.2.0\n",
            "Best match: gensim 4.2.0\n",
            "Adding gensim 4.2.0 to easy-install.pth file\n",
            "\n",
            "Using /usr/local/lib/python3.7/dist-packages\n",
            "Searching for scikit-learn==1.0.2\n",
            "Best match: scikit-learn 1.0.2\n",
            "Adding scikit-learn 1.0.2 to easy-install.pth file\n",
            "\n",
            "Using /usr/local/lib/python3.7/dist-packages\n",
            "Searching for sklearn==0.0\n",
            "Best match: sklearn 0.0\n",
            "Adding sklearn 0.0 to easy-install.pth file\n",
            "\n",
            "Using /usr/local/lib/python3.7/dist-packages\n",
            "Searching for funcy==1.17\n",
            "Best match: funcy 1.17\n",
            "Processing funcy-1.17-py3.7.egg\n",
            "funcy 1.17 is already the active version in easy-install.pth\n",
            "\n",
            "Using /usr/local/lib/python3.7/dist-packages/funcy-1.17-py3.7.egg\n",
            "Searching for future==0.16.0\n",
            "Best match: future 0.16.0\n",
            "Adding future 0.16.0 to easy-install.pth file\n",
            "Installing futurize script to /usr/local/bin\n",
            "Installing pasteurize script to /usr/local/bin\n",
            "\n",
            "Using /usr/local/lib/python3.7/dist-packages\n",
            "Searching for numexpr==2.8.1\n",
            "Best match: numexpr 2.8.1\n",
            "Adding numexpr 2.8.1 to easy-install.pth file\n",
            "\n",
            "Using /usr/local/lib/python3.7/dist-packages\n",
            "Searching for Jinja2==2.11.3\n",
            "Best match: Jinja2 2.11.3\n",
            "Adding Jinja2 2.11.3 to easy-install.pth file\n",
            "\n",
            "Using /usr/local/lib/python3.7/dist-packages\n",
            "Searching for joblib==1.1.0\n",
            "Best match: joblib 1.1.0\n",
            "Adding joblib 1.1.0 to easy-install.pth file\n",
            "\n",
            "Using /usr/local/lib/python3.7/dist-packages\n",
            "Searching for pandas==1.2.0\n",
            "Best match: pandas 1.2.0\n",
            "Adding pandas 1.2.0 to easy-install.pth file\n",
            "\n",
            "Using /usr/local/lib/python3.7/dist-packages\n",
            "Searching for scipy==1.4.1\n",
            "Best match: scipy 1.4.1\n",
            "Adding scipy 1.4.1 to easy-install.pth file\n",
            "\n",
            "Using /usr/local/lib/python3.7/dist-packages\n",
            "Searching for numpy==1.21.6\n",
            "Best match: numpy 1.21.6\n",
            "Adding numpy 1.21.6 to easy-install.pth file\n",
            "Installing f2py script to /usr/local/bin\n",
            "Installing f2py3 script to /usr/local/bin\n",
            "Installing f2py3.7 script to /usr/local/bin\n",
            "\n",
            "Using /usr/local/lib/python3.7/dist-packages\n",
            "Searching for smart-open==5.2.1\n",
            "Best match: smart-open 5.2.1\n",
            "Adding smart-open 5.2.1 to easy-install.pth file\n",
            "\n",
            "Using /usr/local/lib/python3.7/dist-packages\n",
            "Searching for threadpoolctl==3.1.0\n",
            "Best match: threadpoolctl 3.1.0\n",
            "Adding threadpoolctl 3.1.0 to easy-install.pth file\n",
            "\n",
            "Using /usr/local/lib/python3.7/dist-packages\n",
            "Searching for packaging==21.3\n",
            "Best match: packaging 21.3\n",
            "Adding packaging 21.3 to easy-install.pth file\n",
            "\n",
            "Using /usr/local/lib/python3.7/dist-packages\n",
            "Searching for MarkupSafe==2.0.1\n",
            "Best match: MarkupSafe 2.0.1\n",
            "Adding MarkupSafe 2.0.1 to easy-install.pth file\n",
            "\n",
            "Using /usr/local/lib/python3.7/dist-packages\n",
            "Searching for python-dateutil==2.8.2\n",
            "Best match: python-dateutil 2.8.2\n",
            "Adding python-dateutil 2.8.2 to easy-install.pth file\n",
            "\n",
            "Using /usr/local/lib/python3.7/dist-packages\n",
            "Searching for pytz==2022.1\n",
            "Best match: pytz 2022.1\n",
            "Adding pytz 2022.1 to easy-install.pth file\n",
            "\n",
            "Using /usr/local/lib/python3.7/dist-packages\n",
            "Searching for pyparsing==3.0.9\n",
            "Best match: pyparsing 3.0.9\n",
            "Adding pyparsing 3.0.9 to easy-install.pth file\n",
            "\n",
            "Using /usr/local/lib/python3.7/dist-packages\n",
            "Searching for six==1.15.0\n",
            "Best match: six 1.15.0\n",
            "Adding six 1.15.0 to easy-install.pth file\n",
            "\n",
            "Using /usr/local/lib/python3.7/dist-packages\n",
            "Finished processing dependencies for pyLDAvis==3.3.1\n",
            "/content\n"
          ]
        }
      ],
      "source": [
        "# Package is in detached-head mode. Clone from Github, commit latest changes and run setup.py\n",
        "! git clone https://github.com/bmabey/pyLDAvis\n",
        "%cd pyLDAvis\n",
        "! python setup.py build\n",
        "! python setup.py install\n",
        "%cd .."
      ]
    },
    {
      "cell_type": "code",
      "execution_count": 5,
      "metadata": {
        "colab": {
          "base_uri": "https://localhost:8080/"
        },
        "id": "k_ne_VwwWydi",
        "outputId": "27fdf43e-52d5-463f-b057-e4301c117a1d"
      },
      "outputs": [
        {
          "output_type": "stream",
          "name": "stdout",
          "text": [
            "Looking in indexes: https://pypi.org/simple, https://us-python.pkg.dev/colab-wheels/public/simple/\n",
            "Requirement already satisfied: funcy in /usr/local/lib/python3.7/dist-packages/funcy-1.17-py3.7.egg (1.17)\n",
            "Looking in indexes: https://pypi.org/simple, https://us-python.pkg.dev/colab-wheels/public/simple/\n",
            "Requirement already satisfied: funcy in /usr/local/lib/python3.7/dist-packages/funcy-1.17-py3.7.egg (1.17)\n"
          ]
        },
        {
          "output_type": "stream",
          "name": "stderr",
          "text": [
            "[nltk_data] Downloading package stopwords to /root/nltk_data...\n",
            "[nltk_data]   Package stopwords is already up-to-date!\n",
            "[nltk_data] Downloading package punkt to /root/nltk_data...\n",
            "[nltk_data]   Package punkt is already up-to-date!\n",
            "[nltk_data] Downloading package wordnet to /root/nltk_data...\n",
            "[nltk_data]   Package wordnet is already up-to-date!\n"
          ]
        },
        {
          "output_type": "execute_result",
          "data": {
            "text/plain": [
              "True"
            ]
          },
          "metadata": {},
          "execution_count": 5
        }
      ],
      "source": [
        "! python3.7 -m pip install funcy\n",
        "! pip install funcy\n",
        "import sys\n",
        "sys.path.insert(0,'/usr/local/lib/python3.7/dist-packages/funcy-1.17-py3.7.egg')\n",
        "import funcy\n",
        "# !pip install --upgrade pandas==1.2\n",
        "\n",
        "\n",
        "import nltk\n",
        "nltk.download('stopwords')\n",
        "nltk.download('punkt')\n",
        "nltk.download('wordnet')"
      ]
    },
    {
      "cell_type": "code",
      "execution_count": 6,
      "metadata": {
        "colab": {
          "base_uri": "https://localhost:8080/"
        },
        "id": "kwfoT8vMRiqd",
        "outputId": "bff8b410-ebb1-48c6-db99-e35c6b844adc"
      },
      "outputs": [
        {
          "output_type": "stream",
          "name": "stderr",
          "text": [
            "/usr/local/lib/python3.7/dist-packages/past/types/oldstr.py:5: DeprecationWarning: Using or importing the ABCs from 'collections' instead of from 'collections.abc' is deprecated since Python 3.3,and in 3.9 it will stop working\n",
            "  from collections import Iterable\n",
            "/usr/local/lib/python3.7/dist-packages/past/builtins/misc.py:4: DeprecationWarning: Using or importing the ABCs from 'collections' instead of from 'collections.abc' is deprecated since Python 3.3,and in 3.9 it will stop working\n",
            "  from collections import Mapping\n"
          ]
        }
      ],
      "source": [
        "import pyLDAvis.gensim_models as gensimvis"
      ]
    },
    {
      "cell_type": "markdown",
      "metadata": {
        "id": "yneaQqmoXXuR"
      },
      "source": [
        "## Base"
      ]
    },
    {
      "cell_type": "code",
      "execution_count": 11,
      "metadata": {
        "id": "HWiX7DCz2AJJ",
        "colab": {
          "base_uri": "https://localhost:8080/"
        },
        "outputId": "10fa3574-ee5b-4bdd-aa76-5f45cfc1d523"
      },
      "outputs": [
        {
          "output_type": "stream",
          "name": "stdout",
          "text": [
            "['COPD', 'Diabetes', 'Arthritis', 'Obesity', 'Migraine', 'Heart Diseases', 'Asthma', 'Depression', 'PTSD', 'Cancer']\n"
          ]
        },
        {
          "output_type": "execute_result",
          "data": {
            "text/plain": [
              "['COPD',\n",
              " 'Diabetes',\n",
              " 'Arthritis',\n",
              " 'Obesity',\n",
              " 'Migraine',\n",
              " 'Heart Diseases',\n",
              " 'Asthma',\n",
              " 'Depression',\n",
              " 'PTSD',\n",
              " 'Cancer']"
            ]
          },
          "metadata": {},
          "execution_count": 11
        }
      ],
      "source": [
        "import pandas as pd\n",
        "\n",
        "filename= \"/content/drive/MyDrive/Colab Notebooks/thesis/diseases.txt\"\n",
        "with open(filename) as f:\n",
        "    diseases = [line.rstrip() for line in f]\n",
        "print(diseases)\n",
        "\n",
        "path = r'/content/drive/MyDrive/Colab Notebooks/thesis/' # use your path\n",
        "\n",
        "# diseases "
      ]
    },
    {
      "cell_type": "code",
      "source": [
        "diseases.append('cardiovascular')"
      ],
      "metadata": {
        "id": "mzvejmQRxITo"
      },
      "execution_count": 12,
      "outputs": []
    },
    {
      "cell_type": "code",
      "source": [
        "diseases.remove('Heart Diseases')"
      ],
      "metadata": {
        "id": "Sfw1CU8YcC5H"
      },
      "execution_count": 15,
      "outputs": []
    },
    {
      "cell_type": "code",
      "source": [
        "diseases"
      ],
      "metadata": {
        "colab": {
          "base_uri": "https://localhost:8080/"
        },
        "id": "IwSs8lbKcPaK",
        "outputId": "c43b5f15-c1b7-4522-c630-0438ee02ad85"
      },
      "execution_count": 16,
      "outputs": [
        {
          "output_type": "execute_result",
          "data": {
            "text/plain": [
              "['COPD',\n",
              " 'Diabetes',\n",
              " 'Arthritis',\n",
              " 'Obesity',\n",
              " 'Migraine',\n",
              " 'Asthma',\n",
              " 'Depression',\n",
              " 'PTSD',\n",
              " 'Cancer',\n",
              " 'cardiovascular']"
            ]
          },
          "metadata": {},
          "execution_count": 16
        }
      ]
    },
    {
      "cell_type": "markdown",
      "metadata": {
        "id": "Nvc_YBHOT2ih"
      },
      "source": [
        "## Text preparation/cleanup for analysis"
      ]
    },
    {
      "cell_type": "code",
      "execution_count": null,
      "metadata": {
        "id": "lZBhRsfBIzyv",
        "colab": {
          "base_uri": "https://localhost:8080/"
        },
        "outputId": "9cd5569e-9b8f-4ed2-b9b3-5c7ca11ccd7e"
      },
      "outputs": [
        {
          "output_type": "stream",
          "name": "stdout",
          "text": [
            "cardiovascular\n",
            "Text is cleaned\n"
          ]
        }
      ],
      "source": [
        "# I've run this before. don't run it again.\n",
        "for disease in diseases:\n",
        "  print(disease)\n",
        "  df = pd.read_csv(path+disease+'_tweets.csv', index_col=None, header=0)\n",
        "  tweet_list_raw = df['Text'].tolist()\n",
        "  # Text cleaning\n",
        "  # Remove http\n",
        "  link_pttrn = r\"http\\S+\"\n",
        "  tweet_list = [re.sub(link_pttrn, \"\", tweet) for tweet in tweet_list_raw]\n",
        "\n",
        "  # Remove non-letter sequences\n",
        "  nl_pttrn = r\"[^a-zA-Z']+\"\n",
        "  tweet_list = [re.sub(nl_pttrn, \" \", tweet) for tweet in tweet_list]\n",
        "\n",
        "  # Lower case\n",
        "  tweet_list = [tweet.lower() for tweet in tweet_list]\n",
        "\n",
        "  # Remove white space at beginning and end of document\n",
        "  ws_pttrn = r\"(^ | $)\"\n",
        "  tweet_list = [re.sub(ws_pttrn, \"\", tweet) for tweet in tweet_list]\n",
        "  # tweet_list[10:20]\n",
        "  # Pre-processing\n",
        "  # print(tweet_list_raw[501])\n",
        "  # Post-processing\n",
        "  # print(tweet_list[501])\n",
        "\n",
        "\n",
        "  import nltk\n",
        "  # STOPWORDS\n",
        "  nltk_stop_words = set(stopwords.words(\"english\"))\n",
        "  def tokenize(tweet):\n",
        "      return [token for token in simple_preprocess(tweet) if token not in nltk_stop_words]\n",
        "  tweets = [tokenize(tweet) for tweet in tweet_list]\n",
        "  tweets\n",
        "  tweets[501]\n",
        "  frequency = defaultdict(int)\n",
        "  for tweet in tweets:\n",
        "      for token in tweet:\n",
        "          frequency[token] += 1\n",
        "  freq_series = pd.Series(frequency)\n",
        "  # freq_series.sort_values(ascending=False)[0:10]\n",
        "  days = ['mon','tue','wed','thu','fri','sat','sun']\n",
        "  months = ['jan', 'feb', 'mar','apr','may','jun',\\\n",
        "          'jul', 'aug', 'sep', 'oct', 'nov', 'dec']\n",
        "\n",
        "  irrel = [\"rt\", \"amp\"]\n",
        "  uncommon_words = [w[0] for w in frequency.items() if w[1]<5]\n",
        "  two_letter = [w[0] for w in frequency.items() if len(w[0])< 3]\n",
        "\n",
        "  removed = uncommon_words + two_letter +days + months + irrel  \n",
        "  print('Text is cleaned')\n",
        "\n",
        "  # Process does take about 10-15 minutes, so the output is saved and loaded\n",
        "  tweets_clean = [[token for token in tweet if token not in removed] for tweet in tweets]\n",
        "  tweets_clean[501]\n",
        "  pickle_out = open(path+disease+\"_clean_final.pickle\", \"wb\")\n",
        "  pickle.dump(tweets_clean, pickle_out)\n",
        "  pickle_out.close()"
      ]
    },
    {
      "cell_type": "markdown",
      "metadata": {
        "id": "eUFTbSMSXeGG"
      },
      "source": [
        "## LDA and Visualization"
      ]
    },
    {
      "cell_type": "markdown",
      "metadata": {
        "id": "LNX31xPrT-8d"
      },
      "source": [
        "### The LDA and Visualize methods"
      ]
    },
    {
      "cell_type": "code",
      "execution_count": 17,
      "metadata": {
        "id": "D8thtablP4we"
      },
      "outputs": [],
      "source": [
        "def run_lda(corpus, dictionary, clusters,path,disease):\n",
        "  # Runtime about 5 mins\n",
        "  print('Trying to run the models')\n",
        "  tweet_topics = LdaModel(corpus = corpus,\n",
        "                        id2word = dictionary,\n",
        "                        num_topics = clusters,\n",
        "                        passes= 10)\n",
        "  pickle_out2 = open(path+disease+\"_ffinalmodel_{}clusters_split.pickle\".format(clusters), \"wb\")\n",
        "  pickle.dump(tweet_topics, pickle_out2)\n",
        "  pickle_out2.close()\n",
        "  return tweet_topics"
      ]
    },
    {
      "cell_type": "code",
      "execution_count": 18,
      "metadata": {
        "id": "w6NLButRQsGJ"
      },
      "outputs": [],
      "source": [
        "def visualize(tweet_topics, corpus, dictionary, clusters, path, disease):\n",
        "  ### Visualizing\n",
        "  vis_data = gensimvis.prepare(tweet_topics, corpus, dictionary)\n",
        "  # print(vis_data)\n",
        "  file = open(path+disease+'_twitter-LDA_{}clusters_split.txt'.format(clusters), 'w')\n",
        "  file.write(str(vis_data))\n",
        "  file.close()\n",
        "  import pyLDAvis\n",
        "  pyLDAvis.display(vis_data)\n",
        "  pyLDAvis.save_html(vis_data, path+disease+'_twitter-LDA_{}clusters_split.html'.format(clusters))"
      ]
    },
    {
      "cell_type": "code",
      "source": [
        "# import pickle\n",
        "# disease = 'cardiovascular'\n",
        "# clusters = 7\n",
        "# lda_model = pickle.load(open(path+disease+\"_ffinalmodel_{}clusters.pickle\".format(clusters), 'rb'))\n",
        "\n",
        "# l = lda_model.show_topics(num_words = 20, formatted = False)\n",
        "# counter = 1\n",
        "# for tup in l:\n",
        "#   print(counter)\n",
        "#   for pair in tup[1]:\n",
        "#     print(pair[0], end=', ')\n",
        "#   counter +=1\n",
        "#   print()\n",
        "# print()"
      ],
      "metadata": {
        "id": "-cHraLgs_SA3",
        "colab": {
          "base_uri": "https://localhost:8080/"
        },
        "outputId": "62f9c92a-66bf-4a46-dd84-22d61e5adcc5"
      },
      "execution_count": null,
      "outputs": [
        {
          "output_type": "stream",
          "name": "stdout",
          "text": [
            "1\n",
            "cardiovascular, covid, long, risk, term, health, disease, new, cardiology, support, cocoa, outcomes, shows, clinical, study, time, heart, post, systems, even, \n",
            "2\n",
            "cardiovascular, disease, training, covid, health, reducing, lab, via, testing, director, program, high, across, biomarkers, people, common, vaccine, work, support, lipoprotein, \n",
            "3\n",
            "cardiovascular, health, disease, heart, risk, blood, research, study, help, diseases, new, benefits, improve, healthy, reduce, exercise, know, many, lower, system, \n",
            "4\n",
            "cardiovascular, heart, disease, risk, health, death, blood, covid, increased, stroke, diseases, people, system, cause, year, one, infection, study, cancer, sleep, \n",
            "5\n",
            "cardiovascular, risk, disease, patients, diabetes, new, associated, study, type, mortality, diseases, problems, cancer, analysis, factors, review, research, events, treatment, major, \n",
            "6\n",
            "cardiovascular, fitness, strength, today, heart, age, women, get, health, day, muscle, body, workout, endurance, cardio, read, great, exercise, every, take, \n",
            "7\n",
            "cardiovascular, research, care, surgery, join, medicine, disease, today, march, cardiology, register, medical, diseases, system, looking, job, latest, institute, first, prevention, \n",
            "\n"
          ]
        }
      ]
    },
    {
      "cell_type": "markdown",
      "metadata": {
        "id": "Hgk7c2KfYJKw"
      },
      "source": [
        "### For each topic:"
      ]
    },
    {
      "cell_type": "code",
      "source": [
        "# train, test = train_test_split(df, test_size=0.2)"
      ],
      "metadata": {
        "id": "jfwgOGh9e5Kr"
      },
      "execution_count": null,
      "outputs": []
    },
    {
      "cell_type": "code",
      "source": [
        "from sklearn.model_selection import train_test_split\n",
        "\n",
        "for disease in diseases:\n",
        "  tweets_clean = pickle.load(open(path+disease+\"_clean_final.pickle\", \"rb\" ) )\n",
        "\n",
        "  train, test = train_test_split(tweets_clean, test_size=0.2)\n",
        "\n",
        "  pickle_out = open(path+disease+\"_clean_final_train.pickle\", \"wb\")\n",
        "  pickle.dump(train, pickle_out)\n",
        "  pickle_out.close()\n",
        "\n",
        "  pickle_out = open(path+disease+\"_clean_final_test.pickle\", \"wb\")\n",
        "  pickle.dump(train, pickle_out)\n",
        "  pickle_out.close()"
      ],
      "metadata": {
        "id": "X3xZet4Zhw_Z"
      },
      "execution_count": 21,
      "outputs": []
    },
    {
      "cell_type": "code",
      "execution_count": null,
      "metadata": {
        "id": "X0rHwRT-T2ih"
      },
      "outputs": [],
      "source": [
        "import pickle\n",
        "\n",
        "for disease in diseases:\n",
        "  train =  pickle.load(open(path+disease+\"_clean_final_train.pickle\", \"rb\" ))\n",
        "  tweets_clean = train\n",
        "\n",
        "  dictionary = corpora.Dictionary(tweets_clean)\n",
        "  corpus = [dictionary.doc2bow(tweet) for tweet in tweets_clean]\n",
        "\n",
        "\n",
        "  #Run batch LDA and cross fingers\n",
        "  for clusters in range(7,10):\n",
        "    run_lda(corpus, dictionary, clusters,path,disease)\n",
        "\n",
        "    tweet_topics = pickle.load(open(path+disease+\"_ffinalmodel_{}clusters_split.pickle\".format(clusters), \"rb\" ) )\n",
        "    for i, topic in enumerate(tweet_topics.print_topics(15)):\n",
        "        print (i, topic)\n",
        "\n",
        "    ### Visualizing\n",
        "    visualize(tweet_topics, corpus, dictionary, clusters, path, disease)\n"
      ]
    },
    {
      "cell_type": "code",
      "source": [
        "import math\n",
        "import matplotlib.pyplot as plt\n",
        "import numpy as np\n",
        "\n",
        "for disease in diseases:\n",
        "  test =  pickle.load(open(path+disease+\"_clean_final_test.pickle\", \"rb\" ))\n",
        "  tweets_clean = test\n",
        "  dictionary = corpora.Dictionary(tweets_clean)\n",
        "  corpus = [dictionary.doc2bow(tweet) for tweet in tweets_clean]\n",
        "\n",
        "  perplexity = []\n",
        "  for clusters in range(2,10):\n",
        "    lda_model = pickle.load(open(path+disease+\"_ffinalmodel_{}clusters_split.pickle\".format(clusters), \"rb\" ) )\n",
        "    perplexity.append(math.exp(lda_model.log_perplexity(corpus)))\n",
        "  print(perplexity)\n",
        "\n",
        "  fig, ax = plt.subplots()\n",
        "  ax.plot(range(2,10), perplexity, linewidth=2.0, color='g')\n",
        "  ax.set(xlim=(2, 9), xticks=np.arange(2, 10),\n",
        "          ylim=(min(perplexity)*0.98, max(perplexity)*1.02))\n",
        "  plt.title(disease+'- Perplexity of Test Set')\n",
        "  plt.xlabel(\"Clusters\")\n",
        "  plt.ylabel(\"Perplexity\")\n",
        "  plt.grid()\n",
        "  plt.savefig(path+disease+\"_fig_test.png\")\n",
        "  plt.show()"
      ],
      "metadata": {
        "id": "ZZDaRmpnzeak",
        "colab": {
          "base_uri": "https://localhost:8080/",
          "height": 1000
        },
        "outputId": "a01191a6-ac28-4765-8857-4b0fccf6d201"
      },
      "execution_count": 44,
      "outputs": [
        {
          "output_type": "stream",
          "name": "stdout",
          "text": [
            "[0.000793432605416754, 0.0008210399412862423, 0.0007957108266619963, 0.0007670018330621113, 0.0007631605060927716, 0.0007439497496005828, 0.0007309862269958903, 0.0007326163030772944]\n"
          ]
        },
        {
          "output_type": "display_data",
          "data": {
            "text/plain": [
              "<Figure size 432x288 with 1 Axes>"
            ],
            "image/png": "[encoded data removed]"
          },
          "metadata": {
            "needs_background": "light"
          }
        },
        {
          "output_type": "stream",
          "name": "stdout",
          "text": [
            "[0.0009092745643534873, 0.0009343772693318947, 0.0009361426046787666, 0.0008650192165288434, 0.0008825461529638556, 0.0008605819744818103, 0.0008356281481632566, 0.0008560298268647438]\n"
          ]
        },
        {
          "output_type": "display_data",
          "data": {
            "text/plain": [
              "<Figure size 432x288 with 1 Axes>"
            ],
            "image/png": "[encoded data removed]"
          },
          "metadata": {
            "needs_background": "light"
          }
        },
        {
          "output_type": "stream",
          "name": "stdout",
          "text": [
            "[0.0008330589048128492, 0.000820845764779233, 0.0008061429670564623, 0.0007445484224485959, 0.0007213812210247756, 0.0007279774399080655, 0.0007062906235418017, 0.0006986765574112126]\n"
          ]
        },
        {
          "output_type": "display_data",
          "data": {
            "text/plain": [
              "<Figure size 432x288 with 1 Axes>"
            ],
            "image/png": "[encoded data removed]"
          },
          "metadata": {
            "needs_background": "light"
          }
        },
        {
          "output_type": "stream",
          "name": "stdout",
          "text": [
            "[0.0007189349228680176, 0.0006852426436450587, 0.0006791378710163043, 0.0006781288533305317, 0.0006478620190730855, 0.0006414045571196004, 0.0006397404963765714, 0.0006276230518367558]\n"
          ]
        },
        {
          "output_type": "display_data",
          "data": {
            "text/plain": [
              "<Figure size 432x288 with 1 Axes>"
            ],
            "image/png": "[encoded data removed]"
          },
          "metadata": {
            "needs_background": "light"
          }
        },
        {
          "output_type": "stream",
          "name": "stdout",
          "text": [
            "[0.0011953366483405349, 0.0011699522681140806, 0.0011072241570487665, 0.0010591453474161658, 0.0010150776001618164, 0.0009967619232148668, 0.0009656056801200719, 0.000948608896504537]\n"
          ]
        },
        {
          "output_type": "display_data",
          "data": {
            "text/plain": [
              "<Figure size 432x288 with 1 Axes>"
            ],
            "image/png": "[encoded data removed]"
          },
          "metadata": {
            "needs_background": "light"
          }
        },
        {
          "output_type": "stream",
          "name": "stdout",
          "text": [
            "[0.000942622506494824, 0.0009511227601318235, 0.000917539065718928, 0.00084036032894004, 0.0008000025633535998, 0.0008237083803910391, 0.0007827337921241426, 0.0007948799366967366]\n"
          ]
        },
        {
          "output_type": "display_data",
          "data": {
            "text/plain": [
              "<Figure size 432x288 with 1 Axes>"
            ],
            "image/png": "[encoded data removed]"
          },
          "metadata": {
            "needs_background": "light"
          }
        },
        {
          "output_type": "stream",
          "name": "stdout",
          "text": [
            "[0.0009822550213463342, 0.0010043536269203233, 0.0009407320210430972, 0.0009164469397378276, 0.0008753267042538783, 0.0008687289373513073, 0.0008448874463016196, 0.0008193410378073932]\n"
          ]
        },
        {
          "output_type": "display_data",
          "data": {
            "text/plain": [
              "<Figure size 432x288 with 1 Axes>"
            ],
            "image/png": "[encoded data removed]"
          },
          "metadata": {
            "needs_background": "light"
          }
        },
        {
          "output_type": "stream",
          "name": "stdout",
          "text": [
            "[0.000918309595743755, 0.0008566684957319528, 0.0008421136158207, 0.0007818980894333011, 0.0007748051230509097, 0.000784262275567935, 0.0007514502263405073, 0.0007417107569555605]\n"
          ]
        },
        {
          "output_type": "display_data",
          "data": {
            "text/plain": [
              "<Figure size 432x288 with 1 Axes>"
            ],
            "image/png": "[encoded data removed]"
          },
          "metadata": {
            "needs_background": "light"
          }
        },
        {
          "output_type": "stream",
          "name": "stdout",
          "text": [
            "[0.004011967367580181, 0.004095383116789634, 0.00408389750784675, 0.003904416250786533, 0.0037221246921945047, 0.0036167496675673792, 0.0034784591626799985, 0.0034874448555330868]\n"
          ]
        },
        {
          "output_type": "display_data",
          "data": {
            "text/plain": [
              "<Figure size 432x288 with 1 Axes>"
            ],
            "image/png": "[encoded data removed]"
          },
          "metadata": {
            "needs_background": "light"
          }
        },
        {
          "output_type": "stream",
          "name": "stdout",
          "text": [
            "[0.0008305261917474239, 0.0008258796826243876, 0.0007767815828343543, 0.0007789584847765393, 0.0007756884343976153, 0.0007510165488046784, 0.0007541845841113171, 0.0007406540727753507]\n"
          ]
        },
        {
          "output_type": "display_data",
          "data": {
            "text/plain": [
              "<Figure size 432x288 with 1 Axes>"
            ],
            "image/png": "[encoded data removed]"
          },
          "metadata": {
            "needs_background": "light"
          }
        }
      ]
    },
    {
      "cell_type": "code",
      "source": [
        "perplexity"
      ],
      "metadata": {
        "colab": {
          "base_uri": "https://localhost:8080/"
        },
        "id": "Pw6Pz5rYzyLt",
        "outputId": "ae901db4-ed27-4c8b-dabf-c1f510b91922"
      },
      "execution_count": null,
      "outputs": [
        {
          "output_type": "execute_result",
          "data": {
            "text/plain": [
              "[0.0008403756476597177,\n",
              " 0.0008381879912794984,\n",
              " 0.0008337408569800413,\n",
              " 0.0007856826749329695,\n",
              " 0.0007661288442455818,\n",
              " 0.000743058738637609,\n",
              " 0.0007536095771482361,\n",
              " 0.0007638229656496786]"
            ]
          },
          "metadata": {},
          "execution_count": 15
        }
      ]
    },
    {
      "cell_type": "code",
      "execution_count": null,
      "metadata": {
        "colab": {
          "background_save": true,
          "base_uri": "https://localhost:8080/"
        },
        "id": "s4Bd_pkyVb3T",
        "outputId": "bd1449b8-eb1b-4563-f9cb-d600be7d4399"
      },
      "outputs": [
        {
          "name": "stdout",
          "output_type": "stream",
          "text": [
            "-7.070407183057969\n",
            "-7.105437433571481\n"
          ]
        }
      ],
      "source": [
        "print(perplexity)"
      ]
    },
    {
      "cell_type": "markdown",
      "metadata": {
        "id": "4_1H0LoHYMYP"
      },
      "source": [
        "### For all topics together"
      ]
    },
    {
      "cell_type": "code",
      "execution_count": null,
      "metadata": {
        "id": "fIlKLmBXO4c4"
      },
      "outputs": [],
      "source": [
        "import pandas as pd\n",
        "import pickle\n",
        "\n",
        "path = r'/content/drive/MyDrive/Colab Notebooks/thesis/' # use your path\n",
        "\n",
        "all_tweets = []\n",
        "\n",
        "for disease in diseases:\n",
        "  tweets = pickle.load(open(path+disease+\"_clean_final.pickle\", \"rb\" ) )\n",
        "  all_tweets+= tweets\n",
        "\n",
        "dictionary = corpora.Dictionary(all_tweets)\n",
        "corpus = [dictionary.doc2bow(tweet) for tweet in all_tweets]\n",
        "clusters = 6\n",
        "\n",
        "lda_model = run_lda(corpus, dictionary, clusters,path,'all')\n",
        "\n",
        "visualize(lda_model, corpus, dictionary, clusters, path, 'all')"
      ]
    },
    {
      "cell_type": "markdown",
      "metadata": {
        "id": "pcfvdnO_Qyo5"
      },
      "source": [
        "# TFIDF\n"
      ]
    },
    {
      "cell_type": "markdown",
      "source": [
        "### YOU NEED TEST AND TRAIN DATA."
      ],
      "metadata": {
        "id": "uwXLArfdtAtZ"
      }
    },
    {
      "cell_type": "code",
      "execution_count": null,
      "metadata": {
        "id": "75jx6QsPQ2l_",
        "colab": {
          "base_uri": "https://localhost:8080/"
        },
        "outputId": "bc927a66-2fa4-4f88-8a2d-b9d87e939d25"
      },
      "outputs": [
        {
          "output_type": "stream",
          "name": "stdout",
          "text": [
            "['pulm wtchp cce stony brook first responder medical records drs notes discussing social history smoker smoker copd last yrs wrote many final reports shared ', 'would say prayer father triple year ago still dealing severe nerve pain also copd broke rib coughing prayers definitely needed tired seeing dad much pain ', 'airway clinical research center research programs asthma copd sarcoidosis cystic fibrosis along current programs sponsored nih pharmaceutical industry position ', 'differentiating asthma copd imaging machine pulmonology machinelearning ', 'clinical implications bronchodilator testing diagnosing differentiating copd asthma copd overlap ', 'chronic depression high blood pressure chronic asthma bronchitis copd alot ', 'person copd feels self conscious bringing oxygen hearts child best way strike conversation daughter law ', 'able walk around easier another days back able get things done remember much last week except hell plus finally quit smoking days never period scary shit covid copd hell ', 'many encourage giving offering gift learn make difference supporting copd foundation workplace giving programs visit copd donate copdfoundation ', 'pollution puts lung ailments like asthma copd greater risk still everyone exposed deadly smoke wildfires set climate wildfires ']\n"
          ]
        }
      ],
      "source": [
        "import pickle\n",
        "import numpy as np\n",
        "import pandas as pd \n",
        "from sklearn.cluster import MiniBatchKMeans\n",
        "from sklearn.feature_extraction.text import TfidfVectorizer\n",
        "\n",
        "for disease in ['COPD']:#diseases:\n",
        "  tweets_clean = pickle.load(open(path+disease+\"_clean_final.pickle\", \"rb\" ) )\n",
        "\n",
        "  # You need to change the cleaning process. \n",
        "  # or concatinate the tokens to create the entences. \n",
        "  # this will not work with tokens. it gets a column of sentences in your df.\n",
        "  text_content = tweets_clean\n",
        "  for i in range(len(text_content)):\n",
        "    s = ''\n",
        "    for token in text_content[i]:\n",
        "      s += token + ' '\n",
        "    text_content[i] = s\n",
        "  vector = TfidfVectorizer(stop_words = 'english') #Dont need stop words\n",
        "  tfidf = vector.fit_transform(text_content)\n",
        "  print(text_content[0:10])"
      ]
    },
    {
      "cell_type": "code",
      "source": [
        "## YOU SHOULD ALSO DO ALL THE REST FOR EACH TOPIC\n",
        "\n",
        "# 3. Using elbow method to decide cluster number\n",
        "# Introduction to elbow method\n",
        "\n",
        "K = range(1,15)\n",
        "SSE = []\n",
        "for k in K:\n",
        "    kmeans = MiniBatchKMeans(n_clusters = k,batch_size = 300)\n",
        "    kmeans.fit(tfidf)\n",
        "    SSE.append(kmeans.inertia_)\n",
        "    \n",
        "import matplotlib.pyplot as plt\n",
        "plt.plot(K,SSE,'bx-')\n",
        "plt.title('Elbow Method')\n",
        "plt.xlabel('cluster numbers')\n",
        "plt.show()"
      ],
      "metadata": {
        "colab": {
          "base_uri": "https://localhost:8080/",
          "height": 295
        },
        "id": "7yV8MgV_r3qQ",
        "outputId": "1a29fea4-8dc1-4b83-9ba1-98c116eb1c09"
      },
      "execution_count": null,
      "outputs": [
        {
          "output_type": "display_data",
          "data": {
            "text/plain": [
              "<Figure size 432x288 with 1 Axes>"
            ],
            "image/png": "[encoded data removed]"
          },
          "metadata": {
            "needs_background": "light"
          }
        }
      ]
    },
    {
      "cell_type": "code",
      "source": [
        "# 5. Using MiniBatchKMean to cluster\n",
        "# Comparison of the K-Means and MiniBatchKMeans clustering algorithms\n",
        "\n",
        "k = 4\n",
        "kmeans = MiniBatchKMeans(n_clusters = k)\n",
        "kmeans.fit(tfidf)\n",
        "centers = kmeans.cluster_centers_.argsort()[:,::-1]\n",
        "terms = vector.get_feature_names()\n",
        "\n",
        "for i in range(0,k):\n",
        "    word_list=[]\n",
        "    print(\"cluster%d:\"% i)\n",
        "    for j in centers[i,:15]:\n",
        "        word_list.append(terms[j])\n",
        "    print(word_list) "
      ],
      "metadata": {
        "colab": {
          "base_uri": "https://localhost:8080/"
        },
        "id": "USaquSDtsFTw",
        "outputId": "e56a0c0c-1e70-428f-82fc-0ee5521f6e24"
      },
      "execution_count": null,
      "outputs": [
        {
          "output_type": "stream",
          "name": "stdout",
          "text": [
            "cluster0:\n",
            "['covid', 'copd', 'mom', 'got', 'home', 'hospital', 'dad', 'mask', 'old', 'years', 'positive', 'time', 'year', 'people', 'tested']\n",
            "cluster1:\n",
            "['asthma', 'copd', 'disease', 'chronic', 'obstructive', 'lung', 'pulmonary', 'used', 'patients', 'respiratory', 'treat', 'treatment', 'diseases', 'bronchitis', 'rotacaps']\n",
            "cluster2:\n",
            "['copd', 'help', 'patients', 'disease', 'lung', 'pulmonary', 'people', 'health', 'study', 'smoking', 'chronic', 'risk', 'new', 'care', 'like']\n",
            "cluster3:\n",
            "['know', 'living', 'copd', 'youtube', 'people', 'lung', 'like', 'let', 'need', 'conditions', 'disease', 'fiberglass', 'friends', 'asthma', 'support']\n"
          ]
        },
        {
          "output_type": "stream",
          "name": "stderr",
          "text": [
            "/usr/local/lib/python3.7/dist-packages/sklearn/utils/deprecation.py:87: FutureWarning: Function get_feature_names is deprecated; get_feature_names is deprecated in 1.0 and will be removed in 1.2. Please use get_feature_names_out instead.\n",
            "  warnings.warn(msg, category=FutureWarning)\n"
          ]
        }
      ]
    },
    {
      "cell_type": "code",
      "source": [
        "# 7. Topic modeling\n",
        "\n",
        "# Here I use NMF instead of LDA because LDA's calculation is time-consuming.\n",
        "\n",
        "# The major topics consist of politics, society, finance and internetional affairs, which is quite similiar to our cluster resu\n",
        "\n",
        "from sklearn.decomposition import NMF\n",
        "\n",
        "nmf  = NMF(n_components = 4)\n",
        "nmf.fit(tfidf)\n",
        "for i in range(0,k):\n",
        "    word_list=[]\n",
        "    print(\"Topic%d:\"% i)\n",
        "    for j in nmf.components_.argsort()[i,-16:-1]:\n",
        "        word_list.append(terms[j])\n",
        "    print(word_list)"
      ],
      "metadata": {
        "colab": {
          "base_uri": "https://localhost:8080/"
        },
        "id": "2LdoButvsjqS",
        "outputId": "b300a2a2-365a-4c28-e98d-d8eca92321f1"
      },
      "execution_count": null,
      "outputs": [
        {
          "output_type": "stream",
          "name": "stderr",
          "text": [
            "/usr/local/lib/python3.7/dist-packages/sklearn/decomposition/_nmf.py:294: FutureWarning: The 'init' value, when 'init=None' and n_components is less than n_samples and n_features, will be changed from 'nndsvd' to 'nndsvda' in 1.1 (renaming of 0.26).\n",
            "  FutureWarning,\n"
          ]
        },
        {
          "output_type": "stream",
          "name": "stdout",
          "text": [
            "Topic0:\n",
            "['learn', 'today', 'risk', 'new', 'care', 'know', 'like', 'cancer', 'patients', 'health', 'asthma', 'lung', 'people', 'help', 'covid']\n",
            "Topic1:\n",
            "['cancer', 'common', 'causes', 'heart', 'rehabilitation', 'respiratory', 'copd', 'smoking', 'bronchitis', 'emphysema', 'diseases', 'lung', 'obstructive', 'pulmonary', 'disease']\n",
            "Topic2:\n",
            "['rotahaler', 'tiova', 'device', 'capsules', 'dry', 'treat', 'inhalation', 'approves', 'powder', 'cipla', 'symbicort', 'treatment', 'fda', 'generic', 'rotacaps']\n",
            "Topic3:\n",
            "['rotacaps', 'disease', 'obstructive', 'treat', 'patients', 'years', 'airway', 'older', 'age', 'prevent', 'reversible', 'prevention', 'asthalin', 'bronchospasm', 'inhaler']\n"
          ]
        }
      ]
    },
    {
      "cell_type": "markdown",
      "metadata": {
        "id": "IkEKtJ2bT2iq"
      },
      "source": [
        "## Determine time evolution of tweets"
      ]
    },
    {
      "cell_type": "code",
      "execution_count": null,
      "metadata": {
        "id": "JEG1BK9lT2iq"
      },
      "outputs": [],
      "source": [
        "# extract all document-topic distritbutions to dictionnary\n",
        "# document_key = list(tweet_df.date)\n",
        "document_topic = {}"
      ]
    },
    {
      "cell_type": "code",
      "execution_count": null,
      "metadata": {
        "id": "cxD0sEMZT2iq"
      },
      "outputs": [],
      "source": [
        "for doc_id in range(len(corpus)):\n",
        "    docbok = corpus[doc_id]\n",
        "    doc_topics = tweet_topics.get_document_topics(docbok, 0)\n",
        "    tmp = []\n",
        "    for topic_id, topic_prob in doc_topics:\n",
        "        tmp.append(topic_prob)\n",
        "    document_topic[document_key[doc_id]] = tmp"
      ]
    },
    {
      "cell_type": "code",
      "execution_count": null,
      "metadata": {
        "id": "OwvL29PxT2iq"
      },
      "outputs": [],
      "source": [
        "df = pd.DataFrame.from_dict(document_topic, orient='index')"
      ]
    },
    {
      "cell_type": "code",
      "execution_count": null,
      "metadata": {
        "id": "PtOYoWfXT2ir"
      },
      "outputs": [],
      "source": [
        "df.columns = [\"Nuclear\", \"Professor_Crime\", \"Thaler_Nobel\", \"Cancer_Research\", \"Unionization\", \"Evening_Program\", \"Zimmer_FreeSpeech\"]"
      ]
    },
    {
      "cell_type": "code",
      "execution_count": null,
      "metadata": {
        "id": "r8dINQdCT2ir"
      },
      "outputs": [],
      "source": [
        "df.head(5)"
      ]
    },
    {
      "cell_type": "code",
      "execution_count": null,
      "metadata": {
        "id": "yj9ZueKQT2ir"
      },
      "outputs": [],
      "source": [
        "df.to_csv(\"/Users/Orest/Desktop/Big Data and Text Analytics/FP/timed_tweets.csv\")"
      ]
    },
    {
      "cell_type": "markdown",
      "metadata": {
        "id": "mSRAzV1qT2ir"
      },
      "source": [
        "Graphs are produced with ggplot2 package in R."
      ]
    }
  ],
  "metadata": {
    "colab": {
      "collapsed_sections": [
        "4_1H0LoHYMYP",
        "pcfvdnO_Qyo5",
        "uwXLArfdtAtZ"
      ],
      "name": "English - Twitter LDA TextAnalysis.ipynb",
      "provenance": [],
      "include_colab_link": true
    },
    "kernelspec": {
      "display_name": "Python 3",
      "language": "python",
      "name": "python3"
    },
    "language_info": {
      "codemirror_mode": {
        "name": "ipython",
        "version": 3
      },
      "file_extension": ".py",
      "mimetype": "text/x-python",
      "name": "python",
      "nbconvert_exporter": "python",
      "pygments_lexer": "ipython3",
      "version": "3.6.3"
    }
  },
  "nbformat": 4,
  "nbformat_minor": 0
}