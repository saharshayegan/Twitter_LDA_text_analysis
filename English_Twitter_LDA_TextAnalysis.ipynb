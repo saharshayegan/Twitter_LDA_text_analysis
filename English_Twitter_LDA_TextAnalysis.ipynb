{
  "cells": [
    {
      "cell_type": "markdown",
      "metadata": {
        "id": "view-in-github",
        "colab_type": "text"
      },
      "source": [
        "<a href=\"https://colab.research.google.com/github/saharshayegan/Twitter_LDA_text_analysis/blob/main/English_Twitter_LDA_TextAnalysis.ipynb\" target=\"_parent\"><img src=\"https://colab.research.google.com/assets/colab-badge.svg\" alt=\"Open In Colab\"/></a>"
      ]
    },
    {
      "cell_type": "code",
      "execution_count": 11,
      "metadata": {
        "colab": {
          "base_uri": "https://localhost:8080/"
        },
        "id": "o5es5hLjBZem",
        "outputId": "3174acda-6e88-4fde-f055-1c17cc0be5cd"
      },
      "outputs": [
        {
          "output_type": "stream",
          "name": "stdout",
          "text": [
            "Looking in indexes: https://pypi.org/simple, https://us-python.pkg.dev/colab-wheels/public/simple/\n",
            "Requirement already satisfied: pandas==1.2 in /usr/local/lib/python3.7/dist-packages (1.2.0)\n",
            "Requirement already satisfied: python-dateutil>=2.7.3 in /usr/local/lib/python3.7/dist-packages (from pandas==1.2) (2.8.2)\n",
            "Requirement already satisfied: numpy>=1.16.5 in /usr/local/lib/python3.7/dist-packages (from pandas==1.2) (1.21.6)\n",
            "Requirement already satisfied: pytz>=2017.3 in /usr/local/lib/python3.7/dist-packages (from pandas==1.2) (2022.1)\n",
            "Requirement already satisfied: six>=1.5 in /usr/local/lib/python3.7/dist-packages (from python-dateutil>=2.7.3->pandas==1.2) (1.15.0)\n",
            "Looking in indexes: https://pypi.org/simple, https://us-python.pkg.dev/colab-wheels/public/simple/\n",
            "Requirement already satisfied: gensim in /usr/local/lib/python3.7/dist-packages (4.2.0)\n",
            "Requirement already satisfied: numpy>=1.17.0 in /usr/local/lib/python3.7/dist-packages (from gensim) (1.21.6)\n",
            "Requirement already satisfied: smart-open>=1.8.1 in /usr/local/lib/python3.7/dist-packages (from gensim) (5.2.1)\n",
            "Requirement already satisfied: scipy>=0.18.1 in /usr/local/lib/python3.7/dist-packages (from gensim) (1.4.1)\n"
          ]
        }
      ],
      "source": [
        "#Run this and reset the runtime. Then proceed.\n",
        "!pip install --upgrade pandas==1.2\n",
        "!pip install -U gensim"
      ]
    },
    {
      "cell_type": "markdown",
      "metadata": {
        "id": "rycwxZP_XS4S"
      },
      "source": [
        "## Installing and importing"
      ]
    },
    {
      "cell_type": "code",
      "execution_count": 1,
      "metadata": {
        "id": "OFV49k6wT2iW"
      },
      "outputs": [],
      "source": [
        "import pandas as pd\n",
        "import re\n",
        "from nltk.corpus import stopwords\n",
        "\n",
        "from gensim.parsing.preprocessing import STOPWORDS\n",
        "from gensim.utils import simple_preprocess\n",
        "from gensim.models import TfidfModel, LsiModel\n",
        "from gensim.models.ldamodel import LdaModel\n",
        "from gensim import corpora\n",
        "from gensim import matutils\n",
        "\n",
        "from collections import defaultdict\n",
        "import pickle"
      ]
    },
    {
      "cell_type": "code",
      "execution_count": 2,
      "metadata": {
        "colab": {
          "base_uri": "https://localhost:8080/"
        },
        "id": "SkEAOc48jS3h",
        "outputId": "d4ae9acb-cdca-4bee-eddb-4af024dfe55e"
      },
      "outputs": [
        {
          "output_type": "stream",
          "name": "stdout",
          "text": [
            "Drive already mounted at /content/drive; to attempt to forcibly remount, call drive.mount(\"/content/drive\", force_remount=True).\n"
          ]
        }
      ],
      "source": [
        "from google.colab import drive\n",
        "drive.mount('/content/drive')"
      ]
    },
    {
      "cell_type": "code",
      "execution_count": 3,
      "metadata": {
        "id": "7RQDlG0RDdIx"
      },
      "outputs": [],
      "source": [
        "### Installing Stuff"
      ]
    },
    {
      "cell_type": "code",
      "execution_count": null,
      "metadata": {
        "id": "BTgSGR_pf0g-"
      },
      "outputs": [],
      "source": [
        "# Package is in detached-head mode. Clone from Github, commit latest changes and run setup.py\n",
        "! git clone https://github.com/bmabey/pyLDAvis\n",
        "%cd pyLDAvis\n",
        "! python setup.py build\n",
        "! python setup.py install\n",
        "%cd .."
      ]
    },
    {
      "cell_type": "code",
      "execution_count": null,
      "metadata": {
        "id": "k_ne_VwwWydi"
      },
      "outputs": [],
      "source": [
        "! python3.7 -m pip install funcy\n",
        "! pip install funcy\n",
        "import sys\n",
        "sys.path.insert(0,'/usr/local/lib/python3.7/dist-packages/funcy-1.17-py3.7.egg')\n",
        "import funcy\n",
        "# !pip install --upgrade pandas==1.2\n",
        "\n",
        "\n",
        "import nltk\n",
        "nltk.download('stopwords')\n",
        "nltk.download('punkt')\n",
        "nltk.download('wordnet')"
      ]
    },
    {
      "cell_type": "code",
      "execution_count": 6,
      "metadata": {
        "colab": {
          "base_uri": "https://localhost:8080/"
        },
        "id": "kwfoT8vMRiqd",
        "outputId": "bff8b410-ebb1-48c6-db99-e35c6b844adc"
      },
      "outputs": [
        {
          "output_type": "stream",
          "name": "stderr",
          "text": [
            "/usr/local/lib/python3.7/dist-packages/past/types/oldstr.py:5: DeprecationWarning: Using or importing the ABCs from 'collections' instead of from 'collections.abc' is deprecated since Python 3.3,and in 3.9 it will stop working\n",
            "  from collections import Iterable\n",
            "/usr/local/lib/python3.7/dist-packages/past/builtins/misc.py:4: DeprecationWarning: Using or importing the ABCs from 'collections' instead of from 'collections.abc' is deprecated since Python 3.3,and in 3.9 it will stop working\n",
            "  from collections import Mapping\n"
          ]
        }
      ],
      "source": [
        "import pyLDAvis.gensim_models as gensimvis"
      ]
    },
    {
      "cell_type": "markdown",
      "metadata": {
        "id": "yneaQqmoXXuR"
      },
      "source": [
        "## Base"
      ]
    },
    {
      "cell_type": "code",
      "execution_count": 11,
      "metadata": {
        "id": "HWiX7DCz2AJJ",
        "colab": {
          "base_uri": "https://localhost:8080/"
        },
        "outputId": "10fa3574-ee5b-4bdd-aa76-5f45cfc1d523"
      },
      "outputs": [
        {
          "output_type": "stream",
          "name": "stdout",
          "text": [
            "['COPD', 'Diabetes', 'Arthritis', 'Obesity', 'Migraine', 'Heart Diseases', 'Asthma', 'Depression', 'PTSD', 'Cancer']\n"
          ]
        },
        {
          "output_type": "execute_result",
          "data": {
            "text/plain": [
              "['COPD',\n",
              " 'Diabetes',\n",
              " 'Arthritis',\n",
              " 'Obesity',\n",
              " 'Migraine',\n",
              " 'Heart Diseases',\n",
              " 'Asthma',\n",
              " 'Depression',\n",
              " 'PTSD',\n",
              " 'Cancer']"
            ]
          },
          "metadata": {},
          "execution_count": 11
        }
      ],
      "source": [
        "import pandas as pd\n",
        "\n",
        "filename= \"/content/drive/MyDrive/Colab Notebooks/thesis/diseases.txt\"\n",
        "with open(filename) as f:\n",
        "    diseases = [line.rstrip() for line in f]\n",
        "print(diseases)\n",
        "\n",
        "path = r'/content/drive/MyDrive/Colab Notebooks/thesis/' # use your path\n",
        "\n",
        "# diseases "
      ]
    },
    {
      "cell_type": "code",
      "source": [
        "diseases.append('cardiovascular')"
      ],
      "metadata": {
        "id": "mzvejmQRxITo"
      },
      "execution_count": 12,
      "outputs": []
    },
    {
      "cell_type": "code",
      "source": [
        "diseases.remove('Heart Diseases')"
      ],
      "metadata": {
        "id": "Sfw1CU8YcC5H"
      },
      "execution_count": 15,
      "outputs": []
    },
    {
      "cell_type": "code",
      "source": [
        "diseases"
      ],
      "metadata": {
        "colab": {
          "base_uri": "https://localhost:8080/"
        },
        "id": "IwSs8lbKcPaK",
        "outputId": "c43b5f15-c1b7-4522-c630-0438ee02ad85"
      },
      "execution_count": 16,
      "outputs": [
        {
          "output_type": "execute_result",
          "data": {
            "text/plain": [
              "['COPD',\n",
              " 'Diabetes',\n",
              " 'Arthritis',\n",
              " 'Obesity',\n",
              " 'Migraine',\n",
              " 'Asthma',\n",
              " 'Depression',\n",
              " 'PTSD',\n",
              " 'Cancer',\n",
              " 'cardiovascular']"
            ]
          },
          "metadata": {},
          "execution_count": 16
        }
      ]
    },
    {
      "cell_type": "markdown",
      "metadata": {
        "id": "Nvc_YBHOT2ih"
      },
      "source": [
        "## Text preparation/cleanup for analysis"
      ]
    },
    {
      "cell_type": "code",
      "execution_count": null,
      "metadata": {
        "id": "lZBhRsfBIzyv",
        "colab": {
          "base_uri": "https://localhost:8080/"
        },
        "outputId": "9cd5569e-9b8f-4ed2-b9b3-5c7ca11ccd7e"
      },
      "outputs": [
        {
          "output_type": "stream",
          "name": "stdout",
          "text": [
            "cardiovascular\n",
            "Text is cleaned\n"
          ]
        }
      ],
      "source": [
        "# I've run this before. don't run it again.\n",
        "for disease in diseases:\n",
        "  print(disease)\n",
        "  df = pd.read_csv(path+disease+'_tweets.csv', index_col=None, header=0)\n",
        "  tweet_list_raw = df['Text'].tolist()\n",
        "  # Text cleaning\n",
        "  # Remove http\n",
        "  link_pttrn = r\"http\\S+\"\n",
        "  tweet_list = [re.sub(link_pttrn, \"\", tweet) for tweet in tweet_list_raw]\n",
        "\n",
        "  # Remove non-letter sequences\n",
        "  nl_pttrn = r\"[^a-zA-Z']+\"\n",
        "  tweet_list = [re.sub(nl_pttrn, \" \", tweet) for tweet in tweet_list]\n",
        "\n",
        "  # Lower case\n",
        "  tweet_list = [tweet.lower() for tweet in tweet_list]\n",
        "\n",
        "  # Remove white space at beginning and end of document\n",
        "  ws_pttrn = r\"(^ | $)\"\n",
        "  tweet_list = [re.sub(ws_pttrn, \"\", tweet) for tweet in tweet_list]\n",
        "  # tweet_list[10:20]\n",
        "  # Pre-processing\n",
        "  # print(tweet_list_raw[501])\n",
        "  # Post-processing\n",
        "  # print(tweet_list[501])\n",
        "\n",
        "\n",
        "  import nltk\n",
        "  # STOPWORDS\n",
        "  nltk_stop_words = set(stopwords.words(\"english\"))\n",
        "  def tokenize(tweet):\n",
        "      return [token for token in simple_preprocess(tweet) if token not in nltk_stop_words]\n",
        "  tweets = [tokenize(tweet) for tweet in tweet_list]\n",
        "  tweets\n",
        "  tweets[501]\n",
        "  frequency = defaultdict(int)\n",
        "  for tweet in tweets:\n",
        "      for token in tweet:\n",
        "          frequency[token] += 1\n",
        "  freq_series = pd.Series(frequency)\n",
        "  # freq_series.sort_values(ascending=False)[0:10]\n",
        "  days = ['mon','tue','wed','thu','fri','sat','sun']\n",
        "  months = ['jan', 'feb', 'mar','apr','may','jun',\\\n",
        "          'jul', 'aug', 'sep', 'oct', 'nov', 'dec']\n",
        "\n",
        "  irrel = [\"rt\", \"amp\"]\n",
        "  uncommon_words = [w[0] for w in frequency.items() if w[1]<5]\n",
        "  two_letter = [w[0] for w in frequency.items() if len(w[0])< 3]\n",
        "\n",
        "  removed = uncommon_words + two_letter +days + months + irrel  \n",
        "  print('Text is cleaned')\n",
        "\n",
        "  # Process does take about 10-15 minutes, so the output is saved and loaded\n",
        "  tweets_clean = [[token for token in tweet if token not in removed] for tweet in tweets]\n",
        "  tweets_clean[501]\n",
        "  pickle_out = open(path+disease+\"_clean_final.pickle\", \"wb\")\n",
        "  pickle.dump(tweets_clean, pickle_out)\n",
        "  pickle_out.close()"
      ]
    },
    {
      "cell_type": "markdown",
      "metadata": {
        "id": "eUFTbSMSXeGG"
      },
      "source": [
        "## LDA and Visualization"
      ]
    },
    {
      "cell_type": "markdown",
      "metadata": {
        "id": "LNX31xPrT-8d"
      },
      "source": [
        "### The LDA and Visualize methods"
      ]
    },
    {
      "cell_type": "code",
      "execution_count": 17,
      "metadata": {
        "id": "D8thtablP4we"
      },
      "outputs": [],
      "source": [
        "def run_lda(corpus, dictionary, clusters,path,disease):\n",
        "  # Runtime about 5 mins\n",
        "  print('Trying to run the models')\n",
        "  tweet_topics = LdaModel(corpus = corpus,\n",
        "                        id2word = dictionary,\n",
        "                        num_topics = clusters,\n",
        "                        passes= 10)\n",
        "  pickle_out2 = open(path+disease+\"_ffinalmodel_{}clusters_split.pickle\".format(clusters), \"wb\")\n",
        "  pickle.dump(tweet_topics, pickle_out2)\n",
        "  pickle_out2.close()\n",
        "  return tweet_topics"
      ]
    },
    {
      "cell_type": "code",
      "execution_count": 18,
      "metadata": {
        "id": "w6NLButRQsGJ"
      },
      "outputs": [],
      "source": [
        "def visualize(tweet_topics, corpus, dictionary, clusters, path, disease):\n",
        "  ### Visualizing\n",
        "  vis_data = gensimvis.prepare(tweet_topics, corpus, dictionary)\n",
        "  # print(vis_data)\n",
        "  file = open(path+disease+'_twitter-LDA_{}clusters_split.txt'.format(clusters), 'w')\n",
        "  file.write(str(vis_data))\n",
        "  file.close()\n",
        "  import pyLDAvis\n",
        "  pyLDAvis.display(vis_data)\n",
        "  pyLDAvis.save_html(vis_data, path+disease+'_twitter-LDA_{}clusters_split.html'.format(clusters))"
      ]
    },
    {
      "cell_type": "code",
      "source": [
        "#  'COPD' 8\n",
        "#  'Diabetes' 8\n",
        "#  'Arthritis' 8\n",
        "#  'Obesity' 6\n",
        "#  'Migraine' 8\n",
        "#  'Asthma' 8\n",
        "#  'Depression' 8\n",
        "#  'PTSD' 8\n",
        "#  'Cancer' 8\n",
        "#  'cardiovascular' 7\n",
        "\n",
        "import pickle\n",
        "\n",
        "disease = 'cardiovascular'\n",
        "clusters = 7\n",
        "lda_model = pickle.load(open(path+disease+\"_ffinalmodel_{}clusters_split.pickle\".format(clusters), 'rb'))\n",
        "\n",
        "l = lda_model.show_topics(num_words = 20, formatted = False)\n",
        "counter = 1\n",
        "for tup in l:\n",
        "  print(counter)\n",
        "  for pair in tup[1]:\n",
        "    print(pair[0], end=', ')\n",
        "  counter +=1\n",
        "  print()\n",
        "print()"
      ],
      "metadata": {
        "id": "-cHraLgs_SA3",
        "colab": {
          "base_uri": "https://localhost:8080/"
        },
        "outputId": "62f9c92a-66bf-4a46-dd84-22d61e5adcc5"
      },
      "execution_count": null,
      "outputs": [
        {
          "output_type": "stream",
          "name": "stdout",
          "text": [
            "1\n",
            "cardiovascular, covid, long, risk, term, health, disease, new, cardiology, support, cocoa, outcomes, shows, clinical, study, time, heart, post, systems, even, \n",
            "2\n",
            "cardiovascular, disease, training, covid, health, reducing, lab, via, testing, director, program, high, across, biomarkers, people, common, vaccine, work, support, lipoprotein, \n",
            "3\n",
            "cardiovascular, health, disease, heart, risk, blood, research, study, help, diseases, new, benefits, improve, healthy, reduce, exercise, know, many, lower, system, \n",
            "4\n",
            "cardiovascular, heart, disease, risk, health, death, blood, covid, increased, stroke, diseases, people, system, cause, year, one, infection, study, cancer, sleep, \n",
            "5\n",
            "cardiovascular, risk, disease, patients, diabetes, new, associated, study, type, mortality, diseases, problems, cancer, analysis, factors, review, research, events, treatment, major, \n",
            "6\n",
            "cardiovascular, fitness, strength, today, heart, age, women, get, health, day, muscle, body, workout, endurance, cardio, read, great, exercise, every, take, \n",
            "7\n",
            "cardiovascular, research, care, surgery, join, medicine, disease, today, march, cardiology, register, medical, diseases, system, looking, job, latest, institute, first, prevention, \n",
            "\n"
          ]
        }
      ]
    },
    {
      "cell_type": "markdown",
      "metadata": {
        "id": "Hgk7c2KfYJKw"
      },
      "source": [
        "### For each topic:"
      ]
    },
    {
      "cell_type": "code",
      "source": [
        "# train, test = train_test_split(df, test_size=0.2)"
      ],
      "metadata": {
        "id": "jfwgOGh9e5Kr"
      },
      "execution_count": null,
      "outputs": []
    },
    {
      "cell_type": "code",
      "source": [
        "from sklearn.model_selection import train_test_split\n",
        "\n",
        "for disease in diseases:\n",
        "  tweets_clean = pickle.load(open(path+disease+\"_clean_final.pickle\", \"rb\" ) )\n",
        "\n",
        "  train, test = train_test_split(tweets_clean, test_size=0.2)\n",
        "\n",
        "  pickle_out = open(path+disease+\"_clean_final_train.pickle\", \"wb\")\n",
        "  pickle.dump(train, pickle_out)\n",
        "  pickle_out.close()\n",
        "\n",
        "  pickle_out = open(path+disease+\"_clean_final_test.pickle\", \"wb\")\n",
        "  pickle.dump(train, pickle_out)\n",
        "  pickle_out.close()"
      ],
      "metadata": {
        "id": "X3xZet4Zhw_Z"
      },
      "execution_count": 21,
      "outputs": []
    },
    {
      "cell_type": "code",
      "execution_count": null,
      "metadata": {
        "id": "X0rHwRT-T2ih"
      },
      "outputs": [],
      "source": [
        "import pickle\n",
        "\n",
        "for disease in diseases:\n",
        "  train =  pickle.load(open(path+disease+\"_clean_final_train.pickle\", \"rb\" ))\n",
        "  tweets_clean = train\n",
        "\n",
        "  dictionary = corpora.Dictionary(tweets_clean)\n",
        "  corpus = [dictionary.doc2bow(tweet) for tweet in tweets_clean]\n",
        "\n",
        "\n",
        "  #Run batch LDA and cross fingers\n",
        "  for clusters in range(7,10):\n",
        "    run_lda(corpus, dictionary, clusters,path,disease)\n",
        "\n",
        "    tweet_topics = pickle.load(open(path+disease+\"_ffinalmodel_{}clusters_split.pickle\".format(clusters), \"rb\" ) )\n",
        "    for i, topic in enumerate(tweet_topics.print_topics(15)):\n",
        "        print (i, topic)\n",
        "\n",
        "    ### Visualizing\n",
        "    visualize(tweet_topics, corpus, dictionary, clusters, path, disease)\n"
      ]
    },
    {
      "cell_type": "code",
      "source": [
        "import math\n",
        "import matplotlib.pyplot as plt\n",
        "import numpy as np\n",
        "\n",
        "for disease in diseases:\n",
        "  test =  pickle.load(open(path+disease+\"_clean_final_train.pickle\", \"rb\" ))\n",
        "  tweets_clean = test\n",
        "  dictionary = corpora.Dictionary(tweets_clean)\n",
        "  corpus = [dictionary.doc2bow(tweet) for tweet in tweets_clean]\n",
        "\n",
        "  perplexity = []\n",
        "  for clusters in range(2,10):\n",
        "    lda_model = pickle.load(open(path+disease+\"_ffinalmodel_{}clusters_split.pickle\".format(clusters), \"rb\" ) )\n",
        "    perplexity.append(math.exp(lda_model.log_perplexity(corpus)))\n",
        "  print(perplexity)\n",
        "\n",
        "  fig, ax = plt.subplots()\n",
        "  ax.plot(range(2,10), perplexity, linewidth=2.0, color='g')\n",
        "  ax.set(xlim=(2, 9), xticks=np.arange(2, 10),\n",
        "          ylim=(min(perplexity)*0.98, max(perplexity)*1.02))\n",
        "  plt.title(disease+'- Perplexity of Train Set')\n",
        "  plt.xlabel(\"Clusters\")\n",
        "  plt.ylabel(\"Perplexity\")\n",
        "  plt.grid()\n",
        "  plt.savefig(path+disease+\"_fig_train.png\")\n",
        "  plt.show()"
      ],
      "metadata": {
        "id": "ZZDaRmpnzeak"
      },
      "execution_count": null,
      "outputs": []
    },
    {
      "cell_type": "code",
      "source": [
        "perplexity"
      ],
      "metadata": {
        "id": "Pw6Pz5rYzyLt"
      },
      "execution_count": null,
      "outputs": []
    },
    {
      "cell_type": "code",
      "execution_count": null,
      "metadata": {
        "colab": {
          "background_save": true
        },
        "id": "s4Bd_pkyVb3T"
      },
      "outputs": [],
      "source": [
        "print(perplexity)"
      ]
    },
    {
      "cell_type": "code",
      "source": [
        ""
      ],
      "metadata": {
        "id": "ht2a3pMMNShS"
      },
      "execution_count": null,
      "outputs": []
    },
    {
      "cell_type": "markdown",
      "metadata": {
        "id": "4_1H0LoHYMYP"
      },
      "source": [
        "### For all topics together"
      ]
    },
    {
      "cell_type": "code",
      "execution_count": null,
      "metadata": {
        "id": "fIlKLmBXO4c4"
      },
      "outputs": [],
      "source": [
        "import pandas as pd\n",
        "import pickle\n",
        "\n",
        "path = r'/content/drive/MyDrive/Colab Notebooks/thesis/' # use your path\n",
        "\n",
        "all_tweets = []\n",
        "\n",
        "for disease in diseases:\n",
        "  tweets = pickle.load(open(path+disease+\"_clean_final.pickle\", \"rb\" ) )\n",
        "  all_tweets+= tweets\n",
        "\n",
        "dictionary = corpora.Dictionary(all_tweets)\n",
        "corpus = [dictionary.doc2bow(tweet) for tweet in all_tweets]\n",
        "clusters = 6\n",
        "\n",
        "lda_model = run_lda(corpus, dictionary, clusters,path,'all')\n",
        "\n",
        "visualize(lda_model, corpus, dictionary, clusters, path, 'all')"
      ]
    },
    {
      "cell_type": "markdown",
      "source": [
        "### Predicting"
      ],
      "metadata": {
        "id": "oPw4VevpNT1G"
      }
    },
    {
      "cell_type": "code",
      "source": [
        ""
      ],
      "metadata": {
        "id": "uOWhv5xEcKdn"
      },
      "execution_count": null,
      "outputs": []
    },
    {
      "cell_type": "code",
      "source": [
        "#  predicting new text which is in text dataframe  \n",
        "disease = 'COPD'\n",
        "clusters = 8\n",
        "\n",
        "tweets_clean =  pickle.load(open(path+disease+\"_clean_final.pickle\", \"rb\" ))\n",
        "dictionary = corpora.Dictionary(tweets_clean)\n",
        "corpus = [dictionary.doc2bow(tweet) for tweet in tweets_clean]\n",
        "ldamodel = pickle.load(open(path+disease+\"_ffinalmodel_{}clusters_split.pickle\".format(clusters), \"rb\" ) )\n",
        "tops = ldamodel.get_document_topics(corpus)\n",
        "\n",
        "\n",
        "topic_probability = []\n",
        "for t in tops:\n",
        "  new_t = [0]*clusters\n",
        "  for tup in t:\n",
        "    new_t[tup[0]]=tup[1]\n",
        "  topic_probability.append(new_t)\n",
        "\n",
        "columns = []\n",
        "for i in range(0,clusters):\n",
        "  columns.append('Topic {}'.format(i))\n",
        "\n",
        "results_test = pd.DataFrame(topic_probability,columns=columns)\n",
        "\n",
        "results_test.to_csv(path+disease+'_whole_predict_results.csv', index=True, header=True)\n"
      ],
      "metadata": {
        "id": "ZM8_XJPSNWmg"
      },
      "execution_count": 77,
      "outputs": []
    },
    {
      "cell_type": "code",
      "source": [
        "results_test.head()"
      ],
      "metadata": {
        "colab": {
          "base_uri": "https://localhost:8080/",
          "height": 206
        },
        "id": "CTvOZ93Kdoof",
        "outputId": "9af6c4f9-74f9-4422-f73d-6307bc201931"
      },
      "execution_count": 100,
      "outputs": [
        {
          "output_type": "execute_result",
          "data": {
            "text/plain": [
              "    Topic 1   Topic 2   Topic 3   Topic 4   Topic 5   Topic 6   Topic 7  \\\n",
              "0  0.000000  0.000000  0.109530  0.000000  0.100316  0.000000  0.765124   \n",
              "1  0.066815  0.315243  0.000000  0.000000  0.104801  0.268280  0.059902   \n",
              "2  0.000000  0.186702  0.430249  0.000000  0.000000  0.130854  0.227154   \n",
              "3  0.015639  0.140678  0.189685  0.091246  0.015638  0.015638  0.515819   \n",
              "4  0.011370  0.120489  0.115363  0.011370  0.253076  0.137225  0.339728   \n",
              "\n",
              "    Topic 8  \n",
              "0  0.000000  \n",
              "1  0.175324  \n",
              "2  0.000000  \n",
              "3  0.015656  \n",
              "4  0.011379  "
            ],
            "text/html": [
              "\n",
              "  <div id=\"df-149ab99a-c8e9-43b6-bc0e-f37c49ec21ba\">\n",
              "    <div class=\"colab-df-container\">\n",
              "      <div>\n",
              "<style scoped>\n",
              "    .dataframe tbody tr th:only-of-type {\n",
              "        vertical-align: middle;\n",
              "    }\n",
              "\n",
              "    .dataframe tbody tr th {\n",
              "        vertical-align: top;\n",
              "    }\n",
              "\n",
              "    .dataframe thead th {\n",
              "        text-align: right;\n",
              "    }\n",
              "</style>\n",
              "<table border=\"1\" class=\"dataframe\">\n",
              "  <thead>\n",
              "    <tr style=\"text-align: right;\">\n",
              "      <th></th>\n",
              "      <th>Topic 1</th>\n",
              "      <th>Topic 2</th>\n",
              "      <th>Topic 3</th>\n",
              "      <th>Topic 4</th>\n",
              "      <th>Topic 5</th>\n",
              "      <th>Topic 6</th>\n",
              "      <th>Topic 7</th>\n",
              "      <th>Topic 8</th>\n",
              "    </tr>\n",
              "  </thead>\n",
              "  <tbody>\n",
              "    <tr>\n",
              "      <th>0</th>\n",
              "      <td>0.000000</td>\n",
              "      <td>0.000000</td>\n",
              "      <td>0.109530</td>\n",
              "      <td>0.000000</td>\n",
              "      <td>0.100316</td>\n",
              "      <td>0.000000</td>\n",
              "      <td>0.765124</td>\n",
              "      <td>0.000000</td>\n",
              "    </tr>\n",
              "    <tr>\n",
              "      <th>1</th>\n",
              "      <td>0.066815</td>\n",
              "      <td>0.315243</td>\n",
              "      <td>0.000000</td>\n",
              "      <td>0.000000</td>\n",
              "      <td>0.104801</td>\n",
              "      <td>0.268280</td>\n",
              "      <td>0.059902</td>\n",
              "      <td>0.175324</td>\n",
              "    </tr>\n",
              "    <tr>\n",
              "      <th>2</th>\n",
              "      <td>0.000000</td>\n",
              "      <td>0.186702</td>\n",
              "      <td>0.430249</td>\n",
              "      <td>0.000000</td>\n",
              "      <td>0.000000</td>\n",
              "      <td>0.130854</td>\n",
              "      <td>0.227154</td>\n",
              "      <td>0.000000</td>\n",
              "    </tr>\n",
              "    <tr>\n",
              "      <th>3</th>\n",
              "      <td>0.015639</td>\n",
              "      <td>0.140678</td>\n",
              "      <td>0.189685</td>\n",
              "      <td>0.091246</td>\n",
              "      <td>0.015638</td>\n",
              "      <td>0.015638</td>\n",
              "      <td>0.515819</td>\n",
              "      <td>0.015656</td>\n",
              "    </tr>\n",
              "    <tr>\n",
              "      <th>4</th>\n",
              "      <td>0.011370</td>\n",
              "      <td>0.120489</td>\n",
              "      <td>0.115363</td>\n",
              "      <td>0.011370</td>\n",
              "      <td>0.253076</td>\n",
              "      <td>0.137225</td>\n",
              "      <td>0.339728</td>\n",
              "      <td>0.011379</td>\n",
              "    </tr>\n",
              "  </tbody>\n",
              "</table>\n",
              "</div>\n",
              "      <button class=\"colab-df-convert\" onclick=\"convertToInteractive('df-149ab99a-c8e9-43b6-bc0e-f37c49ec21ba')\"\n",
              "              title=\"Convert this dataframe to an interactive table.\"\n",
              "              style=\"display:none;\">\n",
              "        \n",
              "  <svg xmlns=\"http://www.w3.org/2000/svg\" height=\"24px\"viewBox=\"0 0 24 24\"\n",
              "       width=\"24px\">\n",
              "    <path d=\"M0 0h24v24H0V0z\" fill=\"none\"/>\n",
              "    <path d=\"M18.56 5.44l.94 2.06.94-2.06 2.06-.94-2.06-.94-.94-2.06-.94 2.06-2.06.94zm-11 1L8.5 8.5l.94-2.06 2.06-.94-2.06-.94L8.5 2.5l-.94 2.06-2.06.94zm10 10l.94 2.06.94-2.06 2.06-.94-2.06-.94-.94-2.06-.94 2.06-2.06.94z\"/><path d=\"M17.41 7.96l-1.37-1.37c-.4-.4-.92-.59-1.43-.59-.52 0-1.04.2-1.43.59L10.3 9.45l-7.72 7.72c-.78.78-.78 2.05 0 2.83L4 21.41c.39.39.9.59 1.41.59.51 0 1.02-.2 1.41-.59l7.78-7.78 2.81-2.81c.8-.78.8-2.07 0-2.86zM5.41 20L4 18.59l7.72-7.72 1.47 1.35L5.41 20z\"/>\n",
              "  </svg>\n",
              "      </button>\n",
              "      \n",
              "  <style>\n",
              "    .colab-df-container {\n",
              "      display:flex;\n",
              "      flex-wrap:wrap;\n",
              "      gap: 12px;\n",
              "    }\n",
              "\n",
              "    .colab-df-convert {\n",
              "      background-color: #E8F0FE;\n",
              "      border: none;\n",
              "      border-radius: 50%;\n",
              "      cursor: pointer;\n",
              "      display: none;\n",
              "      fill: #1967D2;\n",
              "      height: 32px;\n",
              "      padding: 0 0 0 0;\n",
              "      width: 32px;\n",
              "    }\n",
              "\n",
              "    .colab-df-convert:hover {\n",
              "      background-color: #E2EBFA;\n",
              "      box-shadow: 0px 1px 2px rgba(60, 64, 67, 0.3), 0px 1px 3px 1px rgba(60, 64, 67, 0.15);\n",
              "      fill: #174EA6;\n",
              "    }\n",
              "\n",
              "    [theme=dark] .colab-df-convert {\n",
              "      background-color: #3B4455;\n",
              "      fill: #D2E3FC;\n",
              "    }\n",
              "\n",
              "    [theme=dark] .colab-df-convert:hover {\n",
              "      background-color: #434B5C;\n",
              "      box-shadow: 0px 1px 3px 1px rgba(0, 0, 0, 0.15);\n",
              "      filter: drop-shadow(0px 1px 2px rgba(0, 0, 0, 0.3));\n",
              "      fill: #FFFFFF;\n",
              "    }\n",
              "  </style>\n",
              "\n",
              "      <script>\n",
              "        const buttonEl =\n",
              "          document.querySelector('#df-149ab99a-c8e9-43b6-bc0e-f37c49ec21ba button.colab-df-convert');\n",
              "        buttonEl.style.display =\n",
              "          google.colab.kernel.accessAllowed ? 'block' : 'none';\n",
              "\n",
              "        async function convertToInteractive(key) {\n",
              "          const element = document.querySelector('#df-149ab99a-c8e9-43b6-bc0e-f37c49ec21ba');\n",
              "          const dataTable =\n",
              "            await google.colab.kernel.invokeFunction('convertToInteractive',\n",
              "                                                     [key], {});\n",
              "          if (!dataTable) return;\n",
              "\n",
              "          const docLinkHtml = 'Like what you see? Visit the ' +\n",
              "            '<a target=\"_blank\" href=https://colab.research.google.com/notebooks/data_table.ipynb>data table notebook</a>'\n",
              "            + ' to learn more about interactive tables.';\n",
              "          element.innerHTML = '';\n",
              "          dataTable['output_type'] = 'display_data';\n",
              "          await google.colab.output.renderOutput(dataTable, element);\n",
              "          const docLink = document.createElement('div');\n",
              "          docLink.innerHTML = docLinkHtml;\n",
              "          element.appendChild(docLink);\n",
              "        }\n",
              "      </script>\n",
              "    </div>\n",
              "  </div>\n",
              "  "
            ]
          },
          "metadata": {},
          "execution_count": 100
        }
      ]
    },
    {
      "cell_type": "code",
      "source": [
        "columns = []\n",
        "for i in range(0,clusters):\n",
        "  columns.append('Topic {}'.format(i+1))\n",
        "\n",
        "print(columns)\n",
        "\n",
        "for column in columns:\n",
        "  print(column)\n",
        "  indices = results_test[results_test[column]!=0].sort_values(by=[column], ascending=False).index\n",
        "  print(len(indices))\n",
        "  from collections import Counter \n",
        "  new_tweets_clean = [tweets_clean[index] for index in indices]\n",
        "  words_count = pd.DataFrame(Counter(c for clist in new_tweets_clean for c in clist).most_common(250))\n",
        "\n",
        "  i = 0\n",
        "  for w in words_count[0]:\n",
        "    if i <20:\n",
        "      print(w,end=', ')\n",
        "    else:\n",
        "      break\n",
        "    i+=1\n",
        "  print()\n"
      ],
      "metadata": {
        "colab": {
          "base_uri": "https://localhost:8080/"
        },
        "id": "VMrVXDOHRHw0",
        "outputId": "763d7038-19d3-4b90-e37e-100e0e3812b5"
      },
      "execution_count": 104,
      "outputs": [
        {
          "output_type": "stream",
          "name": "stdout",
          "text": [
            "['Topic 1', 'Topic 2', 'Topic 3', 'Topic 4', 'Topic 5', 'Topic 6', 'Topic 7', 'Topic 8']\n",
            "Topic 1\n",
            "6748\n",
            "copd, asthma, covid, disease, lung, patients, chronic, pulmonary, people, health, help, respiratory, care, cancer, heart, risk, get, obstructive, lungs, smoking, \n",
            "Topic 2\n",
            "7595\n",
            "copd, asthma, disease, covid, lung, patients, chronic, pulmonary, people, health, respiratory, help, obstructive, treatment, cancer, get, know, care, risk, like, \n",
            "Topic 3\n",
            "6586\n",
            "copd, asthma, covid, disease, lung, patients, pulmonary, people, chronic, health, help, respiratory, get, risk, new, like, care, cancer, smoking, obstructive, \n",
            "Topic 4\n",
            "8096\n",
            "copd, asthma, disease, covid, lung, pulmonary, chronic, patients, respiratory, health, people, obstructive, cancer, help, treatment, like, new, risk, get, smoking, \n",
            "Topic 5\n",
            "6955\n",
            "copd, asthma, disease, lung, covid, chronic, patients, pulmonary, health, people, respiratory, obstructive, cancer, help, get, risk, like, new, treatment, smoking, \n",
            "Topic 6\n",
            "6525\n",
            "copd, patients, asthma, covid, disease, lung, pulmonary, people, chronic, help, health, cancer, obstructive, new, care, respiratory, risk, study, get, like, \n",
            "Topic 7\n",
            "9179\n",
            "copd, asthma, disease, covid, lung, patients, pulmonary, chronic, people, health, respiratory, obstructive, help, cancer, treatment, get, risk, like, care, new, \n",
            "Topic 8\n",
            "7494\n",
            "copd, asthma, disease, covid, lung, chronic, pulmonary, patients, obstructive, people, cancer, health, respiratory, help, treatment, risk, smoking, get, like, new, \n"
          ]
        }
      ]
    },
    {
      "cell_type": "code",
      "source": [
        ""
      ],
      "metadata": {
        "id": "5iLXSc8DTxUh"
      },
      "execution_count": 85,
      "outputs": []
    },
    {
      "cell_type": "code",
      "source": [
        ""
      ],
      "metadata": {
        "colab": {
          "base_uri": "https://localhost:8080/"
        },
        "id": "xjzSLzDFOXxE",
        "outputId": "dfa09734-8c60-4171-e3f5-df3612e938bd"
      },
      "execution_count": 93,
      "outputs": [
        {
          "output_type": "stream",
          "name": "stdout",
          "text": [
            "copd, asthma, disease, covid, lung, patients, pulmonary, chronic, people, health, respiratory, obstructive, help, cancer, treatment, get, risk, like, care, new, "
          ]
        }
      ]
    },
    {
      "cell_type": "code",
      "source": [
        ""
      ],
      "metadata": {
        "colab": {
          "base_uri": "https://localhost:8080/",
          "height": 677
        },
        "id": "Kb3qMrBuPOSH",
        "outputId": "89fed510-20bc-48b3-85c1-e7639ee1cf13"
      },
      "execution_count": 91,
      "outputs": [
        {
          "output_type": "execute_result",
          "data": {
            "text/plain": [
              "              0      1\n",
              "0          copd  10327\n",
              "1        asthma   1961\n",
              "2       disease   1378\n",
              "3         covid   1354\n",
              "4          lung   1209\n",
              "5      patients   1109\n",
              "6     pulmonary   1040\n",
              "7       chronic   1021\n",
              "8        people    817\n",
              "9        health    777\n",
              "10  respiratory    721\n",
              "11  obstructive    676\n",
              "12         help    671\n",
              "13       cancer    661\n",
              "14    treatment    573\n",
              "15          get    552\n",
              "16         risk    529\n",
              "17         like    522\n",
              "18         care    521\n",
              "19          new    518"
            ],
            "text/html": [
              "\n",
              "  <div id=\"df-9e95c306-9f0c-4720-a0f2-a4867d5ef385\">\n",
              "    <div class=\"colab-df-container\">\n",
              "      <div>\n",
              "<style scoped>\n",
              "    .dataframe tbody tr th:only-of-type {\n",
              "        vertical-align: middle;\n",
              "    }\n",
              "\n",
              "    .dataframe tbody tr th {\n",
              "        vertical-align: top;\n",
              "    }\n",
              "\n",
              "    .dataframe thead th {\n",
              "        text-align: right;\n",
              "    }\n",
              "</style>\n",
              "<table border=\"1\" class=\"dataframe\">\n",
              "  <thead>\n",
              "    <tr style=\"text-align: right;\">\n",
              "      <th></th>\n",
              "      <th>0</th>\n",
              "      <th>1</th>\n",
              "    </tr>\n",
              "  </thead>\n",
              "  <tbody>\n",
              "    <tr>\n",
              "      <th>0</th>\n",
              "      <td>copd</td>\n",
              "      <td>10327</td>\n",
              "    </tr>\n",
              "    <tr>\n",
              "      <th>1</th>\n",
              "      <td>asthma</td>\n",
              "      <td>1961</td>\n",
              "    </tr>\n",
              "    <tr>\n",
              "      <th>2</th>\n",
              "      <td>disease</td>\n",
              "      <td>1378</td>\n",
              "    </tr>\n",
              "    <tr>\n",
              "      <th>3</th>\n",
              "      <td>covid</td>\n",
              "      <td>1354</td>\n",
              "    </tr>\n",
              "    <tr>\n",
              "      <th>4</th>\n",
              "      <td>lung</td>\n",
              "      <td>1209</td>\n",
              "    </tr>\n",
              "    <tr>\n",
              "      <th>5</th>\n",
              "      <td>patients</td>\n",
              "      <td>1109</td>\n",
              "    </tr>\n",
              "    <tr>\n",
              "      <th>6</th>\n",
              "      <td>pulmonary</td>\n",
              "      <td>1040</td>\n",
              "    </tr>\n",
              "    <tr>\n",
              "      <th>7</th>\n",
              "      <td>chronic</td>\n",
              "      <td>1021</td>\n",
              "    </tr>\n",
              "    <tr>\n",
              "      <th>8</th>\n",
              "      <td>people</td>\n",
              "      <td>817</td>\n",
              "    </tr>\n",
              "    <tr>\n",
              "      <th>9</th>\n",
              "      <td>health</td>\n",
              "      <td>777</td>\n",
              "    </tr>\n",
              "    <tr>\n",
              "      <th>10</th>\n",
              "      <td>respiratory</td>\n",
              "      <td>721</td>\n",
              "    </tr>\n",
              "    <tr>\n",
              "      <th>11</th>\n",
              "      <td>obstructive</td>\n",
              "      <td>676</td>\n",
              "    </tr>\n",
              "    <tr>\n",
              "      <th>12</th>\n",
              "      <td>help</td>\n",
              "      <td>671</td>\n",
              "    </tr>\n",
              "    <tr>\n",
              "      <th>13</th>\n",
              "      <td>cancer</td>\n",
              "      <td>661</td>\n",
              "    </tr>\n",
              "    <tr>\n",
              "      <th>14</th>\n",
              "      <td>treatment</td>\n",
              "      <td>573</td>\n",
              "    </tr>\n",
              "    <tr>\n",
              "      <th>15</th>\n",
              "      <td>get</td>\n",
              "      <td>552</td>\n",
              "    </tr>\n",
              "    <tr>\n",
              "      <th>16</th>\n",
              "      <td>risk</td>\n",
              "      <td>529</td>\n",
              "    </tr>\n",
              "    <tr>\n",
              "      <th>17</th>\n",
              "      <td>like</td>\n",
              "      <td>522</td>\n",
              "    </tr>\n",
              "    <tr>\n",
              "      <th>18</th>\n",
              "      <td>care</td>\n",
              "      <td>521</td>\n",
              "    </tr>\n",
              "    <tr>\n",
              "      <th>19</th>\n",
              "      <td>new</td>\n",
              "      <td>518</td>\n",
              "    </tr>\n",
              "  </tbody>\n",
              "</table>\n",
              "</div>\n",
              "      <button class=\"colab-df-convert\" onclick=\"convertToInteractive('df-9e95c306-9f0c-4720-a0f2-a4867d5ef385')\"\n",
              "              title=\"Convert this dataframe to an interactive table.\"\n",
              "              style=\"display:none;\">\n",
              "        \n",
              "  <svg xmlns=\"http://www.w3.org/2000/svg\" height=\"24px\"viewBox=\"0 0 24 24\"\n",
              "       width=\"24px\">\n",
              "    <path d=\"M0 0h24v24H0V0z\" fill=\"none\"/>\n",
              "    <path d=\"M18.56 5.44l.94 2.06.94-2.06 2.06-.94-2.06-.94-.94-2.06-.94 2.06-2.06.94zm-11 1L8.5 8.5l.94-2.06 2.06-.94-2.06-.94L8.5 2.5l-.94 2.06-2.06.94zm10 10l.94 2.06.94-2.06 2.06-.94-2.06-.94-.94-2.06-.94 2.06-2.06.94z\"/><path d=\"M17.41 7.96l-1.37-1.37c-.4-.4-.92-.59-1.43-.59-.52 0-1.04.2-1.43.59L10.3 9.45l-7.72 7.72c-.78.78-.78 2.05 0 2.83L4 21.41c.39.39.9.59 1.41.59.51 0 1.02-.2 1.41-.59l7.78-7.78 2.81-2.81c.8-.78.8-2.07 0-2.86zM5.41 20L4 18.59l7.72-7.72 1.47 1.35L5.41 20z\"/>\n",
              "  </svg>\n",
              "      </button>\n",
              "      \n",
              "  <style>\n",
              "    .colab-df-container {\n",
              "      display:flex;\n",
              "      flex-wrap:wrap;\n",
              "      gap: 12px;\n",
              "    }\n",
              "\n",
              "    .colab-df-convert {\n",
              "      background-color: #E8F0FE;\n",
              "      border: none;\n",
              "      border-radius: 50%;\n",
              "      cursor: pointer;\n",
              "      display: none;\n",
              "      fill: #1967D2;\n",
              "      height: 32px;\n",
              "      padding: 0 0 0 0;\n",
              "      width: 32px;\n",
              "    }\n",
              "\n",
              "    .colab-df-convert:hover {\n",
              "      background-color: #E2EBFA;\n",
              "      box-shadow: 0px 1px 2px rgba(60, 64, 67, 0.3), 0px 1px 3px 1px rgba(60, 64, 67, 0.15);\n",
              "      fill: #174EA6;\n",
              "    }\n",
              "\n",
              "    [theme=dark] .colab-df-convert {\n",
              "      background-color: #3B4455;\n",
              "      fill: #D2E3FC;\n",
              "    }\n",
              "\n",
              "    [theme=dark] .colab-df-convert:hover {\n",
              "      background-color: #434B5C;\n",
              "      box-shadow: 0px 1px 3px 1px rgba(0, 0, 0, 0.15);\n",
              "      filter: drop-shadow(0px 1px 2px rgba(0, 0, 0, 0.3));\n",
              "      fill: #FFFFFF;\n",
              "    }\n",
              "  </style>\n",
              "\n",
              "      <script>\n",
              "        const buttonEl =\n",
              "          document.querySelector('#df-9e95c306-9f0c-4720-a0f2-a4867d5ef385 button.colab-df-convert');\n",
              "        buttonEl.style.display =\n",
              "          google.colab.kernel.accessAllowed ? 'block' : 'none';\n",
              "\n",
              "        async function convertToInteractive(key) {\n",
              "          const element = document.querySelector('#df-9e95c306-9f0c-4720-a0f2-a4867d5ef385');\n",
              "          const dataTable =\n",
              "            await google.colab.kernel.invokeFunction('convertToInteractive',\n",
              "                                                     [key], {});\n",
              "          if (!dataTable) return;\n",
              "\n",
              "          const docLinkHtml = 'Like what you see? Visit the ' +\n",
              "            '<a target=\"_blank\" href=https://colab.research.google.com/notebooks/data_table.ipynb>data table notebook</a>'\n",
              "            + ' to learn more about interactive tables.';\n",
              "          element.innerHTML = '';\n",
              "          dataTable['output_type'] = 'display_data';\n",
              "          await google.colab.output.renderOutput(dataTable, element);\n",
              "          const docLink = document.createElement('div');\n",
              "          docLink.innerHTML = docLinkHtml;\n",
              "          element.appendChild(docLink);\n",
              "        }\n",
              "      </script>\n",
              "    </div>\n",
              "  </div>\n",
              "  "
            ]
          },
          "metadata": {},
          "execution_count": 91
        }
      ]
    },
    {
      "cell_type": "code",
      "source": [
        "results_test.shape"
      ],
      "metadata": {
        "colab": {
          "base_uri": "https://localhost:8080/"
        },
        "id": "L_J6nu3xQnTr",
        "outputId": "107ea95b-1cb9-4d41-aaea-052eb791acfe"
      },
      "execution_count": 65,
      "outputs": [
        {
          "output_type": "execute_result",
          "data": {
            "text/plain": [
              "(9191, 8)"
            ]
          },
          "metadata": {},
          "execution_count": 65
        }
      ]
    },
    {
      "cell_type": "code",
      "source": [
        "t"
      ],
      "metadata": {
        "id": "6b-x3r7TQqkn"
      },
      "execution_count": null,
      "outputs": []
    },
    {
      "cell_type": "code",
      "source": [
        "tweets_clean[0]"
      ],
      "metadata": {
        "colab": {
          "base_uri": "https://localhost:8080/"
        },
        "id": "vuxOTMtuOmAh",
        "outputId": "752f0eb6-81d5-4976-91f2-3a31d2857d72"
      },
      "execution_count": 54,
      "outputs": [
        {
          "output_type": "execute_result",
          "data": {
            "text/plain": [
              "['new',\n",
              " 'study',\n",
              " 'atsblueeditor',\n",
              " 'former',\n",
              " 'smokers',\n",
              " 'copd',\n",
              " 'susceptible',\n",
              " 'inflammatory',\n",
              " 'responses',\n",
              " 'short',\n",
              " 'term',\n",
              " 'exposure',\n",
              " 'diesel',\n",
              " 'exhaust',\n",
              " 'former',\n",
              " 'smokers',\n",
              " 'without',\n",
              " 'copd',\n",
              " 'never',\n",
              " 'smokers',\n",
              " 'ryu',\n",
              " 'brighamwomens',\n",
              " 'canrespirresnet',\n",
              " 'vchresearch']"
            ]
          },
          "metadata": {},
          "execution_count": 54
        }
      ]
    },
    {
      "cell_type": "markdown",
      "metadata": {
        "id": "pcfvdnO_Qyo5"
      },
      "source": [
        "# TFIDF\n"
      ]
    },
    {
      "cell_type": "markdown",
      "source": [
        "### YOU NEED TEST AND TRAIN DATA."
      ],
      "metadata": {
        "id": "uwXLArfdtAtZ"
      }
    },
    {
      "cell_type": "code",
      "execution_count": null,
      "metadata": {
        "id": "75jx6QsPQ2l_",
        "colab": {
          "base_uri": "https://localhost:8080/"
        },
        "outputId": "bc927a66-2fa4-4f88-8a2d-b9d87e939d25"
      },
      "outputs": [
        {
          "output_type": "stream",
          "name": "stdout",
          "text": [
            "['pulm wtchp cce stony brook first responder medical records drs notes discussing social history smoker smoker copd last yrs wrote many final reports shared ', 'would say prayer father triple year ago still dealing severe nerve pain also copd broke rib coughing prayers definitely needed tired seeing dad much pain ', 'airway clinical research center research programs asthma copd sarcoidosis cystic fibrosis along current programs sponsored nih pharmaceutical industry position ', 'differentiating asthma copd imaging machine pulmonology machinelearning ', 'clinical implications bronchodilator testing diagnosing differentiating copd asthma copd overlap ', 'chronic depression high blood pressure chronic asthma bronchitis copd alot ', 'person copd feels self conscious bringing oxygen hearts child best way strike conversation daughter law ', 'able walk around easier another days back able get things done remember much last week except hell plus finally quit smoking days never period scary shit covid copd hell ', 'many encourage giving offering gift learn make difference supporting copd foundation workplace giving programs visit copd donate copdfoundation ', 'pollution puts lung ailments like asthma copd greater risk still everyone exposed deadly smoke wildfires set climate wildfires ']\n"
          ]
        }
      ],
      "source": [
        "import pickle\n",
        "import numpy as np\n",
        "import pandas as pd \n",
        "from sklearn.cluster import MiniBatchKMeans\n",
        "from sklearn.feature_extraction.text import TfidfVectorizer\n",
        "\n",
        "for disease in ['COPD']:#diseases:\n",
        "  tweets_clean = pickle.load(open(path+disease+\"_clean_final.pickle\", \"rb\" ) )\n",
        "\n",
        "  # You need to change the cleaning process. \n",
        "  # or concatinate the tokens to create the entences. \n",
        "  # this will not work with tokens. it gets a column of sentences in your df.\n",
        "  text_content = tweets_clean\n",
        "  for i in range(len(text_content)):\n",
        "    s = ''\n",
        "    for token in text_content[i]:\n",
        "      s += token + ' '\n",
        "    text_content[i] = s\n",
        "  vector = TfidfVectorizer(stop_words = 'english') #Dont need stop words\n",
        "  tfidf = vector.fit_transform(text_content)\n",
        "  print(text_content[0:10])"
      ]
    },
    {
      "cell_type": "code",
      "source": [
        "## YOU SHOULD ALSO DO ALL THE REST FOR EACH TOPIC\n",
        "\n",
        "# 3. Using elbow method to decide cluster number\n",
        "# Introduction to elbow method\n",
        "\n",
        "K = range(1,15)\n",
        "SSE = []\n",
        "for k in K:\n",
        "    kmeans = MiniBatchKMeans(n_clusters = k,batch_size = 300)\n",
        "    kmeans.fit(tfidf)\n",
        "    SSE.append(kmeans.inertia_)\n",
        "    \n",
        "import matplotlib.pyplot as plt\n",
        "plt.plot(K,SSE,'bx-')\n",
        "plt.title('Elbow Method')\n",
        "plt.xlabel('cluster numbers')\n",
        "plt.show()"
      ],
      "metadata": {
        "colab": {
          "base_uri": "https://localhost:8080/",
          "height": 295
        },
        "id": "7yV8MgV_r3qQ",
        "outputId": "1a29fea4-8dc1-4b83-9ba1-98c116eb1c09"
      },
      "execution_count": null,
      "outputs": [
        {
          "output_type": "display_data",
          "data": {
            "text/plain": [
              "<Figure size 432x288 with 1 Axes>"
            ],
            "image/png": "[encoded data removed]"
          },
          "metadata": {
            "needs_background": "light"
          }
        }
      ]
    },
    {
      "cell_type": "code",
      "source": [
        "# 5. Using MiniBatchKMean to cluster\n",
        "# Comparison of the K-Means and MiniBatchKMeans clustering algorithms\n",
        "\n",
        "k = 4\n",
        "kmeans = MiniBatchKMeans(n_clusters = k)\n",
        "kmeans.fit(tfidf)\n",
        "centers = kmeans.cluster_centers_.argsort()[:,::-1]\n",
        "terms = vector.get_feature_names()\n",
        "\n",
        "for i in range(0,k):\n",
        "    word_list=[]\n",
        "    print(\"cluster%d:\"% i)\n",
        "    for j in centers[i,:15]:\n",
        "        word_list.append(terms[j])\n",
        "    print(word_list) "
      ],
      "metadata": {
        "colab": {
          "base_uri": "https://localhost:8080/"
        },
        "id": "USaquSDtsFTw",
        "outputId": "e56a0c0c-1e70-428f-82fc-0ee5521f6e24"
      },
      "execution_count": null,
      "outputs": [
        {
          "output_type": "stream",
          "name": "stdout",
          "text": [
            "cluster0:\n",
            "['covid', 'copd', 'mom', 'got', 'home', 'hospital', 'dad', 'mask', 'old', 'years', 'positive', 'time', 'year', 'people', 'tested']\n",
            "cluster1:\n",
            "['asthma', 'copd', 'disease', 'chronic', 'obstructive', 'lung', 'pulmonary', 'used', 'patients', 'respiratory', 'treat', 'treatment', 'diseases', 'bronchitis', 'rotacaps']\n",
            "cluster2:\n",
            "['copd', 'help', 'patients', 'disease', 'lung', 'pulmonary', 'people', 'health', 'study', 'smoking', 'chronic', 'risk', 'new', 'care', 'like']\n",
            "cluster3:\n",
            "['know', 'living', 'copd', 'youtube', 'people', 'lung', 'like', 'let', 'need', 'conditions', 'disease', 'fiberglass', 'friends', 'asthma', 'support']\n"
          ]
        },
        {
          "output_type": "stream",
          "name": "stderr",
          "text": [
            "/usr/local/lib/python3.7/dist-packages/sklearn/utils/deprecation.py:87: FutureWarning: Function get_feature_names is deprecated; get_feature_names is deprecated in 1.0 and will be removed in 1.2. Please use get_feature_names_out instead.\n",
            "  warnings.warn(msg, category=FutureWarning)\n"
          ]
        }
      ]
    },
    {
      "cell_type": "code",
      "source": [
        "# 7. Topic modeling\n",
        "\n",
        "# Here I use NMF instead of LDA because LDA's calculation is time-consuming.\n",
        "\n",
        "# The major topics consist of politics, society, finance and internetional affairs, which is quite similiar to our cluster resu\n",
        "\n",
        "from sklearn.decomposition import NMF\n",
        "\n",
        "nmf  = NMF(n_components = 4)\n",
        "nmf.fit(tfidf)\n",
        "for i in range(0,k):\n",
        "    word_list=[]\n",
        "    print(\"Topic%d:\"% i)\n",
        "    for j in nmf.components_.argsort()[i,-16:-1]:\n",
        "        word_list.append(terms[j])\n",
        "    print(word_list)"
      ],
      "metadata": {
        "colab": {
          "base_uri": "https://localhost:8080/"
        },
        "id": "2LdoButvsjqS",
        "outputId": "b300a2a2-365a-4c28-e98d-d8eca92321f1"
      },
      "execution_count": null,
      "outputs": [
        {
          "output_type": "stream",
          "name": "stderr",
          "text": [
            "/usr/local/lib/python3.7/dist-packages/sklearn/decomposition/_nmf.py:294: FutureWarning: The 'init' value, when 'init=None' and n_components is less than n_samples and n_features, will be changed from 'nndsvd' to 'nndsvda' in 1.1 (renaming of 0.26).\n",
            "  FutureWarning,\n"
          ]
        },
        {
          "output_type": "stream",
          "name": "stdout",
          "text": [
            "Topic0:\n",
            "['learn', 'today', 'risk', 'new', 'care', 'know', 'like', 'cancer', 'patients', 'health', 'asthma', 'lung', 'people', 'help', 'covid']\n",
            "Topic1:\n",
            "['cancer', 'common', 'causes', 'heart', 'rehabilitation', 'respiratory', 'copd', 'smoking', 'bronchitis', 'emphysema', 'diseases', 'lung', 'obstructive', 'pulmonary', 'disease']\n",
            "Topic2:\n",
            "['rotahaler', 'tiova', 'device', 'capsules', 'dry', 'treat', 'inhalation', 'approves', 'powder', 'cipla', 'symbicort', 'treatment', 'fda', 'generic', 'rotacaps']\n",
            "Topic3:\n",
            "['rotacaps', 'disease', 'obstructive', 'treat', 'patients', 'years', 'airway', 'older', 'age', 'prevent', 'reversible', 'prevention', 'asthalin', 'bronchospasm', 'inhaler']\n"
          ]
        }
      ]
    },
    {
      "cell_type": "markdown",
      "metadata": {
        "id": "IkEKtJ2bT2iq"
      },
      "source": [
        "## Determine time evolution of tweets"
      ]
    },
    {
      "cell_type": "code",
      "execution_count": null,
      "metadata": {
        "id": "JEG1BK9lT2iq"
      },
      "outputs": [],
      "source": [
        "# extract all document-topic distritbutions to dictionnary\n",
        "# document_key = list(tweet_df.date)\n",
        "document_topic = {}"
      ]
    },
    {
      "cell_type": "code",
      "execution_count": null,
      "metadata": {
        "id": "cxD0sEMZT2iq"
      },
      "outputs": [],
      "source": [
        "for doc_id in range(len(corpus)):\n",
        "    docbok = corpus[doc_id]\n",
        "    doc_topics = tweet_topics.get_document_topics(docbok, 0)\n",
        "    tmp = []\n",
        "    for topic_id, topic_prob in doc_topics:\n",
        "        tmp.append(topic_prob)\n",
        "    document_topic[document_key[doc_id]] = tmp"
      ]
    },
    {
      "cell_type": "code",
      "execution_count": null,
      "metadata": {
        "id": "OwvL29PxT2iq"
      },
      "outputs": [],
      "source": [
        "df = pd.DataFrame.from_dict(document_topic, orient='index')"
      ]
    },
    {
      "cell_type": "code",
      "execution_count": null,
      "metadata": {
        "id": "PtOYoWfXT2ir"
      },
      "outputs": [],
      "source": [
        "df.columns = [\"Nuclear\", \"Professor_Crime\", \"Thaler_Nobel\", \"Cancer_Research\", \"Unionization\", \"Evening_Program\", \"Zimmer_FreeSpeech\"]"
      ]
    },
    {
      "cell_type": "code",
      "execution_count": null,
      "metadata": {
        "id": "r8dINQdCT2ir"
      },
      "outputs": [],
      "source": [
        "df.head(5)"
      ]
    },
    {
      "cell_type": "code",
      "execution_count": null,
      "metadata": {
        "id": "yj9ZueKQT2ir"
      },
      "outputs": [],
      "source": [
        "df.to_csv(\"/Users/Orest/Desktop/Big Data and Text Analytics/FP/timed_tweets.csv\")"
      ]
    },
    {
      "cell_type": "markdown",
      "metadata": {
        "id": "mSRAzV1qT2ir"
      },
      "source": [
        "Graphs are produced with ggplot2 package in R."
      ]
    }
  ],
  "metadata": {
    "colab": {
      "collapsed_sections": [
        "Nvc_YBHOT2ih",
        "pcfvdnO_Qyo5",
        "uwXLArfdtAtZ"
      ],
      "name": "English - Twitter LDA TextAnalysis.ipynb",
      "provenance": [],
      "include_colab_link": true
    },
    "kernelspec": {
      "display_name": "Python 3",
      "language": "python",
      "name": "python3"
    },
    "language_info": {
      "codemirror_mode": {
        "name": "ipython",
        "version": 3
      },
      "file_extension": ".py",
      "mimetype": "text/x-python",
      "name": "python",
      "nbconvert_exporter": "python",
      "pygments_lexer": "ipython3",
      "version": "3.6.3"
    }
  },
  "nbformat": 4,
  "nbformat_minor": 0
}