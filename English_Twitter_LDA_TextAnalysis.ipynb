{
  "cells": [
    {
      "cell_type": "markdown",
      "metadata": {
        "id": "view-in-github",
        "colab_type": "text"
      },
      "source": [
        "<a href=\"https://colab.research.google.com/github/saharshayegan/Twitter_LDA_text_analysis/blob/main/English_Twitter_LDA_TextAnalysis.ipynb\" target=\"_parent\"><img src=\"https://colab.research.google.com/assets/colab-badge.svg\" alt=\"Open In Colab\"/></a>"
      ]
    },
    {
      "cell_type": "code",
      "execution_count": null,
      "metadata": {
        "colab": {
          "base_uri": "https://localhost:8080/"
        },
        "id": "o5es5hLjBZem",
        "outputId": "b9689541-d2d3-48bd-a7c1-57467fdd79a7"
      },
      "outputs": [
        {
          "output_type": "stream",
          "name": "stdout",
          "text": [
            "Requirement already satisfied: pandas==1.2 in /usr/local/lib/python3.7/dist-packages (1.2.0)\n",
            "Requirement already satisfied: pytz>=2017.3 in /usr/local/lib/python3.7/dist-packages (from pandas==1.2) (2022.1)\n",
            "Requirement already satisfied: python-dateutil>=2.7.3 in /usr/local/lib/python3.7/dist-packages (from pandas==1.2) (2.8.2)\n",
            "Requirement already satisfied: numpy>=1.16.5 in /usr/local/lib/python3.7/dist-packages (from pandas==1.2) (1.21.6)\n",
            "Requirement already satisfied: six>=1.5 in /usr/local/lib/python3.7/dist-packages (from python-dateutil>=2.7.3->pandas==1.2) (1.15.0)\n",
            "Requirement already satisfied: gensim in /usr/local/lib/python3.7/dist-packages (4.2.0)\n",
            "Requirement already satisfied: numpy>=1.17.0 in /usr/local/lib/python3.7/dist-packages (from gensim) (1.21.6)\n",
            "Requirement already satisfied: scipy>=0.18.1 in /usr/local/lib/python3.7/dist-packages (from gensim) (1.4.1)\n",
            "Requirement already satisfied: smart-open>=1.8.1 in /usr/local/lib/python3.7/dist-packages (from gensim) (6.0.0)\n"
          ]
        }
      ],
      "source": [
        "#Run this and reset the runtime. Then proceed.\n",
        "!pip install --upgrade pandas==1.2\n",
        "!pip install -U gensim"
      ]
    },
    {
      "cell_type": "markdown",
      "metadata": {
        "id": "rycwxZP_XS4S"
      },
      "source": [
        "## Installing and importing"
      ]
    },
    {
      "cell_type": "code",
      "execution_count": null,
      "metadata": {
        "colab": {
          "background_save": true
        },
        "id": "OFV49k6wT2iW",
        "outputId": "4cee5d1f-b736-4809-f4f3-0ccfd89d7202"
      },
      "outputs": [
        {
          "name": "stderr",
          "output_type": "stream",
          "text": [
            "/usr/local/lib/python3.7/dist-packages/nltk/decorators.py:70: DeprecationWarning: `formatargspec` is deprecated since Python 3.5. Use `signature` and the `Signature` object directly\n",
            "  formatvalue=lambda value: \"\")[1:-1]\n",
            "/usr/local/lib/python3.7/dist-packages/scipy/io/matlab/mio5.py:98: DeprecationWarning: `np.bool` is a deprecated alias for the builtin `bool`. To silence this warning, use `bool` by itself. Doing this will not modify any behavior and is safe. If you specifically wanted the numpy scalar type, use `np.bool_` here.\n",
            "Deprecated in NumPy 1.20; for more details and guidance: https://numpy.org/devdocs/release/1.20.0-notes.html#deprecations\n",
            "  from .mio5_utils import VarReader5\n",
            "/usr/local/lib/python3.7/dist-packages/scipy/sparse/sparsetools.py:21: DeprecationWarning: `scipy.sparse.sparsetools` is deprecated!\n",
            "scipy.sparse.sparsetools is a private module for scipy.sparse, and should not be used.\n",
            "  _deprecated()\n"
          ]
        }
      ],
      "source": [
        "import pandas as pd\n",
        "import re\n",
        "from nltk.corpus import stopwords\n",
        "\n",
        "from gensim.parsing.preprocessing import STOPWORDS\n",
        "from gensim.utils import simple_preprocess\n",
        "from gensim.models import TfidfModel, LsiModel\n",
        "from gensim.models.ldamodel import LdaModel\n",
        "from gensim import corpora\n",
        "from gensim import matutils\n",
        "\n",
        "from collections import defaultdict\n",
        "import pickle"
      ]
    },
    {
      "cell_type": "code",
      "execution_count": 1,
      "metadata": {
        "colab": {
          "base_uri": "https://localhost:8080/"
        },
        "id": "SkEAOc48jS3h",
        "outputId": "511bdec9-6c78-4ba0-9607-9a1b85d53f28"
      },
      "outputs": [
        {
          "output_type": "stream",
          "name": "stdout",
          "text": [
            "Mounted at /content/drive\n"
          ]
        }
      ],
      "source": [
        "from google.colab import drive\n",
        "drive.mount('/content/drive')"
      ]
    },
    {
      "cell_type": "code",
      "execution_count": null,
      "metadata": {
        "id": "7RQDlG0RDdIx"
      },
      "outputs": [],
      "source": [
        "### Installing Stuff"
      ]
    },
    {
      "cell_type": "code",
      "execution_count": null,
      "metadata": {
        "id": "BTgSGR_pf0g-"
      },
      "outputs": [],
      "source": [
        "# Package is in detached-head mode. Clone from Github, commit latest changes and run setup.py\n",
        "! git clone https://github.com/bmabey/pyLDAvis\n",
        "%cd pyLDAvis\n",
        "! python setup.py build\n",
        "! python setup.py install\n",
        "%cd .."
      ]
    },
    {
      "cell_type": "code",
      "execution_count": null,
      "metadata": {
        "colab": {
          "base_uri": "https://localhost:8080/"
        },
        "id": "k_ne_VwwWydi",
        "outputId": "99563a2c-e7e5-47c0-9cfe-77cebd2d2a13"
      },
      "outputs": [
        {
          "name": "stdout",
          "output_type": "stream",
          "text": [
            "Requirement already satisfied: funcy in /usr/local/lib/python3.7/dist-packages/funcy-1.17-py3.7.egg (1.17)\n",
            "Requirement already satisfied: funcy in /usr/local/lib/python3.7/dist-packages/funcy-1.17-py3.7.egg (1.17)\n",
            "[nltk_data] Downloading package stopwords to /root/nltk_data...\n",
            "[nltk_data]   Unzipping corpora/stopwords.zip.\n",
            "[nltk_data] Downloading package punkt to /root/nltk_data...\n",
            "[nltk_data]   Unzipping tokenizers/punkt.zip.\n",
            "[nltk_data] Downloading package wordnet to /root/nltk_data...\n",
            "[nltk_data]   Unzipping corpora/wordnet.zip.\n"
          ]
        },
        {
          "data": {
            "text/plain": [
              "True"
            ]
          },
          "execution_count": 5,
          "metadata": {},
          "output_type": "execute_result"
        }
      ],
      "source": [
        "! python3.7 -m pip install funcy\n",
        "! pip install funcy\n",
        "import sys\n",
        "sys.path.insert(0,'/usr/local/lib/python3.7/dist-packages/funcy-1.17-py3.7.egg')\n",
        "import funcy\n",
        "# !pip install --upgrade pandas==1.2\n",
        "\n",
        "\n",
        "import nltk\n",
        "nltk.download('stopwords')\n",
        "nltk.download('punkt')\n",
        "nltk.download('wordnet')"
      ]
    },
    {
      "cell_type": "code",
      "execution_count": null,
      "metadata": {
        "colab": {
          "base_uri": "https://localhost:8080/",
          "height": 304
        },
        "id": "kwfoT8vMRiqd",
        "outputId": "adaa1ec3-e82c-434f-e62e-556cc96cbba5"
      },
      "outputs": [
        {
          "ename": "ModuleNotFoundError",
          "evalue": "ignored",
          "output_type": "error",
          "traceback": [
            "\u001b[0;31m---------------------------------------------------------------------------\u001b[0m",
            "\u001b[0;31mModuleNotFoundError\u001b[0m                       Traceback (most recent call last)",
            "\u001b[0;32m<ipython-input-9-abf7dacb2eb5>\u001b[0m in \u001b[0;36m<module>\u001b[0;34m()\u001b[0m\n\u001b[0;32m----> 1\u001b[0;31m \u001b[0;32mimport\u001b[0m \u001b[0mpyLDAvis\u001b[0m\u001b[0;34m.\u001b[0m\u001b[0mgensim_models\u001b[0m \u001b[0;32mas\u001b[0m \u001b[0mgensimvis\u001b[0m\u001b[0;34m\u001b[0m\u001b[0;34m\u001b[0m\u001b[0m\n\u001b[0m",
            "\u001b[0;31mModuleNotFoundError\u001b[0m: No module named 'pyLDAvis.gensim_models'",
            "",
            "\u001b[0;31m---------------------------------------------------------------------------\u001b[0;32m\nNOTE: If your import is failing due to a missing package, you can\nmanually install dependencies using either !pip or !apt.\n\nTo view examples of installing some common dependencies, click the\n\"Open Examples\" button below.\n\u001b[0;31m---------------------------------------------------------------------------\u001b[0m\n"
          ]
        }
      ],
      "source": [
        "import pyLDAvis.gensim_models as gensimvis"
      ]
    },
    {
      "cell_type": "markdown",
      "metadata": {
        "id": "bRlT9THJT2ic"
      },
      "source": [
        "Load Twitter batch. File has 6 tab delimited columns"
      ]
    },
    {
      "cell_type": "markdown",
      "metadata": {
        "id": "yneaQqmoXXuR"
      },
      "source": [
        "## Base"
      ]
    },
    {
      "cell_type": "code",
      "execution_count": 3,
      "metadata": {
        "id": "HWiX7DCz2AJJ",
        "colab": {
          "base_uri": "https://localhost:8080/"
        },
        "outputId": "3f9fb31e-3249-4794-91a1-16bcc6bb6671"
      },
      "outputs": [
        {
          "output_type": "stream",
          "name": "stdout",
          "text": [
            "['COPD', 'Diabetes', 'Arthritis', 'Obesity', 'Migraine', 'Heart Diseases', 'Asthma', 'Depression', 'PTSD', 'Cancer']\n"
          ]
        }
      ],
      "source": [
        "import pandas as pd\n",
        "\n",
        "filename= \"/content/drive/MyDrive/Colab Notebooks/thesis/diseases.txt\"\n",
        "with open(filename) as f:\n",
        "    diseases = [line.rstrip() for line in f]\n",
        "print(diseases)\n",
        "\n",
        "path = r'/content/drive/MyDrive/Colab Notebooks/thesis/' # use your path\n",
        "\n",
        "# disease = diseases[0]"
      ]
    },
    {
      "cell_type": "markdown",
      "metadata": {
        "id": "Nvc_YBHOT2ih"
      },
      "source": [
        "## Text preparation/cleanup for analysis"
      ]
    },
    {
      "cell_type": "code",
      "execution_count": null,
      "metadata": {
        "id": "lZBhRsfBIzyv"
      },
      "outputs": [],
      "source": [
        "# I've run this before. don't run it again.\n",
        "for disease in diseases:\n",
        "  print(disease)\n",
        "  df = pd.read_csv(path+disease+'_tweets.csv', index_col=None, header=0)\n",
        "  tweet_list_raw = df['Text'].tolist()\n",
        "  # Text cleaning\n",
        "  # Remove http\n",
        "  link_pttrn = r\"http\\S+\"\n",
        "  tweet_list = [re.sub(link_pttrn, \"\", tweet) for tweet in tweet_list_raw]\n",
        "\n",
        "  # Remove non-letter sequences\n",
        "  nl_pttrn = r\"[^a-zA-Z']+\"\n",
        "  tweet_list = [re.sub(nl_pttrn, \" \", tweet) for tweet in tweet_list]\n",
        "\n",
        "  # Lower case\n",
        "  tweet_list = [tweet.lower() for tweet in tweet_list]\n",
        "\n",
        "  # Remove white space at beginning and end of document\n",
        "  ws_pttrn = r\"(^ | $)\"\n",
        "  tweet_list = [re.sub(ws_pttrn, \"\", tweet) for tweet in tweet_list]\n",
        "  # tweet_list[10:20]\n",
        "  # Pre-processing\n",
        "  # print(tweet_list_raw[501])\n",
        "  # Post-processing\n",
        "  # print(tweet_list[501])\n",
        "\n",
        "\n",
        "  import nltk\n",
        "  # STOPWORDS\n",
        "  nltk_stop_words = set(stopwords.words(\"english\"))\n",
        "  def tokenize(tweet):\n",
        "      return [token for token in simple_preprocess(tweet) if token not in nltk_stop_words]\n",
        "  tweets = [tokenize(tweet) for tweet in tweet_list]\n",
        "  tweets\n",
        "  tweets[501]\n",
        "  frequency = defaultdict(int)\n",
        "  for tweet in tweets:\n",
        "      for token in tweet:\n",
        "          frequency[token] += 1\n",
        "  freq_series = pd.Series(frequency)\n",
        "  # freq_series.sort_values(ascending=False)[0:10]\n",
        "  days = ['mon','tue','wed','thu','fri','sat','sun']\n",
        "  months = ['jan', 'feb', 'mar','apr','may','jun',\\\n",
        "          'jul', 'aug', 'sep', 'oct', 'nov', 'dec']\n",
        "\n",
        "  irrel = [\"rt\", \"amp\"]\n",
        "  uncommon_words = [w[0] for w in frequency.items() if w[1]<5]\n",
        "  two_letter = [w[0] for w in frequency.items() if len(w[0])< 3]\n",
        "\n",
        "  removed = uncommon_words + two_letter +days + months + irrel  \n",
        "  print('Text is cleaned')\n",
        "\n",
        "  # Process does take about 10-15 minutes, so the output is saved and loaded\n",
        "  tweets_clean = [[token for token in tweet if token not in removed] for tweet in tweets]\n",
        "  tweets_clean[501]\n",
        "  pickle_out = open(path+disease+\"_clean_final.pickle\", \"wb\")\n",
        "  pickle.dump(tweets_clean, pickle_out)\n",
        "  pickle_out.close()"
      ]
    },
    {
      "cell_type": "markdown",
      "metadata": {
        "id": "eUFTbSMSXeGG"
      },
      "source": [
        "## LDA and Visualization"
      ]
    },
    {
      "cell_type": "markdown",
      "metadata": {
        "id": "LNX31xPrT-8d"
      },
      "source": [
        "### The LDA and Visualize methods"
      ]
    },
    {
      "cell_type": "code",
      "execution_count": null,
      "metadata": {
        "colab": {
          "background_save": true
        },
        "id": "D8thtablP4we"
      },
      "outputs": [],
      "source": [
        "def run_lda(corpus, dictionary, clusters,path,disease):\n",
        "  # Runtime about 5 mins\n",
        "  print('Trying to run the models')\n",
        "  tweet_topics = LdaModel(corpus = corpus,\n",
        "                        id2word = dictionary,\n",
        "                        num_topics = clusters,\n",
        "                        passes= 10)\n",
        "  pickle_out2 = open(path+disease+\"_ffinalmodel_{}clusters.pickle\".format(clusters), \"wb\")\n",
        "  pickle.dump(tweet_topics, pickle_out2)\n",
        "  pickle_out2.close()\n",
        "  return tweet_topics"
      ]
    },
    {
      "cell_type": "code",
      "execution_count": null,
      "metadata": {
        "colab": {
          "background_save": true
        },
        "id": "w6NLButRQsGJ"
      },
      "outputs": [],
      "source": [
        "def visualize(tweet_topics, corpus, dictionary, clusters, path, disease):\n",
        "  ### Visualizing\n",
        "  vis_data = gensimvis.prepare(tweet_topics, corpus, dictionary)\n",
        "  # print(vis_data)\n",
        "  file = open(path+disease+'_twitter-LDA_{}clusters.txt'.format(clusters), 'w')\n",
        "  file.write(str(vis_data))\n",
        "  file.close()\n",
        "  import pyLDAvis\n",
        "  pyLDAvis.display(vis_data)\n",
        "  pyLDAvis.save_html(vis_data, path+disease+'_twitter-LDA_{}clusters.html'.format(clusters))"
      ]
    },
    {
      "cell_type": "markdown",
      "metadata": {
        "id": "Hgk7c2KfYJKw"
      },
      "source": [
        "### For each topic:"
      ]
    },
    {
      "cell_type": "code",
      "execution_count": null,
      "metadata": {
        "colab": {
          "base_uri": "https://localhost:8080/",
          "height": 282
        },
        "id": "X0rHwRT-T2ih",
        "outputId": "b79d1ec7-6c85-4aaa-a4bf-23b2573c601c"
      },
      "outputs": [
        {
          "name": "stdout",
          "output_type": "stream",
          "text": [
            "0 (0, '0.073*\"copd\" + 0.038*\"disease\" + 0.030*\"chronic\" + 0.029*\"pulmonary\" + 0.022*\"patients\" + 0.021*\"obstructive\" + 0.016*\"risk\" + 0.010*\"study\" + 0.010*\"lung\" + 0.010*\"smoking\"')\n",
            "1 (1, '0.059*\"copd\" + 0.012*\"asthma\" + 0.010*\"register\" + 0.010*\"march\" + 0.009*\"conference\" + 0.008*\"join\" + 0.007*\"available\" + 0.006*\"nursing\" + 0.006*\"respiratory\" + 0.006*\"research\"')\n",
            "2 (2, '0.084*\"copd\" + 0.026*\"asthma\" + 0.013*\"lung\" + 0.010*\"help\" + 0.010*\"respiratory\" + 0.009*\"health\" + 0.009*\"patients\" + 0.009*\"treatment\" + 0.008*\"new\" + 0.008*\"people\"')\n",
            "3 (3, '0.066*\"copd\" + 0.027*\"covid\" + 0.011*\"get\" + 0.009*\"people\" + 0.007*\"like\" + 0.007*\"cancer\" + 0.007*\"know\" + 0.006*\"got\" + 0.006*\"hospital\" + 0.006*\"heart\"')\n"
          ]
        },
        {
          "ename": "NameError",
          "evalue": "ignored",
          "output_type": "error",
          "traceback": [
            "\u001b[0;31m---------------------------------------------------------------------------\u001b[0m",
            "\u001b[0;31mNameError\u001b[0m                                 Traceback (most recent call last)",
            "\u001b[0;32m<ipython-input-12-ec420ca832b1>\u001b[0m in \u001b[0;36m<module>\u001b[0;34m()\u001b[0m\n\u001b[1;32m     42\u001b[0m   \u001b[0;31m# pyLDAvis.display(vis_data)\u001b[0m\u001b[0;34m\u001b[0m\u001b[0;34m\u001b[0m\u001b[0;34m\u001b[0m\u001b[0m\n\u001b[1;32m     43\u001b[0m   \u001b[0;31m# pyLDAvis.save_html(vis_data, path+disease+'_twitter-LDA_{}clusters.html'.format(clusters))\u001b[0m\u001b[0;34m\u001b[0m\u001b[0;34m\u001b[0m\u001b[0;34m\u001b[0m\u001b[0m\n\u001b[0;32m---> 44\u001b[0;31m   \u001b[0mvisualize\u001b[0m\u001b[0;34m(\u001b[0m\u001b[0mtweet_topics\u001b[0m\u001b[0;34m,\u001b[0m \u001b[0mcorpus\u001b[0m\u001b[0;34m,\u001b[0m \u001b[0mdictionary\u001b[0m\u001b[0;34m,\u001b[0m \u001b[0mclusters\u001b[0m\u001b[0;34m,\u001b[0m \u001b[0mpath\u001b[0m\u001b[0;34m,\u001b[0m \u001b[0mdisease\u001b[0m\u001b[0;34m)\u001b[0m\u001b[0;34m\u001b[0m\u001b[0;34m\u001b[0m\u001b[0m\n\u001b[0m",
            "\u001b[0;31mNameError\u001b[0m: name 'visualize' is not defined"
          ]
        }
      ],
      "source": [
        "for disease in diseases:\n",
        "  import pickle\n",
        "  tweets_clean = pickle.load(open(path+disease+\"_clean_final.pickle\", \"rb\" ) )\n",
        "  tweets_clean[501]\n",
        "  dictionary = corpora.Dictionary(tweets_clean)\n",
        "  corpus = [dictionary.doc2bow(tweet) for tweet in tweets_clean]\n",
        "\n",
        "\n",
        "  #Run batch LDA and cross fingers\n",
        "  clusters = 4\n",
        "\n",
        "  run_lda(corpus, dictionary, clusters,path,disease)\n",
        "\n",
        "  tweet_topics = pickle.load(open(  path+disease+\"_ffinalmodel_{}clusters.pickle\".format(clusters), \"rb\" ) )\n",
        "  for i, topic in enumerate(tweet_topics.print_topics(15)):\n",
        "      print (i, topic)\n",
        "\n",
        "  ### INSTALLING STUFF WAS HERE\n",
        "\n",
        "  ### Visualizing\n",
        "  visualize(tweet_topics, corpus, dictionary, clusters, path, disease)\n"
      ]
    },
    {
      "cell_type": "code",
      "execution_count": null,
      "metadata": {
        "colab": {
          "base_uri": "https://localhost:8080/"
        },
        "id": "F6GO1KIOWg58",
        "outputId": "8202622b-2fb5-42e2-b31f-eeeb014f7bf2"
      },
      "outputs": [
        {
          "name": "stdout",
          "output_type": "stream",
          "text": [
            "Requirement already satisfied: gensim in /usr/local/lib/python3.7/dist-packages (4.2.0)\n",
            "Requirement already satisfied: scipy>=0.18.1 in /usr/local/lib/python3.7/dist-packages (from gensim) (1.4.1)\n",
            "Requirement already satisfied: numpy>=1.17.0 in /usr/local/lib/python3.7/dist-packages (from gensim) (1.21.6)\n",
            "Requirement already satisfied: smart-open>=1.8.1 in /usr/local/lib/python3.7/dist-packages (from gensim) (6.0.0)\n"
          ]
        }
      ],
      "source": [
        "!pip install -U gensim"
      ]
    },
    {
      "cell_type": "code",
      "execution_count": null,
      "metadata": {
        "colab": {
          "background_save": true
        },
        "id": "uypUd1lARRIO"
      },
      "outputs": [],
      "source": [
        "import pickle\n",
        "disease = 'COPD'\n",
        "clusters = 3\n",
        "\n",
        "tweets_clean = pickle.load(open(path+disease+\"_clean_final.pickle\", \"rb\" ) )\n",
        "dictionary = corpora.Dictionary(tweets_clean)\n",
        "corpus = [dictionary.doc2bow(tweet) for tweet in tweets_clean]\n",
        "\n",
        "lda_model = pickle.load(open(  path+disease+\"_ffinalmodel_{}clusters.pickle\".format(clusters), \"rb\" ) )\n",
        "perplexity = lda_model.log_perplexity(corpus)"
      ]
    },
    {
      "cell_type": "code",
      "execution_count": null,
      "metadata": {
        "colab": {
          "background_save": true,
          "base_uri": "https://localhost:8080/"
        },
        "id": "s4Bd_pkyVb3T",
        "outputId": "bd1449b8-eb1b-4563-f9cb-d600be7d4399"
      },
      "outputs": [
        {
          "name": "stdout",
          "output_type": "stream",
          "text": [
            "-7.070407183057969\n",
            "-7.105437433571481\n"
          ]
        }
      ],
      "source": [
        "print(perplexity)"
      ]
    },
    {
      "cell_type": "markdown",
      "metadata": {
        "id": "4_1H0LoHYMYP"
      },
      "source": [
        "### For all topics together"
      ]
    },
    {
      "cell_type": "code",
      "execution_count": null,
      "metadata": {
        "id": "fIlKLmBXO4c4"
      },
      "outputs": [],
      "source": [
        "import pandas as pd\n",
        "import pickle\n",
        "\n",
        "path = r'/content/drive/MyDrive/Colab Notebooks/thesis/' # use your path\n",
        "\n",
        "all_tweets = []\n",
        "\n",
        "for disease in diseases:\n",
        "  tweets = pickle.load(open(path+disease+\"_clean_final.pickle\", \"rb\" ) )\n",
        "  all_tweets+= tweets\n",
        "\n",
        "dictionary = corpora.Dictionary(all_tweets)\n",
        "corpus = [dictionary.doc2bow(tweet) for tweet in all_tweets]\n",
        "clusters = 6\n",
        "\n",
        "lda_model = run_lda(corpus, dictionary, clusters,path,'all')\n",
        "\n",
        "visualize(lda_model, corpus, dictionary, clusters, path, 'all')"
      ]
    },
    {
      "cell_type": "markdown",
      "metadata": {
        "id": "pcfvdnO_Qyo5"
      },
      "source": [
        "# TFIDF\n"
      ]
    },
    {
      "cell_type": "markdown",
      "source": [
        "### YOU NEED TEST AND TRAIN DATA."
      ],
      "metadata": {
        "id": "uwXLArfdtAtZ"
      }
    },
    {
      "cell_type": "code",
      "execution_count": 8,
      "metadata": {
        "id": "75jx6QsPQ2l_",
        "colab": {
          "base_uri": "https://localhost:8080/"
        },
        "outputId": "bc927a66-2fa4-4f88-8a2d-b9d87e939d25"
      },
      "outputs": [
        {
          "output_type": "stream",
          "name": "stdout",
          "text": [
            "['pulm wtchp cce stony brook first responder medical records drs notes discussing social history smoker smoker copd last yrs wrote many final reports shared ', 'would say prayer father triple year ago still dealing severe nerve pain also copd broke rib coughing prayers definitely needed tired seeing dad much pain ', 'airway clinical research center research programs asthma copd sarcoidosis cystic fibrosis along current programs sponsored nih pharmaceutical industry position ', 'differentiating asthma copd imaging machine pulmonology machinelearning ', 'clinical implications bronchodilator testing diagnosing differentiating copd asthma copd overlap ', 'chronic depression high blood pressure chronic asthma bronchitis copd alot ', 'person copd feels self conscious bringing oxygen hearts child best way strike conversation daughter law ', 'able walk around easier another days back able get things done remember much last week except hell plus finally quit smoking days never period scary shit covid copd hell ', 'many encourage giving offering gift learn make difference supporting copd foundation workplace giving programs visit copd donate copdfoundation ', 'pollution puts lung ailments like asthma copd greater risk still everyone exposed deadly smoke wildfires set climate wildfires ']\n"
          ]
        }
      ],
      "source": [
        "import pickle\n",
        "import numpy as np\n",
        "import pandas as pd \n",
        "from sklearn.cluster import MiniBatchKMeans\n",
        "from sklearn.feature_extraction.text import TfidfVectorizer\n",
        "\n",
        "for disease in ['COPD']:#diseases:\n",
        "  tweets_clean = pickle.load(open(path+disease+\"_clean_final.pickle\", \"rb\" ) )\n",
        "\n",
        "  # You need to change the cleaning process. \n",
        "  # or concatinate the tokens to create the entences. \n",
        "  # this will not work with tokens. it gets a column of sentences in your df.\n",
        "  text_content = tweets_clean\n",
        "  for i in range(len(text_content)):\n",
        "    s = ''\n",
        "    for token in text_content[i]:\n",
        "      s += token + ' '\n",
        "    text_content[i] = s\n",
        "  vector = TfidfVectorizer(stop_words = 'english') #Dont need stop words\n",
        "  tfidf = vector.fit_transform(text_content)\n",
        "  print(text_content[0:10])"
      ]
    },
    {
      "cell_type": "code",
      "source": [
        "## YOU SHOULD ALSO DO ALL THE REST FOR EACH TOPIC\n",
        "\n",
        "# 3. Using elbow method to decide cluster number\n",
        "# Introduction to elbow method\n",
        "\n",
        "K = range(1,15)\n",
        "SSE = []\n",
        "for k in K:\n",
        "    kmeans = MiniBatchKMeans(n_clusters = k,batch_size = 300)\n",
        "    kmeans.fit(tfidf)\n",
        "    SSE.append(kmeans.inertia_)\n",
        "    \n",
        "import matplotlib.pyplot as plt\n",
        "plt.plot(K,SSE,'bx-')\n",
        "plt.title('Elbow Method')\n",
        "plt.xlabel('cluster numbers')\n",
        "plt.show()"
      ],
      "metadata": {
        "colab": {
          "base_uri": "https://localhost:8080/",
          "height": 295
        },
        "id": "7yV8MgV_r3qQ",
        "outputId": "1a29fea4-8dc1-4b83-9ba1-98c116eb1c09"
      },
      "execution_count": 9,
      "outputs": [
        {
          "output_type": "display_data",
          "data": {
            "text/plain": [
              "<Figure size 432x288 with 1 Axes>"
            ],
            "image/png": "[encoded data removed]"
          },
          "metadata": {
            "needs_background": "light"
          }
        }
      ]
    },
    {
      "cell_type": "code",
      "source": [
        "# 5. Using MiniBatchKMean to cluster\n",
        "# Comparison of the K-Means and MiniBatchKMeans clustering algorithms\n",
        "\n",
        "k = 4\n",
        "kmeans = MiniBatchKMeans(n_clusters = k)\n",
        "kmeans.fit(tfidf)\n",
        "centers = kmeans.cluster_centers_.argsort()[:,::-1]\n",
        "terms = vector.get_feature_names()\n",
        "\n",
        "for i in range(0,k):\n",
        "    word_list=[]\n",
        "    print(\"cluster%d:\"% i)\n",
        "    for j in centers[i,:15]:\n",
        "        word_list.append(terms[j])\n",
        "    print(word_list) "
      ],
      "metadata": {
        "colab": {
          "base_uri": "https://localhost:8080/"
        },
        "id": "USaquSDtsFTw",
        "outputId": "e56a0c0c-1e70-428f-82fc-0ee5521f6e24"
      },
      "execution_count": 10,
      "outputs": [
        {
          "output_type": "stream",
          "name": "stdout",
          "text": [
            "cluster0:\n",
            "['covid', 'copd', 'mom', 'got', 'home', 'hospital', 'dad', 'mask', 'old', 'years', 'positive', 'time', 'year', 'people', 'tested']\n",
            "cluster1:\n",
            "['asthma', 'copd', 'disease', 'chronic', 'obstructive', 'lung', 'pulmonary', 'used', 'patients', 'respiratory', 'treat', 'treatment', 'diseases', 'bronchitis', 'rotacaps']\n",
            "cluster2:\n",
            "['copd', 'help', 'patients', 'disease', 'lung', 'pulmonary', 'people', 'health', 'study', 'smoking', 'chronic', 'risk', 'new', 'care', 'like']\n",
            "cluster3:\n",
            "['know', 'living', 'copd', 'youtube', 'people', 'lung', 'like', 'let', 'need', 'conditions', 'disease', 'fiberglass', 'friends', 'asthma', 'support']\n"
          ]
        },
        {
          "output_type": "stream",
          "name": "stderr",
          "text": [
            "/usr/local/lib/python3.7/dist-packages/sklearn/utils/deprecation.py:87: FutureWarning: Function get_feature_names is deprecated; get_feature_names is deprecated in 1.0 and will be removed in 1.2. Please use get_feature_names_out instead.\n",
            "  warnings.warn(msg, category=FutureWarning)\n"
          ]
        }
      ]
    },
    {
      "cell_type": "code",
      "source": [
        "# 7. Topic modeling\n",
        "\n",
        "# Here I use NMF instead of LDA because LDA's calculation is time-consuming.\n",
        "\n",
        "# The major topics consist of politics, society, finance and internetional affairs, which is quite similiar to our cluster resu\n",
        "\n",
        "from sklearn.decomposition import NMF\n",
        "\n",
        "nmf  = NMF(n_components = 4)\n",
        "nmf.fit(tfidf)\n",
        "for i in range(0,k):\n",
        "    word_list=[]\n",
        "    print(\"Topic%d:\"% i)\n",
        "    for j in nmf.components_.argsort()[i,-16:-1]:\n",
        "        word_list.append(terms[j])\n",
        "    print(word_list)"
      ],
      "metadata": {
        "colab": {
          "base_uri": "https://localhost:8080/"
        },
        "id": "2LdoButvsjqS",
        "outputId": "b300a2a2-365a-4c28-e98d-d8eca92321f1"
      },
      "execution_count": 13,
      "outputs": [
        {
          "output_type": "stream",
          "name": "stderr",
          "text": [
            "/usr/local/lib/python3.7/dist-packages/sklearn/decomposition/_nmf.py:294: FutureWarning: The 'init' value, when 'init=None' and n_components is less than n_samples and n_features, will be changed from 'nndsvd' to 'nndsvda' in 1.1 (renaming of 0.26).\n",
            "  FutureWarning,\n"
          ]
        },
        {
          "output_type": "stream",
          "name": "stdout",
          "text": [
            "Topic0:\n",
            "['learn', 'today', 'risk', 'new', 'care', 'know', 'like', 'cancer', 'patients', 'health', 'asthma', 'lung', 'people', 'help', 'covid']\n",
            "Topic1:\n",
            "['cancer', 'common', 'causes', 'heart', 'rehabilitation', 'respiratory', 'copd', 'smoking', 'bronchitis', 'emphysema', 'diseases', 'lung', 'obstructive', 'pulmonary', 'disease']\n",
            "Topic2:\n",
            "['rotahaler', 'tiova', 'device', 'capsules', 'dry', 'treat', 'inhalation', 'approves', 'powder', 'cipla', 'symbicort', 'treatment', 'fda', 'generic', 'rotacaps']\n",
            "Topic3:\n",
            "['rotacaps', 'disease', 'obstructive', 'treat', 'patients', 'years', 'airway', 'older', 'age', 'prevent', 'reversible', 'prevention', 'asthalin', 'bronchospasm', 'inhaler']\n"
          ]
        }
      ]
    },
    {
      "cell_type": "markdown",
      "metadata": {
        "id": "IkEKtJ2bT2iq"
      },
      "source": [
        "## Determine time evolution of tweets"
      ]
    },
    {
      "cell_type": "code",
      "execution_count": null,
      "metadata": {
        "id": "JEG1BK9lT2iq"
      },
      "outputs": [],
      "source": [
        "# extract all document-topic distritbutions to dictionnary\n",
        "# document_key = list(tweet_df.date)\n",
        "document_topic = {}"
      ]
    },
    {
      "cell_type": "code",
      "execution_count": null,
      "metadata": {
        "id": "cxD0sEMZT2iq"
      },
      "outputs": [],
      "source": [
        "for doc_id in range(len(corpus)):\n",
        "    docbok = corpus[doc_id]\n",
        "    doc_topics = tweet_topics.get_document_topics(docbok, 0)\n",
        "    tmp = []\n",
        "    for topic_id, topic_prob in doc_topics:\n",
        "        tmp.append(topic_prob)\n",
        "    document_topic[document_key[doc_id]] = tmp"
      ]
    },
    {
      "cell_type": "code",
      "execution_count": null,
      "metadata": {
        "id": "OwvL29PxT2iq"
      },
      "outputs": [],
      "source": [
        "df = pd.DataFrame.from_dict(document_topic, orient='index')"
      ]
    },
    {
      "cell_type": "code",
      "execution_count": null,
      "metadata": {
        "id": "PtOYoWfXT2ir"
      },
      "outputs": [],
      "source": [
        "df.columns = [\"Nuclear\", \"Professor_Crime\", \"Thaler_Nobel\", \"Cancer_Research\", \"Unionization\", \"Evening_Program\", \"Zimmer_FreeSpeech\"]"
      ]
    },
    {
      "cell_type": "code",
      "execution_count": null,
      "metadata": {
        "id": "r8dINQdCT2ir"
      },
      "outputs": [],
      "source": [
        "df.head(5)"
      ]
    },
    {
      "cell_type": "code",
      "execution_count": null,
      "metadata": {
        "id": "yj9ZueKQT2ir"
      },
      "outputs": [],
      "source": [
        "df.to_csv(\"/Users/Orest/Desktop/Big Data and Text Analytics/FP/timed_tweets.csv\")"
      ]
    },
    {
      "cell_type": "markdown",
      "metadata": {
        "id": "mSRAzV1qT2ir"
      },
      "source": [
        "Graphs are produced with ggplot2 package in R."
      ]
    }
  ],
  "metadata": {
    "colab": {
      "collapsed_sections": [
        "yneaQqmoXXuR",
        "Nvc_YBHOT2ih",
        "LNX31xPrT-8d",
        "Hgk7c2KfYJKw",
        "4_1H0LoHYMYP"
      ],
      "name": "English - Twitter LDA TextAnalysis.ipynb",
      "provenance": [],
      "include_colab_link": true
    },
    "kernelspec": {
      "display_name": "Python 3",
      "language": "python",
      "name": "python3"
    },
    "language_info": {
      "codemirror_mode": {
        "name": "ipython",
        "version": 3
      },
      "file_extension": ".py",
      "mimetype": "text/x-python",
      "name": "python",
      "nbconvert_exporter": "python",
      "pygments_lexer": "ipython3",
      "version": "3.6.3"
    }
  },
  "nbformat": 4,
  "nbformat_minor": 0
}