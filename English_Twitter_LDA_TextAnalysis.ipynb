{
  "cells": [
    {
      "cell_type": "markdown",
      "metadata": {
        "id": "view-in-github",
        "colab_type": "text"
      },
      "source": [
        "<a href=\"https://colab.research.google.com/github/saharshayegan/Twitter_LDA_text_analysis/blob/main/English_Twitter_LDA_TextAnalysis.ipynb\" target=\"_parent\"><img src=\"https://colab.research.google.com/assets/colab-badge.svg\" alt=\"Open In Colab\"/></a>"
      ]
    },
    {
      "cell_type": "code",
      "execution_count": 11,
      "metadata": {
        "colab": {
          "base_uri": "https://localhost:8080/"
        },
        "id": "o5es5hLjBZem",
        "outputId": "3174acda-6e88-4fde-f055-1c17cc0be5cd"
      },
      "outputs": [
        {
          "output_type": "stream",
          "name": "stdout",
          "text": [
            "Looking in indexes: https://pypi.org/simple, https://us-python.pkg.dev/colab-wheels/public/simple/\n",
            "Requirement already satisfied: pandas==1.2 in /usr/local/lib/python3.7/dist-packages (1.2.0)\n",
            "Requirement already satisfied: python-dateutil>=2.7.3 in /usr/local/lib/python3.7/dist-packages (from pandas==1.2) (2.8.2)\n",
            "Requirement already satisfied: numpy>=1.16.5 in /usr/local/lib/python3.7/dist-packages (from pandas==1.2) (1.21.6)\n",
            "Requirement already satisfied: pytz>=2017.3 in /usr/local/lib/python3.7/dist-packages (from pandas==1.2) (2022.1)\n",
            "Requirement already satisfied: six>=1.5 in /usr/local/lib/python3.7/dist-packages (from python-dateutil>=2.7.3->pandas==1.2) (1.15.0)\n",
            "Looking in indexes: https://pypi.org/simple, https://us-python.pkg.dev/colab-wheels/public/simple/\n",
            "Requirement already satisfied: gensim in /usr/local/lib/python3.7/dist-packages (4.2.0)\n",
            "Requirement already satisfied: numpy>=1.17.0 in /usr/local/lib/python3.7/dist-packages (from gensim) (1.21.6)\n",
            "Requirement already satisfied: smart-open>=1.8.1 in /usr/local/lib/python3.7/dist-packages (from gensim) (5.2.1)\n",
            "Requirement already satisfied: scipy>=0.18.1 in /usr/local/lib/python3.7/dist-packages (from gensim) (1.4.1)\n"
          ]
        }
      ],
      "source": [
        "#Run this and reset the runtime. Then proceed.\n",
        "!pip install --upgrade pandas==1.2\n",
        "!pip install -U gensim"
      ]
    },
    {
      "cell_type": "markdown",
      "metadata": {
        "id": "rycwxZP_XS4S"
      },
      "source": [
        "## Installing and importing"
      ]
    },
    {
      "cell_type": "code",
      "execution_count": 1,
      "metadata": {
        "id": "OFV49k6wT2iW"
      },
      "outputs": [],
      "source": [
        "import pandas as pd\n",
        "import re\n",
        "from nltk.corpus import stopwords\n",
        "\n",
        "from gensim.parsing.preprocessing import STOPWORDS\n",
        "from gensim.utils import simple_preprocess\n",
        "from gensim.models import TfidfModel, LsiModel\n",
        "from gensim.models.ldamodel import LdaModel\n",
        "from gensim import corpora\n",
        "from gensim import matutils\n",
        "\n",
        "from collections import defaultdict\n",
        "import pickle"
      ]
    },
    {
      "cell_type": "code",
      "execution_count": 2,
      "metadata": {
        "colab": {
          "base_uri": "https://localhost:8080/"
        },
        "id": "SkEAOc48jS3h",
        "outputId": "8ecc2861-b684-4b72-92ba-2d8216e80030"
      },
      "outputs": [
        {
          "output_type": "stream",
          "name": "stdout",
          "text": [
            "Drive already mounted at /content/drive; to attempt to forcibly remount, call drive.mount(\"/content/drive\", force_remount=True).\n"
          ]
        }
      ],
      "source": [
        "from google.colab import drive\n",
        "drive.mount('/content/drive')"
      ]
    },
    {
      "cell_type": "code",
      "execution_count": 3,
      "metadata": {
        "id": "7RQDlG0RDdIx"
      },
      "outputs": [],
      "source": [
        "### Installing Stuff"
      ]
    },
    {
      "cell_type": "code",
      "execution_count": null,
      "metadata": {
        "id": "BTgSGR_pf0g-"
      },
      "outputs": [],
      "source": [
        "# Package is in detached-head mode. Clone from Github, commit latest changes and run setup.py\n",
        "! git clone https://github.com/bmabey/pyLDAvis\n",
        "%cd pyLDAvis\n",
        "! python setup.py build\n",
        "! python setup.py install\n",
        "%cd .."
      ]
    },
    {
      "cell_type": "code",
      "execution_count": null,
      "metadata": {
        "id": "k_ne_VwwWydi"
      },
      "outputs": [],
      "source": [
        "! python3.7 -m pip install funcy\n",
        "! pip install funcy\n",
        "import sys\n",
        "sys.path.insert(0,'/usr/local/lib/python3.7/dist-packages/funcy-1.17-py3.7.egg')\n",
        "import funcy\n",
        "# !pip install --upgrade pandas==1.2\n",
        "\n",
        "\n",
        "import nltk\n",
        "nltk.download('stopwords')\n",
        "nltk.download('punkt')\n",
        "nltk.download('wordnet')"
      ]
    },
    {
      "cell_type": "code",
      "execution_count": null,
      "metadata": {
        "id": "kwfoT8vMRiqd"
      },
      "outputs": [],
      "source": [
        "import pyLDAvis.gensim_models as gensimvis"
      ]
    },
    {
      "cell_type": "markdown",
      "metadata": {
        "id": "yneaQqmoXXuR"
      },
      "source": [
        "## Base"
      ]
    },
    {
      "cell_type": "code",
      "execution_count": 7,
      "metadata": {
        "id": "HWiX7DCz2AJJ",
        "colab": {
          "base_uri": "https://localhost:8080/"
        },
        "outputId": "437f20cf-fabd-4bdc-ff7d-45660e429724"
      },
      "outputs": [
        {
          "output_type": "stream",
          "name": "stdout",
          "text": [
            "['COPD', 'Diabetes', 'Arthritis', 'Obesity', 'Migraine', 'Heart Diseases', 'Asthma', 'Depression', 'PTSD', 'Cancer']\n"
          ]
        }
      ],
      "source": [
        "import pandas as pd\n",
        "\n",
        "filename= \"/content/drive/MyDrive/Colab Notebooks/thesis/diseases.txt\"\n",
        "with open(filename) as f:\n",
        "    diseases = [line.rstrip() for line in f]\n",
        "print(diseases)\n",
        "\n",
        "path = r'/content/drive/MyDrive/Colab Notebooks/thesis/' # use your path\n",
        "\n",
        "# diseases "
      ]
    },
    {
      "cell_type": "code",
      "source": [
        "diseases.append('cardiovascular')"
      ],
      "metadata": {
        "id": "mzvejmQRxITo"
      },
      "execution_count": 8,
      "outputs": []
    },
    {
      "cell_type": "code",
      "source": [
        "diseases.remove('Heart Diseases')"
      ],
      "metadata": {
        "id": "Sfw1CU8YcC5H"
      },
      "execution_count": 9,
      "outputs": []
    },
    {
      "cell_type": "code",
      "source": [
        "diseases"
      ],
      "metadata": {
        "colab": {
          "base_uri": "https://localhost:8080/"
        },
        "id": "IwSs8lbKcPaK",
        "outputId": "cddc5d8c-9bb3-4e0e-ee1e-3247c85f8bd7"
      },
      "execution_count": 10,
      "outputs": [
        {
          "output_type": "execute_result",
          "data": {
            "text/plain": [
              "['COPD',\n",
              " 'Diabetes',\n",
              " 'Arthritis',\n",
              " 'Obesity',\n",
              " 'Migraine',\n",
              " 'Asthma',\n",
              " 'Depression',\n",
              " 'PTSD',\n",
              " 'Cancer',\n",
              " 'cardiovascular']"
            ]
          },
          "metadata": {},
          "execution_count": 10
        }
      ]
    },
    {
      "cell_type": "markdown",
      "metadata": {
        "id": "Nvc_YBHOT2ih"
      },
      "source": [
        "## Text preparation/cleanup for analysis"
      ]
    },
    {
      "cell_type": "code",
      "execution_count": null,
      "metadata": {
        "id": "lZBhRsfBIzyv",
        "colab": {
          "base_uri": "https://localhost:8080/"
        },
        "outputId": "9cd5569e-9b8f-4ed2-b9b3-5c7ca11ccd7e"
      },
      "outputs": [
        {
          "output_type": "stream",
          "name": "stdout",
          "text": [
            "cardiovascular\n",
            "Text is cleaned\n"
          ]
        }
      ],
      "source": [
        "# I've run this before. don't run it again.\n",
        "for disease in diseases:\n",
        "  print(disease)\n",
        "  df = pd.read_csv(path+disease+'_tweets.csv', index_col=None, header=0)\n",
        "  tweet_list_raw = df['Text'].tolist()\n",
        "  # Text cleaning\n",
        "  # Remove http\n",
        "  link_pttrn = r\"http\\S+\"\n",
        "  tweet_list = [re.sub(link_pttrn, \"\", tweet) for tweet in tweet_list_raw]\n",
        "\n",
        "  # Remove non-letter sequences\n",
        "  nl_pttrn = r\"[^a-zA-Z']+\"\n",
        "  tweet_list = [re.sub(nl_pttrn, \" \", tweet) for tweet in tweet_list]\n",
        "\n",
        "  # Lower case\n",
        "  tweet_list = [tweet.lower() for tweet in tweet_list]\n",
        "\n",
        "  # Remove white space at beginning and end of document\n",
        "  ws_pttrn = r\"(^ | $)\"\n",
        "  tweet_list = [re.sub(ws_pttrn, \"\", tweet) for tweet in tweet_list]\n",
        "  # tweet_list[10:20]\n",
        "  # Pre-processing\n",
        "  # print(tweet_list_raw[501])\n",
        "  # Post-processing\n",
        "  # print(tweet_list[501])\n",
        "\n",
        "\n",
        "  import nltk\n",
        "  # STOPWORDS\n",
        "  nltk_stop_words = set(stopwords.words(\"english\"))\n",
        "  def tokenize(tweet):\n",
        "      return [token for token in simple_preprocess(tweet) if token not in nltk_stop_words]\n",
        "  tweets = [tokenize(tweet) for tweet in tweet_list]\n",
        "  tweets\n",
        "  tweets[501]\n",
        "  frequency = defaultdict(int)\n",
        "  for tweet in tweets:\n",
        "      for token in tweet:\n",
        "          frequency[token] += 1\n",
        "  freq_series = pd.Series(frequency)\n",
        "  # freq_series.sort_values(ascending=False)[0:10]\n",
        "  days = ['mon','tue','wed','thu','fri','sat','sun']\n",
        "  months = ['jan', 'feb', 'mar','apr','may','jun',\\\n",
        "          'jul', 'aug', 'sep', 'oct', 'nov', 'dec']\n",
        "\n",
        "  irrel = [\"rt\", \"amp\"]\n",
        "  uncommon_words = [w[0] for w in frequency.items() if w[1]<5]\n",
        "  two_letter = [w[0] for w in frequency.items() if len(w[0])< 3]\n",
        "\n",
        "  removed = uncommon_words + two_letter +days + months + irrel  \n",
        "  print('Text is cleaned')\n",
        "\n",
        "  # Process does take about 10-15 minutes, so the output is saved and loaded\n",
        "  tweets_clean = [[token for token in tweet if token not in removed] for tweet in tweets]\n",
        "  tweets_clean[501]\n",
        "  pickle_out = open(path+disease+\"_clean_final.pickle\", \"wb\")\n",
        "  pickle.dump(tweets_clean, pickle_out)\n",
        "  pickle_out.close()"
      ]
    },
    {
      "cell_type": "markdown",
      "metadata": {
        "id": "eUFTbSMSXeGG"
      },
      "source": [
        "## LDA and Visualization"
      ]
    },
    {
      "cell_type": "markdown",
      "metadata": {
        "id": "LNX31xPrT-8d"
      },
      "source": [
        "### The LDA and Visualize methods"
      ]
    },
    {
      "cell_type": "code",
      "execution_count": 26,
      "metadata": {
        "id": "D8thtablP4we"
      },
      "outputs": [],
      "source": [
        "def run_lda(corpus, dictionary, clusters,path,disease):\n",
        "  # Runtime about 5 mins\n",
        "  print('Trying to run the models')\n",
        "  tweet_topics = LdaModel(corpus = corpus,\n",
        "                        id2word = dictionary,\n",
        "                        num_topics = clusters,\n",
        "                        passes= 10)\n",
        "  pickle_out2 = open(path+disease+\"_ffinalmodel_{}clusters_split.pickle\".format(clusters), \"wb\")\n",
        "  pickle.dump(tweet_topics, pickle_out2)\n",
        "  pickle_out2.close()\n",
        "  return tweet_topics"
      ]
    },
    {
      "cell_type": "code",
      "execution_count": 27,
      "metadata": {
        "id": "w6NLButRQsGJ"
      },
      "outputs": [],
      "source": [
        "def visualize(tweet_topics, corpus, dictionary, clusters, path, disease):\n",
        "  ### Visualizing\n",
        "  vis_data = gensimvis.prepare(tweet_topics, corpus, dictionary)\n",
        "  # print(vis_data)\n",
        "  file = open(path+disease+'_twitter-LDA_{}clusters_split.txt'.format(clusters), 'w')\n",
        "  file.write(str(vis_data))\n",
        "  file.close()\n",
        "  import pyLDAvis\n",
        "  pyLDAvis.display(vis_data)\n",
        "  pyLDAvis.save_html(vis_data, path+disease+'_twitter-LDA_{}clusters_split.html'.format(clusters))"
      ]
    },
    {
      "cell_type": "code",
      "source": [
        "#  'COPD' 8\n",
        "#  'Diabetes' 8\n",
        "#  'Arthritis' 8\n",
        "#  'Obesity' 6\n",
        "#  'Migraine' 8\n",
        "#  'Asthma' 8\n",
        "#  'Depression' 8\n",
        "#  'PTSD' 8\n",
        "#  'Cancer' 8\n",
        "#  'cardiovascular' 7\n",
        "\n",
        "import pickle\n",
        "\n",
        "disease = 'cardiovascular'\n",
        "clusters = 7\n",
        "lda_model = pickle.load(open(path+disease+\"_ffinalmodel_{}clusters_split.pickle\".format(clusters), 'rb'))\n",
        "\n",
        "l = lda_model.show_topics(num_words = 20, formatted = False)\n",
        "counter = 1\n",
        "for tup in l:\n",
        "  print(counter)\n",
        "  for pair in tup[1]:\n",
        "    print(pair[0], end=', ')\n",
        "  counter +=1\n",
        "  print()\n",
        "print()"
      ],
      "metadata": {
        "id": "-cHraLgs_SA3"
      },
      "execution_count": null,
      "outputs": []
    },
    {
      "cell_type": "markdown",
      "metadata": {
        "id": "Hgk7c2KfYJKw"
      },
      "source": [
        "### For each topic:"
      ]
    },
    {
      "cell_type": "code",
      "source": [
        "# train, test = train_test_split(df, test_size=0.2)"
      ],
      "metadata": {
        "id": "jfwgOGh9e5Kr"
      },
      "execution_count": null,
      "outputs": []
    },
    {
      "cell_type": "code",
      "source": [
        "# I have done this before. no need to do it again\n",
        "# from sklearn.model_selection import train_test_split\n",
        "\n",
        "# for disease in diseases:\n",
        "#   tweets_clean = pickle.load(open(path+disease+\"_clean_final.pickle\", \"rb\" ) )\n",
        "\n",
        "#   train, test = train_test_split(tweets_clean, test_size=0.2)\n",
        "\n",
        "#   pickle_out = open(path+disease+\"_clean_final_train.pickle\", \"wb\")\n",
        "#   pickle.dump(train, pickle_out)\n",
        "#   pickle_out.close()\n",
        "\n",
        "#   pickle_out = open(path+disease+\"_clean_final_test.pickle\", \"wb\")\n",
        "#   pickle.dump(train, pickle_out)\n",
        "#   pickle_out.close()"
      ],
      "metadata": {
        "id": "X3xZet4Zhw_Z"
      },
      "execution_count": 24,
      "outputs": []
    },
    {
      "cell_type": "code",
      "execution_count": 34,
      "metadata": {
        "colab": {
          "base_uri": "https://localhost:8080/"
        },
        "id": "X0rHwRT-T2ih",
        "outputId": "bffc065a-4a62-44a3-9d2a-74964765a070"
      },
      "outputs": [
        {
          "output_type": "stream",
          "name": "stdout",
          "text": [
            "Trying to run the models\n",
            "0 (0, '0.066*\"copd\" + 0.027*\"covid\" + 0.011*\"get\" + 0.009*\"like\" + 0.008*\"got\" + 0.007*\"hospital\" + 0.007*\"know\" + 0.007*\"people\" + 0.007*\"mask\" + 0.007*\"mom\"')\n",
            "1 (1, '0.061*\"copd\" + 0.018*\"used\" + 0.017*\"patients\" + 0.016*\"smoking\" + 0.012*\"older\" + 0.012*\"airway\" + 0.011*\"age\" + 0.010*\"cell\" + 0.010*\"also\" + 0.010*\"treat\"')\n",
            "2 (2, '0.066*\"copd\" + 0.041*\"disease\" + 0.035*\"chronic\" + 0.029*\"asthma\" + 0.028*\"lung\" + 0.024*\"pulmonary\" + 0.021*\"obstructive\" + 0.014*\"respiratory\" + 0.012*\"treatment\" + 0.012*\"cancer\"')\n",
            "3 (3, '0.095*\"copd\" + 0.025*\"patients\" + 0.017*\"asthma\" + 0.013*\"pulmonary\" + 0.010*\"study\" + 0.010*\"new\" + 0.008*\"health\" + 0.008*\"care\" + 0.008*\"read\" + 0.007*\"rehabilitation\"')\n",
            "4 (4, '0.072*\"copd\" + 0.016*\"risk\" + 0.015*\"people\" + 0.013*\"air\" + 0.013*\"asthma\" + 0.009*\"first\" + 0.008*\"exposure\" + 0.008*\"high\" + 0.007*\"smoking\" + 0.007*\"death\"')\n",
            "5 (5, '0.065*\"copd\" + 0.009*\"march\" + 0.008*\"health\" + 0.008*\"care\" + 0.008*\"asthma\" + 0.008*\"free\" + 0.007*\"heart\" + 0.007*\"respiratory\" + 0.007*\"conference\" + 0.007*\"online\"')\n",
            "Trying to run the models\n",
            "0 (0, '0.100*\"diabetes\" + 0.012*\"type\" + 0.012*\"care\" + 0.012*\"today\" + 0.008*\"research\" + 0.007*\"people\" + 0.007*\"insulin\" + 0.006*\"health\" + 0.006*\"day\" + 0.006*\"management\"')\n",
            "1 (1, '0.106*\"diabetes\" + 0.030*\"risk\" + 0.029*\"covid\" + 0.023*\"study\" + 0.020*\"type\" + 0.020*\"drug\" + 0.019*\"new\" + 0.014*\"defects\" + 0.012*\"birth\" + 0.012*\"linked\"')\n",
            "2 (2, '0.088*\"diabetes\" + 0.033*\"sugar\" + 0.021*\"blood\" + 0.015*\"help\" + 0.014*\"diet\" + 0.011*\"get\" + 0.010*\"eat\" + 0.009*\"food\" + 0.009*\"control\" + 0.009*\"weight\"')\n",
            "3 (3, '0.065*\"diabetes\" + 0.033*\"people\" + 0.026*\"cancer\" + 0.022*\"health\" + 0.019*\"obesity\" + 0.017*\"disease\" + 0.015*\"hypertension\" + 0.014*\"heart\" + 0.014*\"diseases\" + 0.009*\"also\"')\n",
            "4 (4, '0.069*\"diabetes\" + 0.022*\"blood\" + 0.016*\"high\" + 0.014*\"health\" + 0.012*\"heart\" + 0.011*\"risk\" + 0.010*\"cause\" + 0.010*\"type\" + 0.009*\"pressure\" + 0.009*\"covid\"')\n",
            "5 (5, '0.111*\"diabetes\" + 0.044*\"type\" + 0.019*\"disease\" + 0.013*\"cure\" + 0.010*\"one\" + 0.010*\"know\" + 0.009*\"kidney\" + 0.009*\"risk\" + 0.009*\"cells\" + 0.008*\"people\"')\n",
            "Trying to run the models\n",
            "0 (0, '0.085*\"arthritis\" + 0.031*\"rheumatoid\" + 0.021*\"pain\" + 0.017*\"disease\" + 0.013*\"health\" + 0.011*\"patients\" + 0.011*\"risk\" + 0.009*\"psoriatic\" + 0.009*\"help\" + 0.009*\"joint\"')\n",
            "1 (1, '0.096*\"arthritis\" + 0.014*\"get\" + 0.012*\"like\" + 0.010*\"got\" + 0.010*\"today\" + 0.010*\"old\" + 0.009*\"pain\" + 0.008*\"day\" + 0.008*\"hands\" + 0.008*\"one\"')\n",
            "2 (2, '0.071*\"arthritis\" + 0.027*\"knee\" + 0.016*\"pain\" + 0.013*\"joint\" + 0.011*\"treatment\" + 0.009*\"shoulder\" + 0.009*\"tea\" + 0.009*\"support\" + 0.008*\"people\" + 0.008*\"relief\"')\n",
            "3 (3, '0.088*\"arthritis\" + 0.033*\"pain\" + 0.027*\"help\" + 0.018*\"inflammation\" + 0.015*\"life\" + 0.013*\"dogs\" + 0.012*\"dog\" + 0.012*\"reduce\" + 0.012*\"joint\" + 0.011*\"treatment\"')\n",
            "4 (4, '0.074*\"arthritis\" + 0.025*\"pain\" + 0.010*\"rheumatoid\" + 0.009*\"cbd\" + 0.008*\"new\" + 0.008*\"oil\" + 0.007*\"cat\" + 0.007*\"neck\" + 0.006*\"tunnel\" + 0.006*\"carpal\"')\n",
            "5 (5, '0.086*\"arthritis\" + 0.028*\"rheumatoid\" + 0.010*\"like\" + 0.008*\"body\" + 0.006*\"pain\" + 0.006*\"joints\" + 0.006*\"disease\" + 0.006*\"also\" + 0.006*\"cause\" + 0.005*\"one\"')\n",
            "Trying to run the models\n",
            "0 (0, '0.075*\"obesity\" + 0.023*\"people\" + 0.017*\"fat\" + 0.012*\"like\" + 0.010*\"food\" + 0.007*\"get\" + 0.007*\"healthy\" + 0.007*\"time\" + 0.007*\"obese\" + 0.006*\"would\"')\n",
            "1 (1, '0.075*\"obesity\" + 0.041*\"weight\" + 0.018*\"loss\" + 0.010*\"management\" + 0.009*\"treatment\" + 0.009*\"patients\" + 0.008*\"bariatric\" + 0.008*\"research\" + 0.007*\"surgery\" + 0.007*\"free\"')\n",
            "2 (2, '0.106*\"obesity\" + 0.020*\"one\" + 0.020*\"covid\" + 0.017*\"issues\" + 0.017*\"dogs\" + 0.017*\"health\" + 0.015*\"help\" + 0.010*\"body\" + 0.009*\"preventable\" + 0.006*\"drug\"')\n",
            "3 (3, '0.073*\"obesity\" + 0.019*\"health\" + 0.011*\"children\" + 0.010*\"childhood\" + 0.010*\"people\" + 0.008*\"overweight\" + 0.008*\"eating\" + 0.007*\"food\" + 0.007*\"study\" + 0.006*\"help\"')\n",
            "4 (4, '0.085*\"obesity\" + 0.012*\"health\" + 0.011*\"weight\" + 0.006*\"sleep\" + 0.005*\"read\" + 0.005*\"food\" + 0.005*\"new\" + 0.005*\"epidemic\" + 0.004*\"via\" + 0.004*\"childhood\"')\n",
            "5 (5, '0.072*\"obesity\" + 0.035*\"diabetes\" + 0.024*\"risk\" + 0.022*\"health\" + 0.021*\"disease\" + 0.013*\"cancer\" + 0.013*\"heart\" + 0.011*\"high\" + 0.009*\"diseases\" + 0.009*\"sugar\"')\n",
            "Trying to run the models\n",
            "0 (0, '0.061*\"migraines\" + 0.043*\"migraine\" + 0.020*\"like\" + 0.017*\"pain\" + 0.013*\"get\" + 0.013*\"give\" + 0.008*\"help\" + 0.008*\"headaches\" + 0.008*\"day\" + 0.008*\"covid\"')\n",
            "1 (1, '0.052*\"migraine\" + 0.049*\"migraines\" + 0.012*\"get\" + 0.012*\"every\" + 0.011*\"headaches\" + 0.010*\"life\" + 0.010*\"hate\" + 0.009*\"chronic\" + 0.009*\"pain\" + 0.009*\"also\"')\n",
            "2 (2, '0.138*\"migraine\" + 0.018*\"get\" + 0.015*\"fucking\" + 0.012*\"wake\" + 0.010*\"like\" + 0.010*\"look\" + 0.009*\"see\" + 0.008*\"head\" + 0.008*\"attack\" + 0.008*\"long\"')\n",
            "3 (3, '0.071*\"migraine\" + 0.052*\"migraines\" + 0.026*\"worst\" + 0.020*\"getting\" + 0.012*\"like\" + 0.012*\"ever\" + 0.012*\"fuck\" + 0.012*\"head\" + 0.011*\"get\" + 0.010*\"sleep\"')\n",
            "4 (4, '0.127*\"migraine\" + 0.028*\"got\" + 0.027*\"day\" + 0.025*\"today\" + 0.017*\"feel\" + 0.016*\"back\" + 0.014*\"another\" + 0.013*\"like\" + 0.013*\"one\" + 0.012*\"work\"')\n",
            "5 (5, '0.108*\"migraine\" + 0.019*\"day\" + 0.018*\"today\" + 0.014*\"stream\" + 0.013*\"woke\" + 0.013*\"away\" + 0.012*\"good\" + 0.011*\"going\" + 0.011*\"really\" + 0.010*\"night\"')\n",
            "Trying to run the models\n",
            "0 (0, '0.072*\"asthma\" + 0.035*\"risk\" + 0.026*\"school\" + 0.023*\"study\" + 0.021*\"age\" + 0.018*\"girls\" + 0.017*\"children\" + 0.016*\"exposure\" + 0.014*\"wheezing\" + 0.011*\"bpa\"')\n",
            "1 (1, '0.104*\"asthma\" + 0.012*\"treatment\" + 0.011*\"new\" + 0.011*\"allergy\" + 0.008*\"allergies\" + 0.007*\"copd\" + 0.007*\"study\" + 0.007*\"patients\" + 0.007*\"acting\" + 0.006*\"inhaler\"')\n",
            "2 (2, '0.057*\"asthma\" + 0.051*\"air\" + 0.047*\"pollen\" + 0.036*\"low\" + 0.032*\"allergies\" + 0.019*\"quality\" + 0.017*\"dust\" + 0.016*\"levels\" + 0.015*\"pollution\" + 0.015*\"good\"')\n",
            "3 (3, '0.125*\"asthma\" + 0.038*\"attack\" + 0.014*\"got\" + 0.012*\"like\" + 0.011*\"get\" + 0.008*\"bad\" + 0.008*\"today\" + 0.008*\"going\" + 0.008*\"time\" + 0.007*\"inhaler\"')\n",
            "4 (4, '0.081*\"asthma\" + 0.014*\"people\" + 0.012*\"health\" + 0.011*\"help\" + 0.009*\"disease\" + 0.009*\"lung\" + 0.008*\"copd\" + 0.008*\"symptoms\" + 0.007*\"chronic\" + 0.006*\"heart\"')\n",
            "5 (5, '0.102*\"asthma\" + 0.020*\"covid\" + 0.019*\"like\" + 0.010*\"attack\" + 0.010*\"gave\" + 0.009*\"mask\" + 0.009*\"fucking\" + 0.009*\"still\" + 0.008*\"got\" + 0.008*\"one\"')\n",
            "Trying to run the models\n",
            "0 (0, '0.151*\"depression\" + 0.017*\"cure\" + 0.012*\"anxiety\" + 0.010*\"new\" + 0.009*\"cured\" + 0.009*\"anger\" + 0.009*\"treatment\" + 0.008*\"mentalhealth\" + 0.008*\"via\" + 0.008*\"symptoms\"')\n",
            "1 (1, '0.053*\"depression\" + 0.051*\"health\" + 0.047*\"mental\" + 0.041*\"anxiety\" + 0.028*\"stress\" + 0.027*\"therapy\" + 0.027*\"people\" + 0.025*\"help\" + 0.025*\"issues\" + 0.022*\"suffering\"')\n",
            "2 (2, '0.117*\"depression\" + 0.019*\"like\" + 0.016*\"post\" + 0.011*\"real\" + 0.010*\"great\" + 0.009*\"feel\" + 0.009*\"seasonal\" + 0.008*\"hard\" + 0.007*\"people\" + 0.007*\"time\"')\n",
            "3 (3, '0.096*\"depression\" + 0.012*\"like\" + 0.010*\"anxiety\" + 0.009*\"time\" + 0.009*\"get\" + 0.009*\"today\" + 0.009*\"day\" + 0.007*\"feel\" + 0.007*\"got\" + 0.007*\"life\"')\n",
            "4 (4, '0.077*\"depression\" + 0.029*\"anxiety\" + 0.012*\"people\" + 0.012*\"help\" + 0.009*\"know\" + 0.009*\"someone\" + 0.009*\"please\" + 0.007*\"need\" + 0.007*\"mentalhealth\" + 0.006*\"pain\"')\n",
            "5 (5, '0.080*\"depression\" + 0.015*\"life\" + 0.014*\"self\" + 0.012*\"anxiety\" + 0.012*\"get\" + 0.012*\"one\" + 0.009*\"back\" + 0.009*\"like\" + 0.008*\"really\" + 0.007*\"know\"')\n",
            "Trying to run the models\n",
            "0 (0, '0.085*\"ptsd\" + 0.015*\"people\" + 0.012*\"mental\" + 0.012*\"health\" + 0.011*\"fucking\" + 0.007*\"much\" + 0.007*\"help\" + 0.006*\"talk\" + 0.006*\"take\" + 0.006*\"get\"')\n",
            "1 (1, '0.094*\"ptsd\" + 0.016*\"real\" + 0.012*\"get\" + 0.009*\"years\" + 0.008*\"one\" + 0.007*\"back\" + 0.007*\"time\" + 0.007*\"relationship\" + 0.006*\"last\" + 0.006*\"still\"')\n",
            "2 (2, '0.086*\"ptsd\" + 0.028*\"like\" + 0.013*\"time\" + 0.011*\"really\" + 0.011*\"get\" + 0.009*\"every\" + 0.009*\"feel\" + 0.008*\"day\" + 0.008*\"got\" + 0.008*\"going\"')\n",
            "3 (3, '0.171*\"ptsd\" + 0.044*\"got\" + 0.018*\"gave\" + 0.015*\"jay\" + 0.012*\"giving\" + 0.010*\"love\" + 0.010*\"getting\" + 0.009*\"shit\" + 0.009*\"like\" + 0.008*\"gives\"')\n",
            "4 (4, '0.067*\"ptsd\" + 0.014*\"disorder\" + 0.013*\"symptoms\" + 0.012*\"depression\" + 0.011*\"anxiety\" + 0.010*\"traumatic\" + 0.010*\"many\" + 0.009*\"new\" + 0.009*\"post\" + 0.009*\"stress\"')\n",
            "5 (5, '0.065*\"ptsd\" + 0.019*\"trauma\" + 0.014*\"anxiety\" + 0.013*\"depression\" + 0.011*\"mentalhealth\" + 0.010*\"help\" + 0.008*\"veterans\" + 0.007*\"cptsd\" + 0.007*\"today\" + 0.006*\"great\"')\n",
            "Trying to run the models\n",
            "0 (0, '0.275*\"two\" + 0.145*\"one\" + 0.141*\"cancer\" + 0.140*\"even\" + 0.138*\"better\" + 0.137*\"heads\" + 0.001*\"walking\" + 0.000*\"memorial\" + 0.000*\"kindly\" + 0.000*\"advice\"')\n",
            "1 (1, '0.079*\"cancer\" + 0.032*\"like\" + 0.014*\"getting\" + 0.013*\"people\" + 0.012*\"cancers\" + 0.012*\"alopecia\" + 0.011*\"disease\" + 0.011*\"lung\" + 0.009*\"hair\" + 0.009*\"heart\"')\n",
            "2 (2, '0.095*\"cancer\" + 0.012*\"breast\" + 0.010*\"research\" + 0.009*\"help\" + 0.008*\"treatment\" + 0.008*\"patients\" + 0.007*\"new\" + 0.007*\"support\" + 0.006*\"screening\" + 0.006*\"colorectal\"')\n",
            "3 (3, '0.088*\"cancer\" + 0.012*\"years\" + 0.011*\"risk\" + 0.010*\"new\" + 0.009*\"life\" + 0.008*\"know\" + 0.007*\"free\" + 0.007*\"early\" + 0.006*\"away\" + 0.006*\"many\"')\n",
            "4 (4, '0.091*\"cancer\" + 0.013*\"help\" + 0.012*\"love\" + 0.011*\"get\" + 0.009*\"family\" + 0.008*\"need\" + 0.008*\"leo\" + 0.008*\"scorpio\" + 0.007*\"aries\" + 0.007*\"today\"')\n",
            "5 (5, '0.097*\"cancer\" + 0.027*\"diagnosis\" + 0.025*\"terminal\" + 0.024*\"mosley\" + 0.020*\"max\" + 0.018*\"shot\" + 0.016*\"boss\" + 0.014*\"former\" + 0.012*\"fuck\" + 0.011*\"life\"')\n",
            "Trying to run the models\n",
            "0 (0, '0.065*\"cardiovascular\" + 0.029*\"covid\" + 0.029*\"heart\" + 0.023*\"disease\" + 0.021*\"patients\" + 0.020*\"risk\" + 0.018*\"new\" + 0.018*\"research\" + 0.015*\"study\" + 0.010*\"problems\"')\n",
            "1 (1, '0.079*\"cardiovascular\" + 0.012*\"disease\" + 0.012*\"covid\" + 0.011*\"health\" + 0.009*\"research\" + 0.008*\"care\" + 0.008*\"cardiology\" + 0.007*\"long\" + 0.006*\"medicine\" + 0.006*\"learn\"')\n",
            "2 (2, '0.070*\"cardiovascular\" + 0.016*\"clinical\" + 0.012*\"women\" + 0.008*\"time\" + 0.007*\"disease\" + 0.007*\"covid\" + 0.007*\"diagnosis\" + 0.007*\"guidance\" + 0.007*\"trial\" + 0.006*\"paper\"')\n",
            "3 (3, '0.068*\"cardiovascular\" + 0.048*\"disease\" + 0.046*\"risk\" + 0.021*\"diabetes\" + 0.014*\"diseases\" + 0.011*\"death\" + 0.011*\"cancer\" + 0.009*\"new\" + 0.009*\"type\" + 0.008*\"study\"')\n",
            "4 (4, '0.067*\"cardiovascular\" + 0.011*\"disease\" + 0.010*\"sleep\" + 0.009*\"surgery\" + 0.008*\"new\" + 0.008*\"heart\" + 0.007*\"join\" + 0.007*\"health\" + 0.006*\"collapse\" + 0.005*\"drugs\"')\n",
            "5 (5, '0.064*\"cardiovascular\" + 0.041*\"health\" + 0.015*\"system\" + 0.014*\"heart\" + 0.013*\"disease\" + 0.010*\"exercise\" + 0.009*\"help\" + 0.008*\"body\" + 0.007*\"benefits\" + 0.007*\"healthy\"')\n"
          ]
        }
      ],
      "source": [
        "import pickle\n",
        "\n",
        "for disease in diseases:\n",
        "  tweets_clean = pickle.load(open(path+disease+\"_clean_final_train.pickle\", \"rb\" ))\n",
        "  train = pickle.load(open(path+disease+\"_clean_final_train.pickle\", \"rb\" ))\n",
        "\n",
        "  dictionary = corpora.Dictionary(tweets_clean)\n",
        "  corpus = [dictionary.doc2bow(tweet) for tweet in train]\n",
        "\n",
        "  # TASK\n",
        "  # modele lda ba cluster 6,7,8 run shodan baraye dictionary jadid\n",
        "  # baghie ro ham run kon\n",
        "\n",
        "  # havaset bashe ke motasefane train o test ro dobare split kardi o ba ghabli fargh dare. \n",
        "  # har ja azashoon estefade shode ro bayad baz run koni\n",
        "\n",
        "  # chon modelet jadide bayad elbow ro ham mojadad hesab koni\n",
        "\n",
        "  # alan faghat Arthritis o migraine ba in halate jadid kalamatshun dar umade.\n",
        "  # baghoi jadvalaye gozaresh ro por kon\n",
        "\n",
        "  #Run batch LDA and cross fingers\n",
        "  for clusters in range(6,7):\n",
        "    run_lda(corpus, dictionary, clusters,path,disease)\n",
        "\n",
        "    tweet_topics = pickle.load(open(path+disease+\"_ffinalmodel_{}clusters_split.pickle\".format(clusters), \"rb\" ) )\n",
        "    for i, topic in enumerate(tweet_topics.print_topics(15)):\n",
        "        print (i, topic)\n",
        "\n",
        "    ### Visualizing\n",
        "    visualize(tweet_topics, corpus, dictionary, clusters, path, disease)\n"
      ]
    },
    {
      "cell_type": "code",
      "source": [
        "import math\n",
        "import matplotlib.pyplot as plt\n",
        "import numpy as np\n",
        "\n",
        "for disease in diseases:\n",
        "  test =  pickle.load(open(path+disease+\"_clean_final_train.pickle\", \"rb\" ))\n",
        "  tweets_clean = test\n",
        "  dictionary = corpora.Dictionary(tweets_clean)\n",
        "  corpus = [dictionary.doc2bow(tweet) for tweet in tweets_clean]\n",
        "\n",
        "  perplexity = []\n",
        "  for clusters in range(2,10):\n",
        "    lda_model = pickle.load(open(path+disease+\"_ffinalmodel_{}clusters_split.pickle\".format(clusters), \"rb\" ) )\n",
        "    perplexity.append(math.exp(lda_model.log_perplexity(corpus)))\n",
        "  print(perplexity)\n",
        "\n",
        "  fig, ax = plt.subplots()\n",
        "  ax.plot(range(2,10), perplexity, linewidth=2.0, color='g')\n",
        "  ax.set(xlim=(2, 9), xticks=np.arange(2, 10),\n",
        "          ylim=(min(perplexity)*0.98, max(perplexity)*1.02))\n",
        "  plt.title(disease+'- Perplexity of Train Set')\n",
        "  plt.xlabel(\"Clusters\")\n",
        "  plt.ylabel(\"Perplexity\")\n",
        "  plt.grid()\n",
        "  plt.savefig(path+disease+\"_fig_train.png\")\n",
        "  plt.show()"
      ],
      "metadata": {
        "id": "ZZDaRmpnzeak"
      },
      "execution_count": null,
      "outputs": []
    },
    {
      "cell_type": "code",
      "source": [
        "perplexity"
      ],
      "metadata": {
        "id": "Pw6Pz5rYzyLt"
      },
      "execution_count": null,
      "outputs": []
    },
    {
      "cell_type": "code",
      "execution_count": null,
      "metadata": {
        "colab": {
          "background_save": true
        },
        "id": "s4Bd_pkyVb3T"
      },
      "outputs": [],
      "source": [
        "print(perplexity)"
      ]
    },
    {
      "cell_type": "markdown",
      "metadata": {
        "id": "4_1H0LoHYMYP"
      },
      "source": [
        "### For all topics together"
      ]
    },
    {
      "cell_type": "code",
      "execution_count": null,
      "metadata": {
        "id": "fIlKLmBXO4c4"
      },
      "outputs": [],
      "source": [
        "import pandas as pd\n",
        "import pickle\n",
        "\n",
        "path = r'/content/drive/MyDrive/Colab Notebooks/thesis/' # use your path\n",
        "\n",
        "all_tweets = []\n",
        "\n",
        "for disease in diseases:\n",
        "  tweets = pickle.load(open(path+disease+\"_clean_final.pickle\", \"rb\" ) )\n",
        "  all_tweets+= tweets\n",
        "\n",
        "dictionary = corpora.Dictionary(all_tweets)\n",
        "corpus = [dictionary.doc2bow(tweet) for tweet in all_tweets]\n",
        "clusters = 6\n",
        "\n",
        "lda_model = run_lda(corpus, dictionary, clusters,path,'all')\n",
        "\n",
        "visualize(lda_model, corpus, dictionary, clusters, path, 'all')"
      ]
    },
    {
      "cell_type": "markdown",
      "source": [
        "### Predicting"
      ],
      "metadata": {
        "id": "oPw4VevpNT1G"
      }
    },
    {
      "cell_type": "code",
      "source": [
        "#  predicting new text which is in text dataframe  \n",
        "disease = 'Asthma'\n",
        "clusters = 8\n",
        "\n",
        "tweets_clean =  pickle.load(open(path+disease+\"_clean_final.pickle\", \"rb\" ))\n",
        "dictionary = corpora.Dictionary(tweets_clean)\n",
        "corpus = [dictionary.doc2bow(tweet) for tweet in tweets_clean]\n",
        "ldamodel = pickle.load(open(path+disease+\"_ffinalmodel_{}clusters_split.pickle\".format(clusters), \"rb\" ) )\n",
        "\n",
        "tops = ldamodel.get_document_topics(corpus)\n",
        "\n",
        "\n",
        "topic_probability = []\n",
        "i=0\n",
        "for i in range(0, len(tops)):\n",
        "  t = tops[i]\n",
        "  new_t = [0]*clusters\n",
        "  for tup in t:\n",
        "    new_t[tup[0]]=tup[1]\n",
        "  topic_probability.append(new_t)\n",
        "\n",
        "columns = []\n",
        "for i in range(0,clusters):\n",
        "  columns.append('Topic {}'.format(i))\n",
        "\n",
        "results_test = pd.DataFrame(topic_probability,columns=columns)\n",
        "\n",
        "results_test.to_csv(path+disease+'_whole_predict_results.csv', index=True, header=True)\n"
      ],
      "metadata": {
        "id": "ZM8_XJPSNWmg"
      },
      "execution_count": null,
      "outputs": []
    },
    {
      "cell_type": "code",
      "source": [
        "from collections import Counter \n",
        "\n",
        "# columns = []\n",
        "# for i in range(0,clusters):\n",
        "#   columns.append('Topic {}'.format(i+1))\n",
        "print(columns)\n",
        "\n",
        "results_test['maxValueIndex'] = results_test[columns].idxmax(axis = 1)\n",
        "\n",
        "for column in columns:\n",
        "  print(column)\n",
        "  indices = results_test[results_test['maxValueIndex']==column].index\n",
        "  new_tweets_clean = [tweets_clean[index] for index in indices]\n",
        "  words_count = pd.DataFrame(Counter(c for clist in new_tweets_clean for c in clist).most_common(250))\n",
        "  i = 0\n",
        "  for w in words_count[0]:\n",
        "    if i <20:\n",
        "      print(w,end=', ')\n",
        "    else:\n",
        "      break\n",
        "    i+=1\n",
        "  print()\n",
        "\n",
        "results_test.to_csv(path+disease+'_whole_predict_results_labeled.csv', index=True, header=True)\n"
      ],
      "metadata": {
        "colab": {
          "base_uri": "https://localhost:8080/"
        },
        "id": "VMrVXDOHRHw0",
        "outputId": "2dd77d0f-c51c-44c4-da6a-5b454c21a72d"
      },
      "execution_count": 33,
      "outputs": [
        {
          "output_type": "stream",
          "name": "stdout",
          "text": [
            "['Topic 0', 'Topic 1', 'Topic 2', 'Topic 3', 'Topic 4', 'Topic 5', 'Topic 6', 'Topic 7']\n",
            "Topic 0\n",
            "migraine, migraines, get, really, sleep, give, hate, day, like, fuck, worst, finally, still, would, days, sick, attack, got, ever, better, \n",
            "Topic 1\n",
            "migraine, migraines, pain, today, like, get, work, know, take, feel, day, headache, back, head, brain, want, fucking, getting, days, even, \n",
            "Topic 2\n",
            "migraine, migraines, bad, getting, going, get, week, really, one, got, back, headache, today, day, need, stream, every, like, much, tonight, \n",
            "Topic 3\n",
            "migraine, migraines, got, time, day, today, good, night, like, get, woke, see, last, head, new, think, since, headache, back, days, \n",
            "Topic 4\n",
            "migraine, day, migraines, today, like, worst, still, morning, another, woke, get, work, literally, life, away, days, much, feel, every, since, \n",
            "Topic 5\n",
            "migraine, migraines, like, get, feel, one, day, gonna, days, sleep, two, today, take, think, people, pain, hours, still, woke, hate, \n",
            "Topic 6\n",
            "migraine, migraines, day, like, work, days, feel, also, body, giving, way, pain, today, one, get, got, sleep, home, going, hours, \n",
            "Topic 7\n",
            "migraine, migraines, pain, one, headaches, head, right, love, days, get, like, day, meds, hard, cause, crying, hour, still, think, getting, \n"
          ]
        }
      ]
    },
    {
      "cell_type": "code",
      "source": [
        "results_test"
      ],
      "metadata": {
        "colab": {
          "base_uri": "https://localhost:8080/",
          "height": 424
        },
        "id": "5iLXSc8DTxUh",
        "outputId": "46c9c951-24cd-4258-9b93-bfd389ecf55a"
      },
      "execution_count": 114,
      "outputs": [
        {
          "output_type": "execute_result",
          "data": {
            "text/plain": [
              "       Topic 0   Topic 1   Topic 2   Topic 3   Topic 4   Topic 5   Topic 6  \\\n",
              "0     0.017868  0.017868  0.017864  0.874909  0.017867  0.017868  0.017874   \n",
              "1     0.025016  0.025009  0.025015  0.824850  0.025007  0.025079  0.025003   \n",
              "2     0.000000  0.184013  0.000000  0.633305  0.000000  0.000000  0.000000   \n",
              "3     0.000000  0.000000  0.851376  0.000000  0.000000  0.000000  0.000000   \n",
              "4     0.025009  0.025022  0.025022  0.824813  0.025005  0.025010  0.025100   \n",
              "...        ...       ...       ...       ...       ...       ...       ...   \n",
              "9995  0.278957  0.140475  0.015647  0.265810  0.015647  0.140961  0.126837   \n",
              "9996  0.129633  0.211898  0.211201  0.297335  0.012523  0.112347  0.012523   \n",
              "9997  0.546405  0.146830  0.000000  0.105505  0.000000  0.000000  0.165460   \n",
              "9998  0.111015  0.222177  0.000000  0.368010  0.000000  0.273774  0.000000   \n",
              "9999  0.177552  0.306855  0.000000  0.316352  0.000000  0.000000  0.086679   \n",
              "\n",
              "       Topic 7 maxValueIndex  \n",
              "0     0.017882       Topic 3  \n",
              "1     0.025019       Topic 3  \n",
              "2     0.134513       Topic 3  \n",
              "3     0.098573       Topic 2  \n",
              "4     0.025019       Topic 3  \n",
              "...        ...           ...  \n",
              "9995  0.015666       Topic 0  \n",
              "9996  0.012539       Topic 3  \n",
              "9997  0.000000       Topic 0  \n",
              "9998  0.000000       Topic 3  \n",
              "9999  0.099138       Topic 3  \n",
              "\n",
              "[10000 rows x 9 columns]"
            ],
            "text/html": [
              "\n",
              "  <div id=\"df-5728c57e-129e-4c33-9f24-59d5355a333d\">\n",
              "    <div class=\"colab-df-container\">\n",
              "      <div>\n",
              "<style scoped>\n",
              "    .dataframe tbody tr th:only-of-type {\n",
              "        vertical-align: middle;\n",
              "    }\n",
              "\n",
              "    .dataframe tbody tr th {\n",
              "        vertical-align: top;\n",
              "    }\n",
              "\n",
              "    .dataframe thead th {\n",
              "        text-align: right;\n",
              "    }\n",
              "</style>\n",
              "<table border=\"1\" class=\"dataframe\">\n",
              "  <thead>\n",
              "    <tr style=\"text-align: right;\">\n",
              "      <th></th>\n",
              "      <th>Topic 0</th>\n",
              "      <th>Topic 1</th>\n",
              "      <th>Topic 2</th>\n",
              "      <th>Topic 3</th>\n",
              "      <th>Topic 4</th>\n",
              "      <th>Topic 5</th>\n",
              "      <th>Topic 6</th>\n",
              "      <th>Topic 7</th>\n",
              "      <th>maxValueIndex</th>\n",
              "    </tr>\n",
              "  </thead>\n",
              "  <tbody>\n",
              "    <tr>\n",
              "      <th>0</th>\n",
              "      <td>0.017868</td>\n",
              "      <td>0.017868</td>\n",
              "      <td>0.017864</td>\n",
              "      <td>0.874909</td>\n",
              "      <td>0.017867</td>\n",
              "      <td>0.017868</td>\n",
              "      <td>0.017874</td>\n",
              "      <td>0.017882</td>\n",
              "      <td>Topic 3</td>\n",
              "    </tr>\n",
              "    <tr>\n",
              "      <th>1</th>\n",
              "      <td>0.025016</td>\n",
              "      <td>0.025009</td>\n",
              "      <td>0.025015</td>\n",
              "      <td>0.824850</td>\n",
              "      <td>0.025007</td>\n",
              "      <td>0.025079</td>\n",
              "      <td>0.025003</td>\n",
              "      <td>0.025019</td>\n",
              "      <td>Topic 3</td>\n",
              "    </tr>\n",
              "    <tr>\n",
              "      <th>2</th>\n",
              "      <td>0.000000</td>\n",
              "      <td>0.184013</td>\n",
              "      <td>0.000000</td>\n",
              "      <td>0.633305</td>\n",
              "      <td>0.000000</td>\n",
              "      <td>0.000000</td>\n",
              "      <td>0.000000</td>\n",
              "      <td>0.134513</td>\n",
              "      <td>Topic 3</td>\n",
              "    </tr>\n",
              "    <tr>\n",
              "      <th>3</th>\n",
              "      <td>0.000000</td>\n",
              "      <td>0.000000</td>\n",
              "      <td>0.851376</td>\n",
              "      <td>0.000000</td>\n",
              "      <td>0.000000</td>\n",
              "      <td>0.000000</td>\n",
              "      <td>0.000000</td>\n",
              "      <td>0.098573</td>\n",
              "      <td>Topic 2</td>\n",
              "    </tr>\n",
              "    <tr>\n",
              "      <th>4</th>\n",
              "      <td>0.025009</td>\n",
              "      <td>0.025022</td>\n",
              "      <td>0.025022</td>\n",
              "      <td>0.824813</td>\n",
              "      <td>0.025005</td>\n",
              "      <td>0.025010</td>\n",
              "      <td>0.025100</td>\n",
              "      <td>0.025019</td>\n",
              "      <td>Topic 3</td>\n",
              "    </tr>\n",
              "    <tr>\n",
              "      <th>...</th>\n",
              "      <td>...</td>\n",
              "      <td>...</td>\n",
              "      <td>...</td>\n",
              "      <td>...</td>\n",
              "      <td>...</td>\n",
              "      <td>...</td>\n",
              "      <td>...</td>\n",
              "      <td>...</td>\n",
              "      <td>...</td>\n",
              "    </tr>\n",
              "    <tr>\n",
              "      <th>9995</th>\n",
              "      <td>0.278957</td>\n",
              "      <td>0.140475</td>\n",
              "      <td>0.015647</td>\n",
              "      <td>0.265810</td>\n",
              "      <td>0.015647</td>\n",
              "      <td>0.140961</td>\n",
              "      <td>0.126837</td>\n",
              "      <td>0.015666</td>\n",
              "      <td>Topic 0</td>\n",
              "    </tr>\n",
              "    <tr>\n",
              "      <th>9996</th>\n",
              "      <td>0.129633</td>\n",
              "      <td>0.211898</td>\n",
              "      <td>0.211201</td>\n",
              "      <td>0.297335</td>\n",
              "      <td>0.012523</td>\n",
              "      <td>0.112347</td>\n",
              "      <td>0.012523</td>\n",
              "      <td>0.012539</td>\n",
              "      <td>Topic 3</td>\n",
              "    </tr>\n",
              "    <tr>\n",
              "      <th>9997</th>\n",
              "      <td>0.546405</td>\n",
              "      <td>0.146830</td>\n",
              "      <td>0.000000</td>\n",
              "      <td>0.105505</td>\n",
              "      <td>0.000000</td>\n",
              "      <td>0.000000</td>\n",
              "      <td>0.165460</td>\n",
              "      <td>0.000000</td>\n",
              "      <td>Topic 0</td>\n",
              "    </tr>\n",
              "    <tr>\n",
              "      <th>9998</th>\n",
              "      <td>0.111015</td>\n",
              "      <td>0.222177</td>\n",
              "      <td>0.000000</td>\n",
              "      <td>0.368010</td>\n",
              "      <td>0.000000</td>\n",
              "      <td>0.273774</td>\n",
              "      <td>0.000000</td>\n",
              "      <td>0.000000</td>\n",
              "      <td>Topic 3</td>\n",
              "    </tr>\n",
              "    <tr>\n",
              "      <th>9999</th>\n",
              "      <td>0.177552</td>\n",
              "      <td>0.306855</td>\n",
              "      <td>0.000000</td>\n",
              "      <td>0.316352</td>\n",
              "      <td>0.000000</td>\n",
              "      <td>0.000000</td>\n",
              "      <td>0.086679</td>\n",
              "      <td>0.099138</td>\n",
              "      <td>Topic 3</td>\n",
              "    </tr>\n",
              "  </tbody>\n",
              "</table>\n",
              "<p>10000 rows × 9 columns</p>\n",
              "</div>\n",
              "      <button class=\"colab-df-convert\" onclick=\"convertToInteractive('df-5728c57e-129e-4c33-9f24-59d5355a333d')\"\n",
              "              title=\"Convert this dataframe to an interactive table.\"\n",
              "              style=\"display:none;\">\n",
              "        \n",
              "  <svg xmlns=\"http://www.w3.org/2000/svg\" height=\"24px\"viewBox=\"0 0 24 24\"\n",
              "       width=\"24px\">\n",
              "    <path d=\"M0 0h24v24H0V0z\" fill=\"none\"/>\n",
              "    <path d=\"M18.56 5.44l.94 2.06.94-2.06 2.06-.94-2.06-.94-.94-2.06-.94 2.06-2.06.94zm-11 1L8.5 8.5l.94-2.06 2.06-.94-2.06-.94L8.5 2.5l-.94 2.06-2.06.94zm10 10l.94 2.06.94-2.06 2.06-.94-2.06-.94-.94-2.06-.94 2.06-2.06.94z\"/><path d=\"M17.41 7.96l-1.37-1.37c-.4-.4-.92-.59-1.43-.59-.52 0-1.04.2-1.43.59L10.3 9.45l-7.72 7.72c-.78.78-.78 2.05 0 2.83L4 21.41c.39.39.9.59 1.41.59.51 0 1.02-.2 1.41-.59l7.78-7.78 2.81-2.81c.8-.78.8-2.07 0-2.86zM5.41 20L4 18.59l7.72-7.72 1.47 1.35L5.41 20z\"/>\n",
              "  </svg>\n",
              "      </button>\n",
              "      \n",
              "  <style>\n",
              "    .colab-df-container {\n",
              "      display:flex;\n",
              "      flex-wrap:wrap;\n",
              "      gap: 12px;\n",
              "    }\n",
              "\n",
              "    .colab-df-convert {\n",
              "      background-color: #E8F0FE;\n",
              "      border: none;\n",
              "      border-radius: 50%;\n",
              "      cursor: pointer;\n",
              "      display: none;\n",
              "      fill: #1967D2;\n",
              "      height: 32px;\n",
              "      padding: 0 0 0 0;\n",
              "      width: 32px;\n",
              "    }\n",
              "\n",
              "    .colab-df-convert:hover {\n",
              "      background-color: #E2EBFA;\n",
              "      box-shadow: 0px 1px 2px rgba(60, 64, 67, 0.3), 0px 1px 3px 1px rgba(60, 64, 67, 0.15);\n",
              "      fill: #174EA6;\n",
              "    }\n",
              "\n",
              "    [theme=dark] .colab-df-convert {\n",
              "      background-color: #3B4455;\n",
              "      fill: #D2E3FC;\n",
              "    }\n",
              "\n",
              "    [theme=dark] .colab-df-convert:hover {\n",
              "      background-color: #434B5C;\n",
              "      box-shadow: 0px 1px 3px 1px rgba(0, 0, 0, 0.15);\n",
              "      filter: drop-shadow(0px 1px 2px rgba(0, 0, 0, 0.3));\n",
              "      fill: #FFFFFF;\n",
              "    }\n",
              "  </style>\n",
              "\n",
              "      <script>\n",
              "        const buttonEl =\n",
              "          document.querySelector('#df-5728c57e-129e-4c33-9f24-59d5355a333d button.colab-df-convert');\n",
              "        buttonEl.style.display =\n",
              "          google.colab.kernel.accessAllowed ? 'block' : 'none';\n",
              "\n",
              "        async function convertToInteractive(key) {\n",
              "          const element = document.querySelector('#df-5728c57e-129e-4c33-9f24-59d5355a333d');\n",
              "          const dataTable =\n",
              "            await google.colab.kernel.invokeFunction('convertToInteractive',\n",
              "                                                     [key], {});\n",
              "          if (!dataTable) return;\n",
              "\n",
              "          const docLinkHtml = 'Like what you see? Visit the ' +\n",
              "            '<a target=\"_blank\" href=https://colab.research.google.com/notebooks/data_table.ipynb>data table notebook</a>'\n",
              "            + ' to learn more about interactive tables.';\n",
              "          element.innerHTML = '';\n",
              "          dataTable['output_type'] = 'display_data';\n",
              "          await google.colab.output.renderOutput(dataTable, element);\n",
              "          const docLink = document.createElement('div');\n",
              "          docLink.innerHTML = docLinkHtml;\n",
              "          element.appendChild(docLink);\n",
              "        }\n",
              "      </script>\n",
              "    </div>\n",
              "  </div>\n",
              "  "
            ]
          },
          "metadata": {},
          "execution_count": 114
        }
      ]
    },
    {
      "cell_type": "code",
      "source": [
        ""
      ],
      "metadata": {
        "colab": {
          "base_uri": "https://localhost:8080/"
        },
        "id": "xjzSLzDFOXxE",
        "outputId": "dfa09734-8c60-4171-e3f5-df3612e938bd"
      },
      "execution_count": 93,
      "outputs": [
        {
          "output_type": "stream",
          "name": "stdout",
          "text": [
            "copd, asthma, disease, covid, lung, patients, pulmonary, chronic, people, health, respiratory, obstructive, help, cancer, treatment, get, risk, like, care, new, "
          ]
        }
      ]
    },
    {
      "cell_type": "markdown",
      "metadata": {
        "id": "pcfvdnO_Qyo5"
      },
      "source": [
        "# TFIDF\n"
      ]
    },
    {
      "cell_type": "markdown",
      "source": [
        "### YOU NEED TEST AND TRAIN DATA."
      ],
      "metadata": {
        "id": "uwXLArfdtAtZ"
      }
    },
    {
      "cell_type": "code",
      "execution_count": null,
      "metadata": {
        "id": "75jx6QsPQ2l_",
        "colab": {
          "base_uri": "https://localhost:8080/"
        },
        "outputId": "bc927a66-2fa4-4f88-8a2d-b9d87e939d25"
      },
      "outputs": [
        {
          "output_type": "stream",
          "name": "stdout",
          "text": [
            "['pulm wtchp cce stony brook first responder medical records drs notes discussing social history smoker smoker copd last yrs wrote many final reports shared ', 'would say prayer father triple year ago still dealing severe nerve pain also copd broke rib coughing prayers definitely needed tired seeing dad much pain ', 'airway clinical research center research programs asthma copd sarcoidosis cystic fibrosis along current programs sponsored nih pharmaceutical industry position ', 'differentiating asthma copd imaging machine pulmonology machinelearning ', 'clinical implications bronchodilator testing diagnosing differentiating copd asthma copd overlap ', 'chronic depression high blood pressure chronic asthma bronchitis copd alot ', 'person copd feels self conscious bringing oxygen hearts child best way strike conversation daughter law ', 'able walk around easier another days back able get things done remember much last week except hell plus finally quit smoking days never period scary shit covid copd hell ', 'many encourage giving offering gift learn make difference supporting copd foundation workplace giving programs visit copd donate copdfoundation ', 'pollution puts lung ailments like asthma copd greater risk still everyone exposed deadly smoke wildfires set climate wildfires ']\n"
          ]
        }
      ],
      "source": [
        "import pickle\n",
        "import numpy as np\n",
        "import pandas as pd \n",
        "from sklearn.cluster import MiniBatchKMeans\n",
        "from sklearn.feature_extraction.text import TfidfVectorizer\n",
        "\n",
        "for disease in ['COPD']:#diseases:\n",
        "  tweets_clean = pickle.load(open(path+disease+\"_clean_final.pickle\", \"rb\" ) )\n",
        "\n",
        "  # You need to change the cleaning process. \n",
        "  # or concatinate the tokens to create the entences. \n",
        "  # this will not work with tokens. it gets a column of sentences in your df.\n",
        "  text_content = tweets_clean\n",
        "  for i in range(len(text_content)):\n",
        "    s = ''\n",
        "    for token in text_content[i]:\n",
        "      s += token + ' '\n",
        "    text_content[i] = s\n",
        "  vector = TfidfVectorizer(stop_words = 'english') #Dont need stop words\n",
        "  tfidf = vector.fit_transform(text_content)\n",
        "  print(text_content[0:10])"
      ]
    },
    {
      "cell_type": "code",
      "source": [
        "## YOU SHOULD ALSO DO ALL THE REST FOR EACH TOPIC\n",
        "\n",
        "# 3. Using elbow method to decide cluster number\n",
        "# Introduction to elbow method\n",
        "\n",
        "K = range(1,15)\n",
        "SSE = []\n",
        "for k in K:\n",
        "    kmeans = MiniBatchKMeans(n_clusters = k,batch_size = 300)\n",
        "    kmeans.fit(tfidf)\n",
        "    SSE.append(kmeans.inertia_)\n",
        "    \n",
        "import matplotlib.pyplot as plt\n",
        "plt.plot(K,SSE,'bx-')\n",
        "plt.title('Elbow Method')\n",
        "plt.xlabel('cluster numbers')\n",
        "plt.show()"
      ],
      "metadata": {
        "colab": {
          "base_uri": "https://localhost:8080/",
          "height": 295
        },
        "id": "7yV8MgV_r3qQ",
        "outputId": "1a29fea4-8dc1-4b83-9ba1-98c116eb1c09"
      },
      "execution_count": null,
      "outputs": [
        {
          "output_type": "display_data",
          "data": {
            "text/plain": [
              "<Figure size 432x288 with 1 Axes>"
            ],
            "image/png": "[encoded data removed]"
          },
          "metadata": {
            "needs_background": "light"
          }
        }
      ]
    },
    {
      "cell_type": "code",
      "source": [
        "# 5. Using MiniBatchKMean to cluster\n",
        "# Comparison of the K-Means and MiniBatchKMeans clustering algorithms\n",
        "\n",
        "k = 4\n",
        "kmeans = MiniBatchKMeans(n_clusters = k)\n",
        "kmeans.fit(tfidf)\n",
        "centers = kmeans.cluster_centers_.argsort()[:,::-1]\n",
        "terms = vector.get_feature_names()\n",
        "\n",
        "for i in range(0,k):\n",
        "    word_list=[]\n",
        "    print(\"cluster%d:\"% i)\n",
        "    for j in centers[i,:15]:\n",
        "        word_list.append(terms[j])\n",
        "    print(word_list) "
      ],
      "metadata": {
        "colab": {
          "base_uri": "https://localhost:8080/"
        },
        "id": "USaquSDtsFTw",
        "outputId": "e56a0c0c-1e70-428f-82fc-0ee5521f6e24"
      },
      "execution_count": null,
      "outputs": [
        {
          "output_type": "stream",
          "name": "stdout",
          "text": [
            "cluster0:\n",
            "['covid', 'copd', 'mom', 'got', 'home', 'hospital', 'dad', 'mask', 'old', 'years', 'positive', 'time', 'year', 'people', 'tested']\n",
            "cluster1:\n",
            "['asthma', 'copd', 'disease', 'chronic', 'obstructive', 'lung', 'pulmonary', 'used', 'patients', 'respiratory', 'treat', 'treatment', 'diseases', 'bronchitis', 'rotacaps']\n",
            "cluster2:\n",
            "['copd', 'help', 'patients', 'disease', 'lung', 'pulmonary', 'people', 'health', 'study', 'smoking', 'chronic', 'risk', 'new', 'care', 'like']\n",
            "cluster3:\n",
            "['know', 'living', 'copd', 'youtube', 'people', 'lung', 'like', 'let', 'need', 'conditions', 'disease', 'fiberglass', 'friends', 'asthma', 'support']\n"
          ]
        },
        {
          "output_type": "stream",
          "name": "stderr",
          "text": [
            "/usr/local/lib/python3.7/dist-packages/sklearn/utils/deprecation.py:87: FutureWarning: Function get_feature_names is deprecated; get_feature_names is deprecated in 1.0 and will be removed in 1.2. Please use get_feature_names_out instead.\n",
            "  warnings.warn(msg, category=FutureWarning)\n"
          ]
        }
      ]
    },
    {
      "cell_type": "code",
      "source": [
        "# 7. Topic modeling\n",
        "\n",
        "# Here I use NMF instead of LDA because LDA's calculation is time-consuming.\n",
        "\n",
        "# The major topics consist of politics, society, finance and internetional affairs, which is quite similiar to our cluster resu\n",
        "\n",
        "from sklearn.decomposition import NMF\n",
        "\n",
        "nmf  = NMF(n_components = 4)\n",
        "nmf.fit(tfidf)\n",
        "for i in range(0,k):\n",
        "    word_list=[]\n",
        "    print(\"Topic%d:\"% i)\n",
        "    for j in nmf.components_.argsort()[i,-16:-1]:\n",
        "        word_list.append(terms[j])\n",
        "    print(word_list)"
      ],
      "metadata": {
        "colab": {
          "base_uri": "https://localhost:8080/"
        },
        "id": "2LdoButvsjqS",
        "outputId": "b300a2a2-365a-4c28-e98d-d8eca92321f1"
      },
      "execution_count": null,
      "outputs": [
        {
          "output_type": "stream",
          "name": "stderr",
          "text": [
            "/usr/local/lib/python3.7/dist-packages/sklearn/decomposition/_nmf.py:294: FutureWarning: The 'init' value, when 'init=None' and n_components is less than n_samples and n_features, will be changed from 'nndsvd' to 'nndsvda' in 1.1 (renaming of 0.26).\n",
            "  FutureWarning,\n"
          ]
        },
        {
          "output_type": "stream",
          "name": "stdout",
          "text": [
            "Topic0:\n",
            "['learn', 'today', 'risk', 'new', 'care', 'know', 'like', 'cancer', 'patients', 'health', 'asthma', 'lung', 'people', 'help', 'covid']\n",
            "Topic1:\n",
            "['cancer', 'common', 'causes', 'heart', 'rehabilitation', 'respiratory', 'copd', 'smoking', 'bronchitis', 'emphysema', 'diseases', 'lung', 'obstructive', 'pulmonary', 'disease']\n",
            "Topic2:\n",
            "['rotahaler', 'tiova', 'device', 'capsules', 'dry', 'treat', 'inhalation', 'approves', 'powder', 'cipla', 'symbicort', 'treatment', 'fda', 'generic', 'rotacaps']\n",
            "Topic3:\n",
            "['rotacaps', 'disease', 'obstructive', 'treat', 'patients', 'years', 'airway', 'older', 'age', 'prevent', 'reversible', 'prevention', 'asthalin', 'bronchospasm', 'inhaler']\n"
          ]
        }
      ]
    },
    {
      "cell_type": "markdown",
      "metadata": {
        "id": "IkEKtJ2bT2iq"
      },
      "source": [
        "## Determine time evolution of tweets"
      ]
    },
    {
      "cell_type": "code",
      "execution_count": null,
      "metadata": {
        "id": "JEG1BK9lT2iq"
      },
      "outputs": [],
      "source": [
        "# extract all document-topic distritbutions to dictionnary\n",
        "# document_key = list(tweet_df.date)\n",
        "document_topic = {}"
      ]
    },
    {
      "cell_type": "code",
      "execution_count": null,
      "metadata": {
        "id": "cxD0sEMZT2iq"
      },
      "outputs": [],
      "source": [
        "for doc_id in range(len(corpus)):\n",
        "    docbok = corpus[doc_id]\n",
        "    doc_topics = tweet_topics.get_document_topics(docbok, 0)\n",
        "    tmp = []\n",
        "    for topic_id, topic_prob in doc_topics:\n",
        "        tmp.append(topic_prob)\n",
        "    document_topic[document_key[doc_id]] = tmp"
      ]
    },
    {
      "cell_type": "code",
      "execution_count": null,
      "metadata": {
        "id": "OwvL29PxT2iq"
      },
      "outputs": [],
      "source": [
        "df = pd.DataFrame.from_dict(document_topic, orient='index')"
      ]
    },
    {
      "cell_type": "code",
      "execution_count": null,
      "metadata": {
        "id": "PtOYoWfXT2ir"
      },
      "outputs": [],
      "source": [
        "df.columns = [\"Nuclear\", \"Professor_Crime\", \"Thaler_Nobel\", \"Cancer_Research\", \"Unionization\", \"Evening_Program\", \"Zimmer_FreeSpeech\"]"
      ]
    },
    {
      "cell_type": "code",
      "execution_count": null,
      "metadata": {
        "id": "r8dINQdCT2ir"
      },
      "outputs": [],
      "source": [
        "df.head(5)"
      ]
    },
    {
      "cell_type": "code",
      "execution_count": null,
      "metadata": {
        "id": "yj9ZueKQT2ir"
      },
      "outputs": [],
      "source": [
        "df.to_csv(\"/Users/Orest/Desktop/Big Data and Text Analytics/FP/timed_tweets.csv\")"
      ]
    },
    {
      "cell_type": "markdown",
      "metadata": {
        "id": "mSRAzV1qT2ir"
      },
      "source": [
        "Graphs are produced with ggplot2 package in R."
      ]
    }
  ],
  "metadata": {
    "colab": {
      "collapsed_sections": [
        "Nvc_YBHOT2ih",
        "4_1H0LoHYMYP",
        "pcfvdnO_Qyo5",
        "uwXLArfdtAtZ"
      ],
      "name": "English - Twitter LDA TextAnalysis.ipynb",
      "provenance": [],
      "include_colab_link": true
    },
    "kernelspec": {
      "display_name": "Python 3",
      "language": "python",
      "name": "python3"
    },
    "language_info": {
      "codemirror_mode": {
        "name": "ipython",
        "version": 3
      },
      "file_extension": ".py",
      "mimetype": "text/x-python",
      "name": "python",
      "nbconvert_exporter": "python",
      "pygments_lexer": "ipython3",
      "version": "3.6.3"
    }
  },
  "nbformat": 4,
  "nbformat_minor": 0
}