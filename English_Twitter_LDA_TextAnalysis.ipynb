{
  "cells": [
    {
      "cell_type": "markdown",
      "metadata": {
        "id": "view-in-github",
        "colab_type": "text"
      },
      "source": [
        "<a href=\"https://colab.research.google.com/github/saharshayegan/Twitter_LDA_text_analysis/blob/main/English_Twitter_LDA_TextAnalysis.ipynb\" target=\"_parent\"><img src=\"https://colab.research.google.com/assets/colab-badge.svg\" alt=\"Open In Colab\"/></a>"
      ]
    },
    {
      "cell_type": "code",
      "execution_count": 11,
      "metadata": {
        "colab": {
          "base_uri": "https://localhost:8080/"
        },
        "id": "o5es5hLjBZem",
        "outputId": "3174acda-6e88-4fde-f055-1c17cc0be5cd"
      },
      "outputs": [
        {
          "output_type": "stream",
          "name": "stdout",
          "text": [
            "Looking in indexes: https://pypi.org/simple, https://us-python.pkg.dev/colab-wheels/public/simple/\n",
            "Requirement already satisfied: pandas==1.2 in /usr/local/lib/python3.7/dist-packages (1.2.0)\n",
            "Requirement already satisfied: python-dateutil>=2.7.3 in /usr/local/lib/python3.7/dist-packages (from pandas==1.2) (2.8.2)\n",
            "Requirement already satisfied: numpy>=1.16.5 in /usr/local/lib/python3.7/dist-packages (from pandas==1.2) (1.21.6)\n",
            "Requirement already satisfied: pytz>=2017.3 in /usr/local/lib/python3.7/dist-packages (from pandas==1.2) (2022.1)\n",
            "Requirement already satisfied: six>=1.5 in /usr/local/lib/python3.7/dist-packages (from python-dateutil>=2.7.3->pandas==1.2) (1.15.0)\n",
            "Looking in indexes: https://pypi.org/simple, https://us-python.pkg.dev/colab-wheels/public/simple/\n",
            "Requirement already satisfied: gensim in /usr/local/lib/python3.7/dist-packages (4.2.0)\n",
            "Requirement already satisfied: numpy>=1.17.0 in /usr/local/lib/python3.7/dist-packages (from gensim) (1.21.6)\n",
            "Requirement already satisfied: smart-open>=1.8.1 in /usr/local/lib/python3.7/dist-packages (from gensim) (5.2.1)\n",
            "Requirement already satisfied: scipy>=0.18.1 in /usr/local/lib/python3.7/dist-packages (from gensim) (1.4.1)\n"
          ]
        }
      ],
      "source": [
        "#Run this and reset the runtime. Then proceed.\n",
        "!pip install --upgrade pandas==1.2\n",
        "!pip install -U gensim"
      ]
    },
    {
      "cell_type": "markdown",
      "metadata": {
        "id": "rycwxZP_XS4S"
      },
      "source": [
        "## Installing and importing"
      ]
    },
    {
      "cell_type": "code",
      "execution_count": 1,
      "metadata": {
        "id": "OFV49k6wT2iW"
      },
      "outputs": [],
      "source": [
        "import pandas as pd\n",
        "import re\n",
        "from nltk.corpus import stopwords\n",
        "\n",
        "from gensim.parsing.preprocessing import STOPWORDS\n",
        "from gensim.utils import simple_preprocess\n",
        "from gensim.models import TfidfModel, LsiModel\n",
        "from gensim.models.ldamodel import LdaModel\n",
        "from gensim import corpora\n",
        "from gensim import matutils\n",
        "\n",
        "from collections import defaultdict\n",
        "import pickle"
      ]
    },
    {
      "cell_type": "code",
      "execution_count": 2,
      "metadata": {
        "colab": {
          "base_uri": "https://localhost:8080/"
        },
        "id": "SkEAOc48jS3h",
        "outputId": "8ecc2861-b684-4b72-92ba-2d8216e80030"
      },
      "outputs": [
        {
          "output_type": "stream",
          "name": "stdout",
          "text": [
            "Drive already mounted at /content/drive; to attempt to forcibly remount, call drive.mount(\"/content/drive\", force_remount=True).\n"
          ]
        }
      ],
      "source": [
        "from google.colab import drive\n",
        "drive.mount('/content/drive')"
      ]
    },
    {
      "cell_type": "code",
      "execution_count": 3,
      "metadata": {
        "id": "7RQDlG0RDdIx"
      },
      "outputs": [],
      "source": [
        "### Installing Stuff"
      ]
    },
    {
      "cell_type": "code",
      "execution_count": null,
      "metadata": {
        "id": "BTgSGR_pf0g-"
      },
      "outputs": [],
      "source": [
        "# Package is in detached-head mode. Clone from Github, commit latest changes and run setup.py\n",
        "! git clone https://github.com/bmabey/pyLDAvis\n",
        "%cd pyLDAvis\n",
        "! python setup.py build\n",
        "! python setup.py install\n",
        "%cd .."
      ]
    },
    {
      "cell_type": "code",
      "execution_count": null,
      "metadata": {
        "id": "k_ne_VwwWydi"
      },
      "outputs": [],
      "source": [
        "! python3.7 -m pip install funcy\n",
        "! pip install funcy\n",
        "import sys\n",
        "sys.path.insert(0,'/usr/local/lib/python3.7/dist-packages/funcy-1.17-py3.7.egg')\n",
        "import funcy\n",
        "# !pip install --upgrade pandas==1.2\n",
        "\n",
        "\n",
        "import nltk\n",
        "nltk.download('stopwords')\n",
        "nltk.download('punkt')\n",
        "nltk.download('wordnet')"
      ]
    },
    {
      "cell_type": "code",
      "execution_count": null,
      "metadata": {
        "id": "kwfoT8vMRiqd"
      },
      "outputs": [],
      "source": [
        "import pyLDAvis.gensim_models as gensimvis"
      ]
    },
    {
      "cell_type": "markdown",
      "metadata": {
        "id": "yneaQqmoXXuR"
      },
      "source": [
        "## Base"
      ]
    },
    {
      "cell_type": "code",
      "execution_count": 7,
      "metadata": {
        "id": "HWiX7DCz2AJJ",
        "colab": {
          "base_uri": "https://localhost:8080/"
        },
        "outputId": "437f20cf-fabd-4bdc-ff7d-45660e429724"
      },
      "outputs": [
        {
          "output_type": "stream",
          "name": "stdout",
          "text": [
            "['COPD', 'Diabetes', 'Arthritis', 'Obesity', 'Migraine', 'Heart Diseases', 'Asthma', 'Depression', 'PTSD', 'Cancer']\n"
          ]
        }
      ],
      "source": [
        "import pandas as pd\n",
        "\n",
        "filename= \"/content/drive/MyDrive/Colab Notebooks/thesis/diseases.txt\"\n",
        "with open(filename) as f:\n",
        "    diseases = [line.rstrip() for line in f]\n",
        "print(diseases)\n",
        "\n",
        "path = r'/content/drive/MyDrive/Colab Notebooks/thesis/' # use your path\n",
        "\n",
        "# diseases "
      ]
    },
    {
      "cell_type": "code",
      "source": [
        "diseases.append('cardiovascular')"
      ],
      "metadata": {
        "id": "mzvejmQRxITo"
      },
      "execution_count": 8,
      "outputs": []
    },
    {
      "cell_type": "code",
      "source": [
        "diseases.remove('Heart Diseases')"
      ],
      "metadata": {
        "id": "Sfw1CU8YcC5H"
      },
      "execution_count": 9,
      "outputs": []
    },
    {
      "cell_type": "code",
      "source": [
        "diseases"
      ],
      "metadata": {
        "colab": {
          "base_uri": "https://localhost:8080/"
        },
        "id": "IwSs8lbKcPaK",
        "outputId": "cddc5d8c-9bb3-4e0e-ee1e-3247c85f8bd7"
      },
      "execution_count": 10,
      "outputs": [
        {
          "output_type": "execute_result",
          "data": {
            "text/plain": [
              "['COPD',\n",
              " 'Diabetes',\n",
              " 'Arthritis',\n",
              " 'Obesity',\n",
              " 'Migraine',\n",
              " 'Asthma',\n",
              " 'Depression',\n",
              " 'PTSD',\n",
              " 'Cancer',\n",
              " 'cardiovascular']"
            ]
          },
          "metadata": {},
          "execution_count": 10
        }
      ]
    },
    {
      "cell_type": "markdown",
      "metadata": {
        "id": "Nvc_YBHOT2ih"
      },
      "source": [
        "## Text preparation/cleanup for analysis"
      ]
    },
    {
      "cell_type": "code",
      "execution_count": null,
      "metadata": {
        "id": "lZBhRsfBIzyv",
        "colab": {
          "base_uri": "https://localhost:8080/"
        },
        "outputId": "9cd5569e-9b8f-4ed2-b9b3-5c7ca11ccd7e"
      },
      "outputs": [
        {
          "output_type": "stream",
          "name": "stdout",
          "text": [
            "cardiovascular\n",
            "Text is cleaned\n"
          ]
        }
      ],
      "source": [
        "# I've run this before. don't run it again.\n",
        "for disease in diseases:\n",
        "  print(disease)\n",
        "  df = pd.read_csv(path+disease+'_tweets.csv', index_col=None, header=0)\n",
        "  tweet_list_raw = df['Text'].tolist()\n",
        "  # Text cleaning\n",
        "  # Remove http\n",
        "  link_pttrn = r\"http\\S+\"\n",
        "  tweet_list = [re.sub(link_pttrn, \"\", tweet) for tweet in tweet_list_raw]\n",
        "\n",
        "  # Remove non-letter sequences\n",
        "  nl_pttrn = r\"[^a-zA-Z']+\"\n",
        "  tweet_list = [re.sub(nl_pttrn, \" \", tweet) for tweet in tweet_list]\n",
        "\n",
        "  # Lower case\n",
        "  tweet_list = [tweet.lower() for tweet in tweet_list]\n",
        "\n",
        "  # Remove white space at beginning and end of document\n",
        "  ws_pttrn = r\"(^ | $)\"\n",
        "  tweet_list = [re.sub(ws_pttrn, \"\", tweet) for tweet in tweet_list]\n",
        "  # tweet_list[10:20]\n",
        "  # Pre-processing\n",
        "  # print(tweet_list_raw[501])\n",
        "  # Post-processing\n",
        "  # print(tweet_list[501])\n",
        "\n",
        "\n",
        "  import nltk\n",
        "  # STOPWORDS\n",
        "  nltk_stop_words = set(stopwords.words(\"english\"))\n",
        "  def tokenize(tweet):\n",
        "      return [token for token in simple_preprocess(tweet) if token not in nltk_stop_words]\n",
        "  tweets = [tokenize(tweet) for tweet in tweet_list]\n",
        "  tweets\n",
        "  tweets[501]\n",
        "  frequency = defaultdict(int)\n",
        "  for tweet in tweets:\n",
        "      for token in tweet:\n",
        "          frequency[token] += 1\n",
        "  freq_series = pd.Series(frequency)\n",
        "  # freq_series.sort_values(ascending=False)[0:10]\n",
        "  days = ['mon','tue','wed','thu','fri','sat','sun']\n",
        "  months = ['jan', 'feb', 'mar','apr','may','jun',\\\n",
        "          'jul', 'aug', 'sep', 'oct', 'nov', 'dec']\n",
        "\n",
        "  irrel = [\"rt\", \"amp\"]\n",
        "  uncommon_words = [w[0] for w in frequency.items() if w[1]<5]\n",
        "  two_letter = [w[0] for w in frequency.items() if len(w[0])< 3]\n",
        "\n",
        "  removed = uncommon_words + two_letter +days + months + irrel  \n",
        "  print('Text is cleaned')\n",
        "\n",
        "  # Process does take about 10-15 minutes, so the output is saved and loaded\n",
        "  tweets_clean = [[token for token in tweet if token not in removed] for tweet in tweets]\n",
        "  tweets_clean[501]\n",
        "  pickle_out = open(path+disease+\"_clean_final.pickle\", \"wb\")\n",
        "  pickle.dump(tweets_clean, pickle_out)\n",
        "  pickle_out.close()"
      ]
    },
    {
      "cell_type": "markdown",
      "metadata": {
        "id": "eUFTbSMSXeGG"
      },
      "source": [
        "## LDA and Visualization"
      ]
    },
    {
      "cell_type": "markdown",
      "metadata": {
        "id": "LNX31xPrT-8d"
      },
      "source": [
        "### The LDA and Visualize methods"
      ]
    },
    {
      "cell_type": "code",
      "execution_count": 26,
      "metadata": {
        "id": "D8thtablP4we"
      },
      "outputs": [],
      "source": [
        "def run_lda(corpus, dictionary, clusters,path,disease):\n",
        "  # Runtime about 5 mins\n",
        "  print('Trying to run the models')\n",
        "  tweet_topics = LdaModel(corpus = corpus,\n",
        "                        id2word = dictionary,\n",
        "                        num_topics = clusters,\n",
        "                        passes= 10)\n",
        "  pickle_out2 = open(path+disease+\"_ffinalmodel_{}clusters_split.pickle\".format(clusters), \"wb\")\n",
        "  pickle.dump(tweet_topics, pickle_out2)\n",
        "  pickle_out2.close()\n",
        "  return tweet_topics"
      ]
    },
    {
      "cell_type": "code",
      "execution_count": 27,
      "metadata": {
        "id": "w6NLButRQsGJ"
      },
      "outputs": [],
      "source": [
        "def visualize(tweet_topics, corpus, dictionary, clusters, path, disease):\n",
        "  ### Visualizing\n",
        "  vis_data = gensimvis.prepare(tweet_topics, corpus, dictionary)\n",
        "  # print(vis_data)\n",
        "  file = open(path+disease+'_twitter-LDA_{}clusters_split.txt'.format(clusters), 'w')\n",
        "  file.write(str(vis_data))\n",
        "  file.close()\n",
        "  import pyLDAvis\n",
        "  pyLDAvis.display(vis_data)\n",
        "  pyLDAvis.save_html(vis_data, path+disease+'_twitter-LDA_{}clusters_split.html'.format(clusters))"
      ]
    },
    {
      "cell_type": "code",
      "source": [
        "#  'COPD' 8\n",
        "#  'Diabetes' 8\n",
        "#  'Arthritis' 8\n",
        "#  'Obesity' 6\n",
        "#  'Migraine' 8\n",
        "#  'Asthma' 8\n",
        "#  'Depression' 8\n",
        "#  'PTSD' 8\n",
        "#  'Cancer' 8\n",
        "#  'cardiovascular' 7\n",
        "\n",
        "import pickle\n",
        "\n",
        "disease = 'cardiovascular'\n",
        "clusters = 7\n",
        "lda_model = pickle.load(open(path+disease+\"_ffinalmodel_{}clusters_split.pickle\".format(clusters), 'rb'))\n",
        "\n",
        "l = lda_model.show_topics(num_words = 20, formatted = False)\n",
        "counter = 1\n",
        "for tup in l:\n",
        "  print(counter)\n",
        "  for pair in tup[1]:\n",
        "    print(pair[0], end=', ')\n",
        "  counter +=1\n",
        "  print()\n",
        "print()"
      ],
      "metadata": {
        "id": "-cHraLgs_SA3"
      },
      "execution_count": null,
      "outputs": []
    },
    {
      "cell_type": "markdown",
      "metadata": {
        "id": "Hgk7c2KfYJKw"
      },
      "source": [
        "### For each topic:"
      ]
    },
    {
      "cell_type": "code",
      "source": [
        "# train, test = train_test_split(df, test_size=0.2)"
      ],
      "metadata": {
        "id": "jfwgOGh9e5Kr"
      },
      "execution_count": null,
      "outputs": []
    },
    {
      "cell_type": "code",
      "source": [
        "# I have done this before. no need to do it again\n",
        "# from sklearn.model_selection import train_test_split\n",
        "\n",
        "# for disease in diseases:\n",
        "#   tweets_clean = pickle.load(open(path+disease+\"_clean_final.pickle\", \"rb\" ) )\n",
        "\n",
        "#   train, test = train_test_split(tweets_clean, test_size=0.2)\n",
        "\n",
        "#   pickle_out = open(path+disease+\"_clean_final_train.pickle\", \"wb\")\n",
        "#   pickle.dump(train, pickle_out)\n",
        "#   pickle_out.close()\n",
        "\n",
        "#   pickle_out = open(path+disease+\"_clean_final_test.pickle\", \"wb\")\n",
        "#   pickle.dump(train, pickle_out)\n",
        "#   pickle_out.close()"
      ],
      "metadata": {
        "id": "X3xZet4Zhw_Z"
      },
      "execution_count": 47,
      "outputs": []
    },
    {
      "cell_type": "code",
      "execution_count": 53,
      "metadata": {
        "colab": {
          "base_uri": "https://localhost:8080/"
        },
        "id": "X0rHwRT-T2ih",
        "outputId": "f039889a-4478-4c7b-e501-2e0657adbb7e"
      },
      "outputs": [
        {
          "output_type": "stream",
          "name": "stdout",
          "text": [
            "Trying to run the models\n",
            "0 (0, '0.067*\"copd\" + 0.025*\"covid\" + 0.010*\"like\" + 0.010*\"people\" + 0.008*\"get\" + 0.008*\"got\" + 0.007*\"hospital\" + 0.006*\"know\" + 0.006*\"would\" + 0.006*\"old\"')\n",
            "1 (1, '0.073*\"copd\" + 0.012*\"via\" + 0.011*\"lung\" + 0.008*\"research\" + 0.007*\"cancer\" + 0.006*\"conference\" + 0.006*\"death\" + 0.006*\"register\" + 0.005*\"health\" + 0.005*\"one\"')\n",
            "2 (2, '0.053*\"copd\" + 0.025*\"covid\" + 0.022*\"smoking\" + 0.016*\"cancer\" + 0.013*\"heart\" + 0.009*\"get\" + 0.009*\"mask\" + 0.009*\"life\" + 0.008*\"failure\" + 0.007*\"quit\"')\n",
            "3 (3, '0.088*\"copd\" + 0.022*\"asthma\" + 0.021*\"patients\" + 0.012*\"health\" + 0.011*\"respiratory\" + 0.010*\"new\" + 0.010*\"care\" + 0.010*\"lung\" + 0.009*\"study\" + 0.008*\"help\"')\n",
            "4 (4, '0.072*\"copd\" + 0.025*\"air\" + 0.020*\"risk\" + 0.019*\"disease\" + 0.018*\"lung\" + 0.017*\"help\" + 0.016*\"asthma\" + 0.012*\"cancer\" + 0.010*\"people\" + 0.008*\"serious\"')\n",
            "5 (5, '0.066*\"copd\" + 0.049*\"chronic\" + 0.042*\"disease\" + 0.036*\"asthma\" + 0.035*\"pulmonary\" + 0.033*\"obstructive\" + 0.020*\"treatment\" + 0.017*\"used\" + 0.012*\"lung\" + 0.012*\"respiratory\"')\n",
            "Trying to run the models\n",
            "0 (0, '0.072*\"copd\" + 0.023*\"asthma\" + 0.013*\"lung\" + 0.009*\"first\" + 0.009*\"today\" + 0.009*\"smoking\" + 0.008*\"air\" + 0.008*\"like\" + 0.008*\"generic\" + 0.007*\"help\"')\n",
            "1 (1, '0.077*\"copd\" + 0.022*\"care\" + 0.014*\"patients\" + 0.009*\"respiratory\" + 0.008*\"latest\" + 0.008*\"asthma\" + 0.007*\"join\" + 0.007*\"community\" + 0.007*\"research\" + 0.007*\"register\"')\n",
            "2 (2, '0.080*\"copd\" + 0.034*\"disease\" + 0.034*\"pulmonary\" + 0.029*\"chronic\" + 0.021*\"patients\" + 0.019*\"obstructive\" + 0.015*\"lung\" + 0.012*\"study\" + 0.011*\"risk\" + 0.008*\"new\"')\n",
            "3 (3, '0.077*\"copd\" + 0.028*\"asthma\" + 0.020*\"risk\" + 0.012*\"breathing\" + 0.012*\"exposure\" + 0.009*\"help\" + 0.007*\"exercise\" + 0.007*\"smokers\" + 0.006*\"dose\" + 0.006*\"induced\"')\n",
            "4 (4, '0.058*\"copd\" + 0.038*\"covid\" + 0.012*\"get\" + 0.011*\"people\" + 0.010*\"got\" + 0.010*\"years\" + 0.009*\"heart\" + 0.009*\"hospital\" + 0.009*\"mask\" + 0.008*\"old\"')\n",
            "5 (5, '0.073*\"copd\" + 0.038*\"asthma\" + 0.016*\"treatment\" + 0.015*\"respiratory\" + 0.014*\"cancer\" + 0.011*\"via\" + 0.011*\"disease\" + 0.009*\"health\" + 0.009*\"chronic\" + 0.009*\"device\"')\n",
            "6 (6, '0.076*\"copd\" + 0.015*\"asthma\" + 0.015*\"lung\" + 0.011*\"health\" + 0.010*\"breathe\" + 0.009*\"people\" + 0.009*\"help\" + 0.007*\"respiratory\" + 0.006*\"lungs\" + 0.005*\"work\"')\n",
            "Trying to run the models\n",
            "0 (0, '0.065*\"copd\" + 0.039*\"covid\" + 0.014*\"get\" + 0.013*\"got\" + 0.011*\"like\" + 0.011*\"people\" + 0.010*\"mask\" + 0.010*\"mom\" + 0.010*\"old\" + 0.009*\"still\"')\n",
            "1 (1, '0.064*\"copd\" + 0.016*\"heart\" + 0.015*\"cancer\" + 0.013*\"failure\" + 0.012*\"hospital\" + 0.009*\"positive\" + 0.008*\"breathing\" + 0.007*\"diabetes\" + 0.007*\"asthma\" + 0.007*\"bad\"')\n",
            "2 (2, '0.089*\"copd\" + 0.010*\"care\" + 0.009*\"new\" + 0.008*\"respiratory\" + 0.007*\"patient\" + 0.007*\"asthma\" + 0.006*\"research\" + 0.006*\"read\" + 0.006*\"join\" + 0.006*\"management\"')\n",
            "3 (3, '0.077*\"copd\" + 0.044*\"pulmonary\" + 0.040*\"disease\" + 0.039*\"chronic\" + 0.026*\"obstructive\" + 0.025*\"patients\" + 0.023*\"asthma\" + 0.015*\"risk\" + 0.013*\"study\" + 0.012*\"lung\"')\n",
            "4 (4, '0.075*\"copd\" + 0.019*\"lung\" + 0.017*\"disease\" + 0.014*\"smoking\" + 0.013*\"asthma\" + 0.012*\"help\" + 0.012*\"health\" + 0.010*\"cancer\" + 0.008*\"people\" + 0.008*\"also\"')\n",
            "5 (5, '0.071*\"copd\" + 0.028*\"asthma\" + 0.019*\"lung\" + 0.012*\"first\" + 0.012*\"respiratory\" + 0.011*\"generic\" + 0.011*\"cancer\" + 0.011*\"health\" + 0.011*\"women\" + 0.010*\"fda\"')\n",
            "6 (6, '0.038*\"copd\" + 0.026*\"treatment\" + 0.023*\"asthma\" + 0.021*\"device\" + 0.018*\"inhalation\" + 0.018*\"powder\" + 0.017*\"rotacaps\" + 0.017*\"dry\" + 0.016*\"cipla\" + 0.015*\"use\"')\n",
            "7 (7, '0.073*\"copd\" + 0.024*\"asthma\" + 0.016*\"help\" + 0.014*\"health\" + 0.014*\"learn\" + 0.014*\"people\" + 0.013*\"care\" + 0.013*\"lung\" + 0.011*\"life\" + 0.009*\"conditions\"')\n",
            "Trying to run the models\n",
            "0 (0, '0.088*\"diabetes\" + 0.018*\"like\" + 0.017*\"get\" + 0.013*\"sugar\" + 0.012*\"type\" + 0.011*\"got\" + 0.010*\"blood\" + 0.009*\"eat\" + 0.008*\"time\" + 0.006*\"think\"')\n",
            "1 (1, '0.096*\"diabetes\" + 0.034*\"risk\" + 0.021*\"covid\" + 0.020*\"type\" + 0.017*\"study\" + 0.015*\"people\" + 0.014*\"blood\" + 0.011*\"sugar\" + 0.011*\"drug\" + 0.011*\"new\"')\n",
            "2 (2, '0.088*\"diabetes\" + 0.014*\"type\" + 0.013*\"insulin\" + 0.012*\"health\" + 0.012*\"patients\" + 0.012*\"disease\" + 0.011*\"free\" + 0.010*\"care\" + 0.007*\"kidney\" + 0.007*\"help\"')\n",
            "3 (3, '0.083*\"diabetes\" + 0.015*\"research\" + 0.012*\"new\" + 0.010*\"health\" + 0.009*\"review\" + 0.009*\"treatment\" + 0.009*\"dukpc\" + 0.009*\"covid\" + 0.009*\"people\" + 0.008*\"care\"')\n",
            "4 (4, '0.075*\"diabetes\" + 0.032*\"health\" + 0.024*\"diet\" + 0.019*\"obesity\" + 0.018*\"disease\" + 0.017*\"heart\" + 0.015*\"type\" + 0.015*\"healthy\" + 0.014*\"control\" + 0.012*\"cancer\"')\n",
            "5 (5, '0.115*\"diabetes\" + 0.034*\"type\" + 0.014*\"cure\" + 0.010*\"people\" + 0.009*\"know\" + 0.009*\"cells\" + 0.008*\"today\" + 0.008*\"one\" + 0.008*\"finally\" + 0.007*\"stem\"')\n",
            "Trying to run the models\n",
            "0 (0, '0.090*\"diabetes\" + 0.025*\"drug\" + 0.022*\"study\" + 0.021*\"defects\" + 0.018*\"linked\" + 0.018*\"birth\" + 0.017*\"health\" + 0.017*\"men\" + 0.015*\"use\" + 0.012*\"type\"')\n",
            "1 (1, '0.083*\"diabetes\" + 0.053*\"risk\" + 0.048*\"covid\" + 0.028*\"type\" + 0.026*\"new\" + 0.021*\"people\" + 0.016*\"increased\" + 0.015*\"infection\" + 0.014*\"diagnosis\" + 0.014*\"study\"')\n",
            "2 (2, '0.072*\"diabetes\" + 0.025*\"disease\" + 0.018*\"heart\" + 0.016*\"health\" + 0.013*\"people\" + 0.013*\"obesity\" + 0.011*\"get\" + 0.010*\"like\" + 0.010*\"cancer\" + 0.008*\"diseases\"')\n",
            "3 (3, '0.094*\"diabetes\" + 0.017*\"got\" + 0.015*\"like\" + 0.011*\"really\" + 0.011*\"much\" + 0.010*\"make\" + 0.008*\"need\" + 0.008*\"think\" + 0.008*\"people\" + 0.007*\"free\"')\n",
            "4 (4, '0.118*\"diabetes\" + 0.047*\"type\" + 0.015*\"health\" + 0.011*\"cure\" + 0.010*\"cells\" + 0.009*\"finally\" + 0.008*\"stem\" + 0.008*\"offer\" + 0.007*\"help\" + 0.007*\"people\"')\n",
            "5 (5, '0.119*\"diabetes\" + 0.013*\"insulin\" + 0.012*\"type\" + 0.010*\"get\" + 0.008*\"support\" + 0.008*\"today\" + 0.006*\"help\" + 0.006*\"first\" + 0.006*\"care\" + 0.006*\"day\"')\n",
            "6 (6, '0.067*\"diabetes\" + 0.057*\"blood\" + 0.048*\"sugar\" + 0.024*\"high\" + 0.015*\"cause\" + 0.013*\"type\" + 0.012*\"pressure\" + 0.012*\"glucose\" + 0.011*\"levels\" + 0.010*\"kidney\"')\n",
            "Trying to run the models\n",
            "0 (0, '0.052*\"covid\" + 0.044*\"diabetes\" + 0.024*\"cause\" + 0.021*\"new\" + 0.019*\"brain\" + 0.016*\"evidence\" + 0.016*\"research\" + 0.015*\"long\" + 0.015*\"liver\" + 0.015*\"damage\"')\n",
            "1 (1, '0.090*\"diabetes\" + 0.046*\"type\" + 0.026*\"health\" + 0.017*\"diet\" + 0.012*\"control\" + 0.010*\"help\" + 0.009*\"mellitus\" + 0.009*\"patients\" + 0.008*\"reduce\" + 0.007*\"exercise\"')\n",
            "2 (2, '0.080*\"diabetes\" + 0.024*\"people\" + 0.015*\"sugar\" + 0.010*\"diabetic\" + 0.010*\"call\" + 0.008*\"hypertension\" + 0.008*\"insulin\" + 0.007*\"joke\" + 0.007*\"one\" + 0.007*\"condition\"')\n",
            "3 (3, '0.085*\"diabetes\" + 0.024*\"blood\" + 0.018*\"sugar\" + 0.015*\"disease\" + 0.012*\"heart\" + 0.012*\"high\" + 0.011*\"like\" + 0.010*\"people\" + 0.007*\"health\" + 0.007*\"type\"')\n",
            "4 (4, '0.097*\"diabetes\" + 0.061*\"risk\" + 0.036*\"covid\" + 0.026*\"type\" + 0.025*\"new\" + 0.024*\"study\" + 0.016*\"increased\" + 0.015*\"infection\" + 0.014*\"developing\" + 0.014*\"diagnosis\"')\n",
            "5 (5, '0.106*\"diabetes\" + 0.025*\"type\" + 0.013*\"day\" + 0.010*\"one\" + 0.009*\"get\" + 0.009*\"risk\" + 0.009*\"know\" + 0.008*\"like\" + 0.007*\"still\" + 0.006*\"nhs\"')\n",
            "6 (6, '0.099*\"diabetes\" + 0.032*\"drug\" + 0.029*\"cure\" + 0.029*\"type\" + 0.027*\"birth\" + 0.025*\"defects\" + 0.023*\"linked\" + 0.022*\"use\" + 0.018*\"study\" + 0.018*\"cells\"')\n",
            "7 (7, '0.112*\"diabetes\" + 0.012*\"type\" + 0.012*\"care\" + 0.012*\"health\" + 0.009*\"free\" + 0.009*\"insulin\" + 0.007*\"today\" + 0.007*\"management\" + 0.006*\"dukpc\" + 0.006*\"join\"')\n",
            "Trying to run the models\n",
            "0 (0, '0.076*\"arthritis\" + 0.025*\"rheumatoid\" + 0.020*\"disease\" + 0.011*\"treatment\" + 0.009*\"psoriatic\" + 0.008*\"diseases\" + 0.008*\"health\" + 0.008*\"chronic\" + 0.007*\"autoimmune\" + 0.007*\"patients\"')\n",
            "1 (1, '0.101*\"arthritis\" + 0.061*\"pain\" + 0.019*\"relief\" + 0.016*\"help\" + 0.011*\"joint\" + 0.011*\"cbd\" + 0.008*\"health\" + 0.008*\"back\" + 0.008*\"reduce\" + 0.008*\"oil\"')\n",
            "2 (2, '0.091*\"arthritis\" + 0.026*\"pain\" + 0.024*\"knee\" + 0.021*\"like\" + 0.008*\"back\" + 0.007*\"got\" + 0.007*\"hip\" + 0.007*\"help\" + 0.007*\"good\" + 0.006*\"time\"')\n",
            "3 (3, '0.087*\"arthritis\" + 0.014*\"rheumatoid\" + 0.010*\"pain\" + 0.010*\"get\" + 0.009*\"joint\" + 0.008*\"like\" + 0.008*\"people\" + 0.008*\"joints\" + 0.007*\"one\" + 0.007*\"symptoms\"')\n",
            "4 (4, '0.087*\"arthritis\" + 0.016*\"got\" + 0.015*\"dog\" + 0.015*\"think\" + 0.013*\"since\" + 0.013*\"life\" + 0.012*\"get\" + 0.011*\"getting\" + 0.010*\"bad\" + 0.010*\"inflammation\"')\n",
            "5 (5, '0.082*\"arthritis\" + 0.020*\"old\" + 0.013*\"rheumatoid\" + 0.012*\"year\" + 0.012*\"years\" + 0.008*\"risk\" + 0.007*\"air\" + 0.006*\"people\" + 0.006*\"well\" + 0.005*\"disease\"')\n",
            "Trying to run the models\n",
            "0 (0, '0.077*\"arthritis\" + 0.020*\"pain\" + 0.018*\"treatment\" + 0.015*\"reduce\" + 0.014*\"inflammation\" + 0.013*\"life\" + 0.012*\"improve\" + 0.011*\"dog\" + 0.011*\"cbd\" + 0.011*\"tea\"')\n",
            "1 (1, '0.063*\"arthritis\" + 0.037*\"rheumatoid\" + 0.033*\"disease\" + 0.017*\"diseases\" + 0.016*\"autoimmune\" + 0.016*\"risk\" + 0.014*\"cancer\" + 0.013*\"health\" + 0.011*\"long\" + 0.010*\"heart\"')\n",
            "2 (2, '0.091*\"arthritis\" + 0.017*\"like\" + 0.011*\"got\" + 0.010*\"old\" + 0.010*\"get\" + 0.009*\"one\" + 0.008*\"day\" + 0.008*\"back\" + 0.008*\"time\" + 0.007*\"years\"')\n",
            "3 (3, '0.080*\"arthritis\" + 0.022*\"pain\" + 0.020*\"help\" + 0.012*\"back\" + 0.012*\"support\" + 0.011*\"medical\" + 0.010*\"gloves\" + 0.010*\"compression\" + 0.009*\"free\" + 0.009*\"avoid\"')\n",
            "4 (4, '0.095*\"arthritis\" + 0.036*\"rheumatoid\" + 0.017*\"pain\" + 0.015*\"patients\" + 0.013*\"treatment\" + 0.012*\"study\" + 0.011*\"new\" + 0.009*\"research\" + 0.009*\"psoriatic\" + 0.009*\"knee\"')\n",
            "5 (5, '0.082*\"arthritis\" + 0.011*\"foot\" + 0.010*\"love\" + 0.009*\"meds\" + 0.009*\"care\" + 0.009*\"pain\" + 0.008*\"daily\" + 0.008*\"take\" + 0.007*\"dogs\" + 0.007*\"help\"')\n",
            "6 (6, '0.097*\"arthritis\" + 0.034*\"pain\" + 0.014*\"help\" + 0.014*\"joint\" + 0.011*\"people\" + 0.009*\"know\" + 0.009*\"joints\" + 0.008*\"get\" + 0.008*\"symptoms\" + 0.008*\"inflammation\"')\n",
            "Trying to run the models\n",
            "0 (0, '0.113*\"arthritis\" + 0.033*\"pain\" + 0.022*\"help\" + 0.020*\"psoriatic\" + 0.014*\"medical\" + 0.011*\"patients\" + 0.010*\"back\" + 0.010*\"rheumatoid\" + 0.008*\"avoid\" + 0.007*\"shoulder\"')\n",
            "1 (1, '0.081*\"arthritis\" + 0.026*\"rheumatoid\" + 0.025*\"disease\" + 0.016*\"treatment\" + 0.012*\"health\" + 0.011*\"inflammation\" + 0.009*\"cancer\" + 0.009*\"diabetes\" + 0.008*\"life\" + 0.008*\"heart\"')\n",
            "2 (2, '0.070*\"arthritis\" + 0.027*\"good\" + 0.021*\"cbd\" + 0.021*\"day\" + 0.013*\"one\" + 0.011*\"like\" + 0.010*\"shit\" + 0.009*\"foot\" + 0.009*\"fuck\" + 0.009*\"much\"')\n",
            "3 (3, '0.090*\"arthritis\" + 0.015*\"like\" + 0.014*\"get\" + 0.013*\"got\" + 0.012*\"old\" + 0.009*\"hands\" + 0.009*\"back\" + 0.008*\"years\" + 0.008*\"time\" + 0.007*\"know\"')\n",
            "4 (4, '0.085*\"arthritis\" + 0.014*\"people\" + 0.012*\"rheumatoid\" + 0.009*\"juvenile\" + 0.009*\"children\" + 0.008*\"today\" + 0.008*\"help\" + 0.007*\"via\" + 0.007*\"young\" + 0.007*\"awareness\"')\n",
            "5 (5, '0.076*\"arthritis\" + 0.018*\"therapy\" + 0.015*\"rheumatoid\" + 0.008*\"use\" + 0.008*\"study\" + 0.007*\"disease\" + 0.007*\"pain\" + 0.007*\"inflammatory\" + 0.006*\"deserve\" + 0.006*\"playing\"')\n",
            "6 (6, '0.082*\"arthritis\" + 0.066*\"pain\" + 0.032*\"joint\" + 0.022*\"knee\" + 0.017*\"relief\" + 0.011*\"help\" + 0.009*\"joints\" + 0.009*\"health\" + 0.007*\"tea\" + 0.006*\"hip\"')\n",
            "7 (7, '0.084*\"arthritis\" + 0.025*\"rheumatoid\" + 0.016*\"hand\" + 0.011*\"gloves\" + 0.010*\"risk\" + 0.009*\"compression\" + 0.008*\"long\" + 0.008*\"wrist\" + 0.008*\"autoimmune\" + 0.008*\"study\"')\n",
            "Trying to run the models\n",
            "0 (0, '0.077*\"obesity\" + 0.022*\"people\" + 0.015*\"food\" + 0.014*\"fat\" + 0.011*\"healthy\" + 0.010*\"like\" + 0.010*\"time\" + 0.009*\"eating\" + 0.008*\"obese\" + 0.008*\"eat\"')\n",
            "1 (1, '0.070*\"obesity\" + 0.025*\"weight\" + 0.015*\"risk\" + 0.014*\"diabetes\" + 0.012*\"sleep\" + 0.011*\"disease\" + 0.010*\"associated\" + 0.010*\"loss\" + 0.009*\"cancer\" + 0.009*\"diseases\"')\n",
            "2 (2, '0.082*\"obesity\" + 0.026*\"health\" + 0.012*\"covid\" + 0.010*\"childhood\" + 0.010*\"risk\" + 0.009*\"people\" + 0.007*\"body\" + 0.006*\"physical\" + 0.006*\"rates\" + 0.006*\"america\"')\n",
            "3 (3, '0.083*\"obesity\" + 0.024*\"diabetes\" + 0.014*\"high\" + 0.013*\"disease\" + 0.012*\"heart\" + 0.011*\"weight\" + 0.011*\"health\" + 0.010*\"blood\" + 0.008*\"type\" + 0.007*\"treatment\"')\n",
            "4 (4, '0.091*\"obesity\" + 0.012*\"health\" + 0.012*\"well\" + 0.007*\"join\" + 0.006*\"wellness\" + 0.006*\"march\" + 0.006*\"youtube\" + 0.006*\"webinar\" + 0.005*\"april\" + 0.005*\"video\"')\n",
            "5 (5, '0.082*\"obesity\" + 0.025*\"dogs\" + 0.024*\"one\" + 0.022*\"help\" + 0.019*\"issues\" + 0.012*\"preventable\" + 0.007*\"use\" + 0.007*\"childhood\" + 0.007*\"tackle\" + 0.006*\"new\"')\n",
            "Trying to run the models\n",
            "0 (0, '0.081*\"obesity\" + 0.017*\"help\" + 0.017*\"one\" + 0.016*\"dogs\" + 0.013*\"children\" + 0.012*\"issues\" + 0.009*\"new\" + 0.009*\"fat\" + 0.008*\"weight\" + 0.008*\"preventable\"')\n",
            "1 (1, '0.091*\"obesity\" + 0.037*\"health\" + 0.016*\"well\" + 0.011*\"real\" + 0.010*\"diet\" + 0.009*\"nature\" + 0.008*\"diabetes\" + 0.007*\"research\" + 0.007*\"look\" + 0.006*\"childhood\"')\n",
            "2 (2, '0.083*\"obesity\" + 0.028*\"people\" + 0.019*\"food\" + 0.013*\"fat\" + 0.013*\"like\" + 0.008*\"problem\" + 0.008*\"get\" + 0.008*\"america\" + 0.007*\"healthy\" + 0.007*\"hard\"')\n",
            "3 (3, '0.069*\"obesity\" + 0.035*\"diabetes\" + 0.032*\"risk\" + 0.020*\"disease\" + 0.017*\"heart\" + 0.014*\"cancer\" + 0.013*\"health\" + 0.013*\"high\" + 0.011*\"study\" + 0.011*\"type\"')\n",
            "4 (4, '0.078*\"obesity\" + 0.025*\"weight\" + 0.012*\"loss\" + 0.008*\"patients\" + 0.008*\"health\" + 0.008*\"childhood\" + 0.006*\"people\" + 0.006*\"bariatric\" + 0.006*\"surgery\" + 0.005*\"care\"')\n",
            "5 (5, '0.068*\"obesity\" + 0.027*\"health\" + 0.013*\"body\" + 0.012*\"food\" + 0.012*\"eat\" + 0.011*\"fat\" + 0.011*\"sugar\" + 0.008*\"rates\" + 0.008*\"overweight\" + 0.008*\"less\"')\n",
            "6 (6, '0.092*\"obesity\" + 0.011*\"childhood\" + 0.008*\"child\" + 0.006*\"new\" + 0.006*\"today\" + 0.005*\"tackle\" + 0.005*\"best\" + 0.005*\"join\" + 0.004*\"children\" + 0.004*\"study\"')\n",
            "Trying to run the models\n",
            "0 (0, '0.085*\"obesity\" + 0.011*\"fat\" + 0.009*\"new\" + 0.009*\"cancer\" + 0.008*\"body\" + 0.007*\"high\" + 0.007*\"metabolic\" + 0.007*\"cholesterol\" + 0.007*\"obese\" + 0.007*\"linked\"')\n",
            "1 (1, '0.082*\"obesity\" + 0.023*\"weight\" + 0.018*\"people\" + 0.012*\"health\" + 0.010*\"loss\" + 0.010*\"diet\" + 0.006*\"weightloss\" + 0.006*\"sugar\" + 0.006*\"eating\" + 0.005*\"childhood\"')\n",
            "2 (2, '0.071*\"obesity\" + 0.030*\"food\" + 0.014*\"people\" + 0.011*\"problem\" + 0.008*\"eating\" + 0.008*\"time\" + 0.008*\"hard\" + 0.008*\"healthy\" + 0.008*\"health\" + 0.007*\"make\"')\n",
            "3 (3, '0.075*\"obesity\" + 0.021*\"diabetes\" + 0.018*\"risk\" + 0.016*\"health\" + 0.014*\"disease\" + 0.012*\"weight\" + 0.010*\"heart\" + 0.008*\"sleep\" + 0.008*\"children\" + 0.008*\"fat\"')\n",
            "4 (4, '0.078*\"obesity\" + 0.011*\"would\" + 0.011*\"nutrition\" + 0.009*\"like\" + 0.009*\"children\" + 0.008*\"less\" + 0.007*\"eat\" + 0.007*\"get\" + 0.007*\"said\" + 0.007*\"study\"')\n",
            "5 (5, '0.096*\"obesity\" + 0.019*\"health\" + 0.018*\"childhood\" + 0.012*\"research\" + 0.011*\"join\" + 0.011*\"real\" + 0.010*\"surgery\" + 0.009*\"diabetes\" + 0.009*\"nature\" + 0.008*\"address\"')\n",
            "6 (6, '0.075*\"obesity\" + 0.018*\"people\" + 0.016*\"health\" + 0.012*\"fat\" + 0.010*\"well\" + 0.008*\"best\" + 0.008*\"talk\" + 0.007*\"working\" + 0.007*\"also\" + 0.006*\"childhood\"')\n",
            "7 (7, '0.092*\"obesity\" + 0.030*\"one\" + 0.028*\"help\" + 0.027*\"issues\" + 0.027*\"dogs\" + 0.021*\"covid\" + 0.017*\"health\" + 0.014*\"care\" + 0.014*\"preventable\" + 0.011*\"take\"')\n",
            "Trying to run the models\n",
            "0 (0, '0.085*\"migraines\" + 0.063*\"migraine\" + 0.030*\"worst\" + 0.027*\"get\" + 0.025*\"hate\" + 0.018*\"ever\" + 0.016*\"look\" + 0.014*\"fucking\" + 0.014*\"thing\" + 0.013*\"long\"')\n",
            "1 (1, '0.056*\"migraine\" + 0.035*\"migraines\" + 0.032*\"like\" + 0.029*\"pain\" + 0.018*\"head\" + 0.017*\"feel\" + 0.011*\"health\" + 0.010*\"body\" + 0.009*\"brain\" + 0.009*\"chronic\"')\n",
            "2 (2, '0.058*\"migraines\" + 0.053*\"migraine\" + 0.036*\"getting\" + 0.017*\"fuck\" + 0.014*\"attack\" + 0.011*\"giving\" + 0.011*\"worse\" + 0.011*\"eye\" + 0.010*\"say\" + 0.009*\"think\"')\n",
            "3 (3, '0.099*\"migraine\" + 0.020*\"migraines\" + 0.011*\"days\" + 0.011*\"headache\" + 0.011*\"like\" + 0.011*\"get\" + 0.010*\"give\" + 0.010*\"coming\" + 0.010*\"feel\" + 0.010*\"back\"')\n",
            "4 (4, '0.135*\"migraine\" + 0.030*\"day\" + 0.029*\"today\" + 0.019*\"got\" + 0.015*\"woke\" + 0.014*\"night\" + 0.013*\"sleep\" + 0.011*\"stream\" + 0.011*\"going\" + 0.011*\"morning\"')\n",
            "5 (5, '0.085*\"migraine\" + 0.014*\"migraines\" + 0.013*\"time\" + 0.011*\"day\" + 0.010*\"days\" + 0.010*\"one\" + 0.010*\"another\" + 0.010*\"pain\" + 0.009*\"get\" + 0.009*\"still\"')\n",
            "Trying to run the models\n",
            "0 (0, '0.101*\"migraine\" + 0.026*\"another\" + 0.019*\"coming\" + 0.019*\"bad\" + 0.013*\"feel\" + 0.013*\"head\" + 0.013*\"migraines\" + 0.012*\"hell\" + 0.012*\"sleep\" + 0.011*\"making\"')\n",
            "1 (1, '0.055*\"migraine\" + 0.029*\"migraines\" + 0.020*\"day\" + 0.015*\"get\" + 0.013*\"week\" + 0.010*\"one\" + 0.010*\"time\" + 0.009*\"today\" + 0.008*\"back\" + 0.008*\"really\"')\n",
            "2 (2, '0.096*\"migraine\" + 0.014*\"like\" + 0.013*\"headache\" + 0.011*\"days\" + 0.010*\"last\" + 0.010*\"wake\" + 0.009*\"night\" + 0.009*\"long\" + 0.009*\"see\" + 0.009*\"get\"')\n",
            "3 (3, '0.156*\"migraine\" + 0.033*\"today\" + 0.027*\"day\" + 0.026*\"got\" + 0.021*\"like\" + 0.018*\"woke\" + 0.015*\"still\" + 0.012*\"feel\" + 0.011*\"work\" + 0.010*\"yesterday\"')\n",
            "4 (4, '0.151*\"migraines\" + 0.037*\"migraine\" + 0.030*\"hate\" + 0.024*\"help\" + 0.017*\"get\" + 0.015*\"fuck\" + 0.015*\"giving\" + 0.014*\"pain\" + 0.014*\"chronic\" + 0.013*\"one\"')\n",
            "5 (5, '0.084*\"migraine\" + 0.047*\"migraines\" + 0.023*\"worst\" + 0.018*\"give\" + 0.014*\"headaches\" + 0.013*\"new\" + 0.013*\"treatment\" + 0.011*\"pain\" + 0.009*\"take\" + 0.007*\"nausea\"')\n",
            "6 (6, '0.090*\"migraine\" + 0.018*\"pain\" + 0.012*\"fucking\" + 0.012*\"time\" + 0.011*\"get\" + 0.009*\"head\" + 0.007*\"going\" + 0.006*\"neck\" + 0.006*\"meds\" + 0.006*\"like\"')\n",
            "Trying to run the models\n",
            "0 (0, '0.056*\"migraine\" + 0.028*\"look\" + 0.022*\"long\" + 0.021*\"see\" + 0.020*\"slept\" + 0.020*\"migraines\" + 0.019*\"wake\" + 0.018*\"fact\" + 0.018*\"outside\" + 0.015*\"hear\"')\n",
            "1 (1, '0.125*\"migraines\" + 0.026*\"headaches\" + 0.024*\"migraine\" + 0.018*\"hate\" + 0.014*\"help\" + 0.013*\"get\" + 0.012*\"getting\" + 0.011*\"chronic\" + 0.011*\"health\" + 0.007*\"years\"')\n",
            "2 (2, '0.123*\"migraine\" + 0.065*\"day\" + 0.020*\"today\" + 0.019*\"got\" + 0.016*\"another\" + 0.014*\"really\" + 0.012*\"work\" + 0.012*\"bad\" + 0.010*\"migraines\" + 0.009*\"even\"')\n",
            "3 (3, '0.108*\"migraine\" + 0.021*\"today\" + 0.017*\"feel\" + 0.016*\"like\" + 0.014*\"week\" + 0.013*\"woke\" + 0.012*\"going\" + 0.012*\"stream\" + 0.011*\"back\" + 0.010*\"sleep\"')\n",
            "4 (4, '0.093*\"migraine\" + 0.035*\"pain\" + 0.023*\"head\" + 0.015*\"headache\" + 0.015*\"like\" + 0.012*\"attack\" + 0.012*\"migraines\" + 0.012*\"give\" + 0.011*\"get\" + 0.009*\"help\"')\n",
            "5 (5, '0.090*\"migraine\" + 0.025*\"fucking\" + 0.017*\"migraines\" + 0.015*\"giving\" + 0.012*\"time\" + 0.012*\"two\" + 0.012*\"new\" + 0.011*\"waking\" + 0.011*\"get\" + 0.011*\"coffee\"')\n",
            "6 (6, '0.099*\"migraine\" + 0.018*\"get\" + 0.017*\"like\" + 0.011*\"pain\" + 0.010*\"time\" + 0.010*\"one\" + 0.010*\"last\" + 0.009*\"night\" + 0.008*\"still\" + 0.008*\"trying\"')\n",
            "7 (7, '0.090*\"migraine\" + 0.053*\"migraines\" + 0.034*\"worst\" + 0.020*\"days\" + 0.019*\"ever\" + 0.019*\"one\" + 0.018*\"fuck\" + 0.013*\"time\" + 0.011*\"like\" + 0.010*\"killing\"')\n",
            "Trying to run the models\n",
            "0 (0, '0.065*\"asthma\" + 0.027*\"pollen\" + 0.020*\"low\" + 0.012*\"allergies\" + 0.011*\"air\" + 0.009*\"dust\" + 0.009*\"levels\" + 0.009*\"care\" + 0.008*\"quality\" + 0.008*\"mold\"')\n",
            "1 (1, '0.100*\"asthma\" + 0.019*\"allergies\" + 0.018*\"air\" + 0.013*\"health\" + 0.010*\"symptoms\" + 0.009*\"severe\" + 0.007*\"help\" + 0.007*\"like\" + 0.007*\"spring\" + 0.006*\"attacks\"')\n",
            "2 (2, '0.066*\"asthma\" + 0.020*\"people\" + 0.019*\"mask\" + 0.019*\"disease\" + 0.019*\"chronic\" + 0.013*\"health\" + 0.013*\"hate\" + 0.011*\"respiratory\" + 0.010*\"copd\" + 0.009*\"wear\"')\n",
            "3 (3, '0.116*\"asthma\" + 0.035*\"attack\" + 0.022*\"like\" + 0.015*\"got\" + 0.012*\"get\" + 0.011*\"covid\" + 0.010*\"inhaler\" + 0.009*\"bad\" + 0.008*\"time\" + 0.008*\"day\"')\n",
            "4 (4, '0.111*\"asthma\" + 0.023*\"study\" + 0.016*\"risk\" + 0.015*\"gave\" + 0.014*\"school\" + 0.013*\"age\" + 0.013*\"children\" + 0.012*\"girls\" + 0.011*\"city\" + 0.011*\"new\"')\n",
            "5 (5, '0.088*\"asthma\" + 0.009*\"inhalers\" + 0.009*\"already\" + 0.008*\"found\" + 0.007*\"treatment\" + 0.007*\"get\" + 0.007*\"without\" + 0.006*\"first\" + 0.006*\"sucks\" + 0.006*\"doctors\"')\n",
            "Trying to run the models\n",
            "0 (0, '0.067*\"asthma\" + 0.016*\"new\" + 0.013*\"allergy\" + 0.008*\"sleep\" + 0.008*\"inhalers\" + 0.007*\"case\" + 0.007*\"bronchitis\" + 0.007*\"place\" + 0.006*\"either\" + 0.006*\"use\"')\n",
            "1 (1, '0.095*\"asthma\" + 0.021*\"use\" + 0.019*\"copd\" + 0.016*\"eczema\" + 0.014*\"chronic\" + 0.014*\"treatment\" + 0.013*\"study\" + 0.012*\"used\" + 0.011*\"risk\" + 0.011*\"like\"')\n",
            "2 (2, '0.085*\"asthma\" + 0.030*\"school\" + 0.023*\"risk\" + 0.022*\"girls\" + 0.022*\"age\" + 0.019*\"wheezing\" + 0.019*\"exposure\" + 0.018*\"study\" + 0.013*\"inhalers\" + 0.011*\"doctors\"')\n",
            "3 (3, '0.054*\"pollen\" + 0.046*\"asthma\" + 0.043*\"air\" + 0.041*\"low\" + 0.031*\"allergies\" + 0.022*\"quality\" + 0.019*\"dust\" + 0.018*\"levels\" + 0.017*\"mold\" + 0.016*\"good\"')\n",
            "4 (4, '0.144*\"asthma\" + 0.025*\"attack\" + 0.014*\"gave\" + 0.010*\"city\" + 0.010*\"fucking\" + 0.010*\"got\" + 0.009*\"pump\" + 0.008*\"one\" + 0.007*\"know\" + 0.007*\"need\"')\n",
            "5 (5, '0.089*\"asthma\" + 0.014*\"health\" + 0.012*\"people\" + 0.010*\"symptoms\" + 0.009*\"severe\" + 0.009*\"lung\" + 0.009*\"help\" + 0.009*\"allergy\" + 0.008*\"allergies\" + 0.008*\"children\"')\n",
            "6 (6, '0.100*\"asthma\" + 0.022*\"attack\" + 0.022*\"like\" + 0.015*\"covid\" + 0.012*\"get\" + 0.010*\"got\" + 0.008*\"inhaler\" + 0.008*\"still\" + 0.008*\"time\" + 0.008*\"back\"')\n",
            "Trying to run the models\n",
            "0 (0, '0.059*\"asthma\" + 0.052*\"air\" + 0.052*\"pollen\" + 0.039*\"low\" + 0.033*\"allergies\" + 0.021*\"quality\" + 0.018*\"dust\" + 0.017*\"levels\" + 0.016*\"mold\" + 0.016*\"good\"')\n",
            "1 (1, '0.100*\"asthma\" + 0.036*\"attack\" + 0.011*\"covid\" + 0.010*\"today\" + 0.009*\"last\" + 0.009*\"got\" + 0.008*\"work\" + 0.008*\"day\" + 0.008*\"one\" + 0.007*\"back\"')\n",
            "2 (2, '0.115*\"asthma\" + 0.011*\"got\" + 0.011*\"bad\" + 0.010*\"inhalers\" + 0.010*\"fuck\" + 0.010*\"allergies\" + 0.009*\"really\" + 0.009*\"doctors\" + 0.008*\"get\" + 0.008*\"without\"')\n",
            "3 (3, '0.083*\"asthma\" + 0.014*\"like\" + 0.012*\"covid\" + 0.009*\"allergies\" + 0.008*\"mask\" + 0.008*\"fucking\" + 0.007*\"get\" + 0.007*\"inhaler\" + 0.007*\"still\" + 0.007*\"one\"')\n",
            "4 (4, '0.084*\"asthma\" + 0.016*\"risk\" + 0.016*\"copd\" + 0.014*\"disease\" + 0.013*\"new\" + 0.013*\"health\" + 0.013*\"children\" + 0.012*\"treatment\" + 0.011*\"chronic\" + 0.011*\"study\"')\n",
            "5 (5, '0.101*\"asthma\" + 0.016*\"eczema\" + 0.015*\"study\" + 0.014*\"health\" + 0.013*\"linked\" + 0.013*\"use\" + 0.010*\"covid\" + 0.010*\"school\" + 0.010*\"childhood\" + 0.010*\"age\"')\n",
            "6 (6, '0.076*\"asthma\" + 0.010*\"heart\" + 0.010*\"cat\" + 0.009*\"skin\" + 0.008*\"years\" + 0.007*\"wheezing\" + 0.007*\"old\" + 0.007*\"head\" + 0.007*\"water\" + 0.007*\"case\"')\n",
            "7 (7, '0.149*\"asthma\" + 0.040*\"attack\" + 0.030*\"like\" + 0.011*\"much\" + 0.011*\"get\" + 0.011*\"got\" + 0.011*\"breathe\" + 0.010*\"pump\" + 0.009*\"know\" + 0.009*\"gave\"')\n",
            "Trying to run the models\n",
            "0 (0, '0.168*\"depression\" + 0.040*\"post\" + 0.020*\"real\" + 0.015*\"concert\" + 0.015*\"hard\" + 0.013*\"seasonal\" + 0.012*\"time\" + 0.010*\"hit\" + 0.010*\"love\" + 0.009*\"room\"')\n",
            "1 (1, '0.084*\"depression\" + 0.027*\"great\" + 0.011*\"enough\" + 0.009*\"world\" + 0.008*\"social\" + 0.008*\"big\" + 0.008*\"exercise\" + 0.008*\"stop\" + 0.007*\"people\" + 0.007*\"single\"')\n",
            "2 (2, '0.112*\"depression\" + 0.015*\"like\" + 0.009*\"cure\" + 0.007*\"got\" + 0.007*\"back\" + 0.007*\"life\" + 0.007*\"get\" + 0.006*\"one\" + 0.005*\"cured\" + 0.005*\"anxiety\"')\n",
            "3 (3, '0.084*\"depression\" + 0.025*\"anxiety\" + 0.010*\"people\" + 0.009*\"suicide\" + 0.009*\"self\" + 0.007*\"one\" + 0.007*\"life\" + 0.006*\"help\" + 0.006*\"well\" + 0.006*\"mentalhealth\"')\n",
            "4 (4, '0.095*\"depression\" + 0.020*\"like\" + 0.015*\"feel\" + 0.012*\"get\" + 0.011*\"really\" + 0.011*\"know\" + 0.010*\"day\" + 0.009*\"today\" + 0.009*\"anxiety\" + 0.008*\"time\"')\n",
            "5 (5, '0.059*\"depression\" + 0.045*\"anxiety\" + 0.042*\"health\" + 0.041*\"mental\" + 0.028*\"stress\" + 0.026*\"help\" + 0.024*\"people\" + 0.021*\"issues\" + 0.021*\"therapy\" + 0.020*\"suffering\"')\n",
            "Trying to run the models\n",
            "0 (0, '0.098*\"depression\" + 0.016*\"like\" + 0.015*\"people\" + 0.013*\"feel\" + 0.013*\"please\" + 0.011*\"real\" + 0.010*\"anxiety\" + 0.007*\"help\" + 0.007*\"life\" + 0.006*\"even\"')\n",
            "1 (1, '0.160*\"depression\" + 0.027*\"post\" + 0.014*\"cure\" + 0.010*\"concert\" + 0.010*\"hard\" + 0.008*\"hit\" + 0.008*\"real\" + 0.008*\"time\" + 0.007*\"year\" + 0.007*\"think\"')\n",
            "2 (2, '0.124*\"depression\" + 0.020*\"back\" + 0.016*\"like\" + 0.016*\"seasonal\" + 0.010*\"cured\" + 0.009*\"music\" + 0.007*\"get\" + 0.007*\"need\" + 0.007*\"away\" + 0.007*\"use\"')\n",
            "3 (3, '0.079*\"depression\" + 0.040*\"anxiety\" + 0.015*\"mentalhealth\" + 0.013*\"health\" + 0.012*\"mental\" + 0.009*\"new\" + 0.009*\"symptoms\" + 0.008*\"help\" + 0.007*\"stress\" + 0.006*\"mood\"')\n",
            "4 (4, '0.088*\"depression\" + 0.018*\"like\" + 0.014*\"get\" + 0.012*\"life\" + 0.011*\"feel\" + 0.010*\"time\" + 0.010*\"really\" + 0.010*\"day\" + 0.010*\"going\" + 0.008*\"know\"')\n",
            "5 (5, '0.096*\"depression\" + 0.016*\"great\" + 0.014*\"room\" + 0.011*\"read\" + 0.011*\"suicide\" + 0.011*\"love\" + 0.010*\"understand\" + 0.008*\"means\" + 0.008*\"clean\" + 0.008*\"calumet\"')\n",
            "6 (6, '0.049*\"depression\" + 0.040*\"anxiety\" + 0.039*\"mental\" + 0.039*\"health\" + 0.032*\"help\" + 0.031*\"issues\" + 0.030*\"therapy\" + 0.029*\"suffering\" + 0.029*\"stress\" + 0.028*\"people\"')\n",
            "Trying to run the models\n",
            "0 (0, '0.161*\"depression\" + 0.030*\"post\" + 0.025*\"like\" + 0.015*\"real\" + 0.014*\"feel\" + 0.012*\"hard\" + 0.011*\"concert\" + 0.009*\"think\" + 0.008*\"one\" + 0.008*\"time\"')\n",
            "1 (1, '0.096*\"depression\" + 0.016*\"going\" + 0.013*\"back\" + 0.012*\"people\" + 0.010*\"always\" + 0.009*\"someone\" + 0.008*\"years\" + 0.008*\"today\" + 0.008*\"keep\" + 0.008*\"get\"')\n",
            "2 (2, '0.066*\"depression\" + 0.038*\"love\" + 0.029*\"please\" + 0.017*\"check\" + 0.015*\"place\" + 0.014*\"young\" + 0.013*\"art\" + 0.013*\"loved\" + 0.013*\"buy\" + 0.010*\"one\"')\n",
            "3 (3, '0.102*\"depression\" + 0.012*\"seasonal\" + 0.010*\"symptoms\" + 0.009*\"anxiety\" + 0.009*\"new\" + 0.007*\"postpartum\" + 0.007*\"suicide\" + 0.007*\"ass\" + 0.006*\"patients\" + 0.006*\"risk\"')\n",
            "4 (4, '0.058*\"anxiety\" + 0.054*\"depression\" + 0.047*\"health\" + 0.047*\"mental\" + 0.029*\"help\" + 0.028*\"stress\" + 0.024*\"people\" + 0.024*\"issues\" + 0.024*\"therapy\" + 0.023*\"suffering\"')\n",
            "5 (5, '0.079*\"depression\" + 0.018*\"like\" + 0.013*\"anxiety\" + 0.012*\"get\" + 0.012*\"really\" + 0.012*\"life\" + 0.010*\"feel\" + 0.010*\"good\" + 0.009*\"much\" + 0.009*\"day\"')\n",
            "6 (6, '0.091*\"depression\" + 0.012*\"anxiety\" + 0.011*\"people\" + 0.010*\"like\" + 0.009*\"room\" + 0.008*\"life\" + 0.006*\"get\" + 0.006*\"music\" + 0.006*\"better\" + 0.005*\"take\"')\n",
            "7 (7, '0.121*\"depression\" + 0.011*\"cure\" + 0.010*\"time\" + 0.010*\"anxiety\" + 0.009*\"today\" + 0.009*\"day\" + 0.009*\"work\" + 0.009*\"like\" + 0.008*\"away\" + 0.007*\"need\"')\n",
            "Trying to run the models\n",
            "0 (0, '0.090*\"ptsd\" + 0.021*\"gives\" + 0.014*\"like\" + 0.013*\"shit\" + 0.012*\"fucking\" + 0.010*\"gonna\" + 0.010*\"people\" + 0.009*\"trauma\" + 0.009*\"triggers\" + 0.009*\"get\"')\n",
            "1 (1, '0.102*\"ptsd\" + 0.018*\"veterans\" + 0.013*\"gave\" + 0.007*\"people\" + 0.007*\"life\" + 0.007*\"learn\" + 0.007*\"veteran\" + 0.006*\"first\" + 0.006*\"watching\" + 0.006*\"game\"')\n",
            "2 (2, '0.160*\"ptsd\" + 0.045*\"got\" + 0.025*\"like\" + 0.013*\"jay\" + 0.013*\"love\" + 0.011*\"really\" + 0.011*\"giving\" + 0.010*\"getting\" + 0.009*\"shit\" + 0.009*\"still\"')\n",
            "3 (3, '0.077*\"ptsd\" + 0.013*\"get\" + 0.011*\"day\" + 0.011*\"one\" + 0.010*\"time\" + 0.009*\"trauma\" + 0.008*\"every\" + 0.007*\"need\" + 0.006*\"many\" + 0.006*\"see\"')\n",
            "4 (4, '0.072*\"ptsd\" + 0.031*\"anxiety\" + 0.026*\"depression\" + 0.022*\"mental\" + 0.021*\"health\" + 0.019*\"disorder\" + 0.017*\"symptoms\" + 0.016*\"post\" + 0.013*\"traumatic\" + 0.012*\"stress\"')\n",
            "5 (5, '0.067*\"ptsd\" + 0.011*\"trauma\" + 0.007*\"still\" + 0.007*\"life\" + 0.006*\"years\" + 0.006*\"help\" + 0.006*\"good\" + 0.006*\"book\" + 0.006*\"like\" + 0.005*\"get\"')\n",
            "Trying to run the models\n",
            "0 (0, '0.078*\"ptsd\" + 0.021*\"trauma\" + 0.018*\"veterans\" + 0.014*\"post\" + 0.013*\"traumatic\" + 0.010*\"anxiety\" + 0.010*\"stress\" + 0.009*\"life\" + 0.008*\"learn\" + 0.008*\"mentalhealth\"')\n",
            "1 (1, '0.073*\"ptsd\" + 0.019*\"one\" + 0.017*\"day\" + 0.011*\"never\" + 0.011*\"suffering\" + 0.009*\"still\" + 0.009*\"help\" + 0.008*\"depression\" + 0.007*\"women\" + 0.007*\"get\"')\n",
            "2 (2, '0.112*\"ptsd\" + 0.021*\"giving\" + 0.015*\"like\" + 0.014*\"getting\" + 0.011*\"fucking\" + 0.010*\"get\" + 0.010*\"much\" + 0.007*\"show\" + 0.007*\"hate\" + 0.007*\"work\"')\n",
            "3 (3, '0.093*\"ptsd\" + 0.010*\"last\" + 0.009*\"right\" + 0.008*\"people\" + 0.008*\"really\" + 0.008*\"like\" + 0.007*\"time\" + 0.007*\"good\" + 0.007*\"god\" + 0.007*\"thing\"')\n",
            "4 (4, '0.079*\"ptsd\" + 0.012*\"therapy\" + 0.012*\"via\" + 0.012*\"mdma\" + 0.011*\"new\" + 0.010*\"treatment\" + 0.009*\"symptoms\" + 0.009*\"trauma\" + 0.009*\"anxiety\" + 0.008*\"study\"')\n",
            "5 (5, '0.148*\"ptsd\" + 0.046*\"got\" + 0.025*\"like\" + 0.015*\"shit\" + 0.014*\"gave\" + 0.012*\"jay\" + 0.011*\"love\" + 0.011*\"get\" + 0.009*\"time\" + 0.008*\"really\"')\n",
            "6 (6, '0.063*\"ptsd\" + 0.018*\"mental\" + 0.017*\"anxiety\" + 0.015*\"health\" + 0.013*\"depression\" + 0.008*\"people\" + 0.008*\"disorder\" + 0.008*\"know\" + 0.007*\"pain\" + 0.007*\"also\"')\n",
            "Trying to run the models\n",
            "0 (0, '0.081*\"ptsd\" + 0.027*\"anxiety\" + 0.025*\"depression\" + 0.019*\"mental\" + 0.017*\"health\" + 0.015*\"trauma\" + 0.014*\"real\" + 0.011*\"people\" + 0.011*\"need\" + 0.011*\"help\"')\n",
            "1 (1, '0.066*\"ptsd\" + 0.012*\"old\" + 0.011*\"story\" + 0.008*\"see\" + 0.008*\"year\" + 0.008*\"years\" + 0.008*\"like\" + 0.007*\"still\" + 0.007*\"start\" + 0.006*\"week\"')\n",
            "2 (2, '0.104*\"ptsd\" + 0.041*\"giving\" + 0.023*\"watching\" + 0.015*\"chris\" + 0.011*\"smith\" + 0.011*\"rock\" + 0.010*\"oscars\" + 0.010*\"battle\" + 0.010*\"life\" + 0.010*\"yes\"')\n",
            "3 (3, '0.071*\"ptsd\" + 0.013*\"like\" + 0.009*\"know\" + 0.009*\"anxiety\" + 0.008*\"trauma\" + 0.007*\"one\" + 0.006*\"get\" + 0.005*\"make\" + 0.005*\"trigger\" + 0.005*\"mentalhealth\"')\n",
            "4 (4, '0.153*\"ptsd\" + 0.035*\"got\" + 0.026*\"like\" + 0.012*\"jay\" + 0.012*\"getting\" + 0.012*\"get\" + 0.012*\"really\" + 0.011*\"time\" + 0.011*\"shit\" + 0.011*\"gives\"')\n",
            "5 (5, '0.091*\"ptsd\" + 0.027*\"gave\" + 0.014*\"get\" + 0.013*\"day\" + 0.011*\"car\" + 0.010*\"war\" + 0.009*\"time\" + 0.009*\"kids\" + 0.008*\"sometimes\" + 0.008*\"mom\"')\n",
            "6 (6, '0.070*\"ptsd\" + 0.025*\"trauma\" + 0.020*\"traumatic\" + 0.020*\"post\" + 0.016*\"stress\" + 0.014*\"people\" + 0.012*\"disorder\" + 0.009*\"war\" + 0.009*\"abuse\" + 0.008*\"event\"')\n",
            "7 (7, '0.091*\"ptsd\" + 0.019*\"veterans\" + 0.019*\"love\" + 0.015*\"got\" + 0.013*\"next\" + 0.011*\"day\" + 0.008*\"today\" + 0.008*\"minute\" + 0.008*\"switch\" + 0.008*\"support\"')\n",
            "Trying to run the models\n",
            "0 (0, '0.275*\"two\" + 0.145*\"one\" + 0.142*\"cancer\" + 0.139*\"even\" + 0.138*\"better\" + 0.136*\"heads\" + 0.001*\"medications\" + 0.000*\"omg\" + 0.000*\"aid\" + 0.000*\"continues\"')\n",
            "1 (1, '0.096*\"cancer\" + 0.011*\"research\" + 0.010*\"new\" + 0.008*\"help\" + 0.007*\"screening\" + 0.007*\"treatment\" + 0.007*\"colorectal\" + 0.006*\"support\" + 0.006*\"health\" + 0.006*\"patients\"')\n",
            "2 (2, '0.080*\"cancer\" + 0.027*\"breast\" + 0.015*\"women\" + 0.015*\"cancers\" + 0.009*\"please\" + 0.009*\"free\" + 0.007*\"treatment\" + 0.007*\"help\" + 0.007*\"support\" + 0.007*\"skin\"')\n",
            "3 (3, '0.095*\"cancer\" + 0.035*\"like\" + 0.015*\"alopecia\" + 0.013*\"would\" + 0.012*\"fuck\" + 0.011*\"shit\" + 0.010*\"got\" + 0.010*\"joke\" + 0.010*\"jada\" + 0.009*\"ass\"')\n",
            "4 (4, '0.094*\"cancer\" + 0.034*\"terminal\" + 0.032*\"shot\" + 0.031*\"mosley\" + 0.029*\"diagnosis\" + 0.026*\"max\" + 0.022*\"boss\" + 0.019*\"former\" + 0.013*\"risk\" + 0.012*\"moon\"')\n",
            "5 (5, '0.085*\"cancer\" + 0.013*\"people\" + 0.009*\"like\" + 0.009*\"get\" + 0.008*\"day\" + 0.008*\"family\" + 0.008*\"need\" + 0.008*\"years\" + 0.006*\"covid\" + 0.006*\"today\"')\n",
            "Trying to run the models\n",
            "0 (0, '0.275*\"two\" + 0.145*\"one\" + 0.142*\"cancer\" + 0.139*\"even\" + 0.138*\"better\" + 0.136*\"heads\" + 0.001*\"raised\" + 0.001*\"resistance\" + 0.001*\"member\" + 0.000*\"guy\"')\n",
            "1 (1, '0.100*\"cancer\" + 0.025*\"screening\" + 0.024*\"colorectal\" + 0.021*\"awareness\" + 0.014*\"help\" + 0.012*\"lung\" + 0.010*\"health\" + 0.010*\"march\" + 0.010*\"research\" + 0.010*\"early\"')\n",
            "2 (2, '0.098*\"cancer\" + 0.019*\"research\" + 0.014*\"treatment\" + 0.014*\"new\" + 0.013*\"breast\" + 0.011*\"getting\" + 0.010*\"lung\" + 0.010*\"fuck\" + 0.009*\"support\" + 0.008*\"join\"')\n",
            "3 (3, '0.096*\"cancer\" + 0.021*\"terminal\" + 0.019*\"diagnosis\" + 0.019*\"mosley\" + 0.016*\"max\" + 0.016*\"shot\" + 0.013*\"boss\" + 0.012*\"former\" + 0.008*\"moon\" + 0.008*\"leo\"')\n",
            "4 (4, '0.086*\"cancer\" + 0.016*\"like\" + 0.013*\"get\" + 0.012*\"people\" + 0.011*\"help\" + 0.009*\"life\" + 0.008*\"need\" + 0.007*\"please\" + 0.007*\"risk\" + 0.006*\"would\"')\n",
            "5 (5, '0.090*\"cancer\" + 0.011*\"today\" + 0.011*\"breast\" + 0.010*\"new\" + 0.008*\"patients\" + 0.007*\"treatment\" + 0.007*\"years\" + 0.005*\"blood\" + 0.005*\"love\" + 0.005*\"health\"')\n",
            "6 (6, '0.060*\"cancer\" + 0.022*\"chris\" + 0.020*\"joke\" + 0.020*\"rock\" + 0.020*\"alopecia\" + 0.013*\"school\" + 0.013*\"fundraising\" + 0.012*\"dog\" + 0.012*\"doctors\" + 0.011*\"bone\"')\n",
            "Trying to run the models\n",
            "0 (0, '0.263*\"two\" + 0.141*\"cancer\" + 0.139*\"one\" + 0.133*\"even\" + 0.132*\"better\" + 0.130*\"heads\" + 0.001*\"husband\" + 0.001*\"funding\" + 0.001*\"imaging\" + 0.001*\"mission\"')\n",
            "1 (1, '0.090*\"cancer\" + 0.013*\"risk\" + 0.010*\"prostate\" + 0.010*\"moon\" + 0.010*\"leo\" + 0.010*\"scorpio\" + 0.010*\"aries\" + 0.009*\"year\" + 0.009*\"pisces\" + 0.008*\"new\"')\n",
            "2 (2, '0.094*\"cancer\" + 0.013*\"like\" + 0.012*\"get\" + 0.010*\"love\" + 0.009*\"today\" + 0.009*\"know\" + 0.008*\"good\" + 0.008*\"time\" + 0.008*\"years\" + 0.007*\"day\"')\n",
            "3 (3, '0.108*\"cancer\" + 0.039*\"diagnosis\" + 0.037*\"terminal\" + 0.036*\"shot\" + 0.034*\"mosley\" + 0.028*\"max\" + 0.024*\"boss\" + 0.021*\"former\" + 0.018*\"fuck\" + 0.015*\"lung\"')\n",
            "4 (4, '0.081*\"cancer\" + 0.042*\"breast\" + 0.021*\"man\" + 0.013*\"say\" + 0.010*\"new\" + 0.009*\"blood\" + 0.009*\"trials\" + 0.009*\"prostate\" + 0.008*\"clinical\" + 0.008*\"wife\"')\n",
            "5 (5, '0.083*\"cancer\" + 0.018*\"help\" + 0.014*\"like\" + 0.013*\"people\" + 0.009*\"team\" + 0.009*\"need\" + 0.008*\"get\" + 0.008*\"patients\" + 0.007*\"please\" + 0.006*\"life\"')\n",
            "6 (6, '0.075*\"cancer\" + 0.018*\"new\" + 0.013*\"research\" + 0.012*\"patient\" + 0.012*\"cancers\" + 0.009*\"cell\" + 0.009*\"lung\" + 0.009*\"cells\" + 0.009*\"patients\" + 0.008*\"joke\"')\n",
            "7 (7, '0.099*\"cancer\" + 0.016*\"research\" + 0.012*\"awareness\" + 0.011*\"help\" + 0.011*\"support\" + 0.010*\"treatment\" + 0.010*\"health\" + 0.009*\"colorectal\" + 0.009*\"breast\" + 0.008*\"life\"')\n",
            "Trying to run the models\n",
            "0 (0, '0.057*\"cardiovascular\" + 0.053*\"risk\" + 0.042*\"disease\" + 0.025*\"diabetes\" + 0.018*\"blood\" + 0.017*\"diseases\" + 0.016*\"health\" + 0.013*\"obesity\" + 0.013*\"reduce\" + 0.012*\"sleep\"')\n",
            "1 (1, '0.081*\"cardiovascular\" + 0.032*\"covid\" + 0.017*\"disease\" + 0.016*\"long\" + 0.014*\"heart\" + 0.012*\"new\" + 0.010*\"health\" + 0.009*\"patients\" + 0.009*\"research\" + 0.007*\"term\"')\n",
            "2 (2, '0.062*\"cardiovascular\" + 0.016*\"health\" + 0.011*\"care\" + 0.008*\"research\" + 0.008*\"support\" + 0.007*\"blood\" + 0.006*\"learn\" + 0.006*\"today\" + 0.006*\"heart\" + 0.006*\"body\"')\n",
            "3 (3, '0.068*\"cardiovascular\" + 0.021*\"disease\" + 0.016*\"people\" + 0.010*\"risk\" + 0.009*\"life\" + 0.009*\"system\" + 0.008*\"problems\" + 0.007*\"one\" + 0.007*\"issues\" + 0.007*\"deaths\"')\n",
            "4 (4, '0.073*\"cardiovascular\" + 0.043*\"health\" + 0.015*\"heart\" + 0.012*\"exercise\" + 0.010*\"system\" + 0.009*\"study\" + 0.009*\"women\" + 0.008*\"disease\" + 0.007*\"benefits\" + 0.007*\"improve\"')\n",
            "5 (5, '0.069*\"cardiovascular\" + 0.041*\"disease\" + 0.032*\"risk\" + 0.019*\"new\" + 0.018*\"heart\" + 0.014*\"study\" + 0.013*\"patients\" + 0.013*\"death\" + 0.010*\"research\" + 0.009*\"cause\"')\n",
            "Trying to run the models\n",
            "0 (0, '0.061*\"cardiovascular\" + 0.026*\"heart\" + 0.026*\"disease\" + 0.020*\"health\" + 0.019*\"risk\" + 0.018*\"system\" + 0.017*\"blood\" + 0.010*\"healthy\" + 0.009*\"sleep\" + 0.009*\"also\"')\n",
            "1 (1, '0.072*\"cardiovascular\" + 0.019*\"research\" + 0.018*\"new\" + 0.013*\"heart\" + 0.012*\"disease\" + 0.010*\"women\" + 0.010*\"risk\" + 0.010*\"care\" + 0.009*\"clinical\" + 0.009*\"patients\"')\n",
            "2 (2, '0.082*\"cardiovascular\" + 0.019*\"disease\" + 0.015*\"cocoa\" + 0.013*\"risk\" + 0.012*\"surgery\" + 0.010*\"supplement\" + 0.010*\"trial\" + 0.009*\"cardiology\" + 0.009*\"flavanol\" + 0.009*\"read\"')\n",
            "3 (3, '0.063*\"cardiovascular\" + 0.044*\"disease\" + 0.030*\"risk\" + 0.022*\"diseases\" + 0.021*\"health\" + 0.012*\"new\" + 0.011*\"diabetes\" + 0.010*\"study\" + 0.009*\"obesity\" + 0.009*\"research\"')\n",
            "4 (4, '0.078*\"cardiovascular\" + 0.040*\"covid\" + 0.022*\"risk\" + 0.018*\"long\" + 0.017*\"disease\" + 0.011*\"patients\" + 0.010*\"heart\" + 0.010*\"problems\" + 0.009*\"study\" + 0.009*\"people\"')\n",
            "5 (5, '0.067*\"cardiovascular\" + 0.048*\"health\" + 0.017*\"disease\" + 0.015*\"heart\" + 0.010*\"support\" + 0.010*\"benefits\" + 0.008*\"brain\" + 0.008*\"exercise\" + 0.007*\"one\" + 0.007*\"learn\"')\n",
            "6 (6, '0.067*\"cardiovascular\" + 0.015*\"new\" + 0.013*\"disease\" + 0.012*\"cause\" + 0.011*\"mortality\" + 0.010*\"covid\" + 0.010*\"patients\" + 0.009*\"cancer\" + 0.008*\"coronary\" + 0.008*\"events\"')\n",
            "Trying to run the models\n",
            "0 (0, '0.081*\"cardiovascular\" + 0.015*\"disease\" + 0.013*\"patients\" + 0.012*\"health\" + 0.011*\"research\" + 0.009*\"new\" + 0.008*\"cardiology\" + 0.007*\"surgery\" + 0.007*\"imaging\" + 0.006*\"heart\"')\n",
            "1 (1, '0.052*\"cardiovascular\" + 0.024*\"heart\" + 0.017*\"sleep\" + 0.012*\"drugs\" + 0.011*\"metabolic\" + 0.010*\"normal\" + 0.010*\"resistance\" + 0.009*\"insulin\" + 0.009*\"collapse\" + 0.009*\"room\"')\n",
            "2 (2, '0.095*\"covid\" + 0.075*\"cardiovascular\" + 0.045*\"long\" + 0.023*\"term\" + 0.018*\"infection\" + 0.015*\"risk\" + 0.014*\"disease\" + 0.010*\"year\" + 0.010*\"complications\" + 0.010*\"outcomes\"')\n",
            "3 (3, '0.077*\"cardiovascular\" + 0.028*\"risk\" + 0.017*\"health\" + 0.017*\"disease\" + 0.014*\"study\" + 0.011*\"new\" + 0.010*\"heart\" + 0.010*\"clinical\" + 0.009*\"cocoa\" + 0.008*\"patients\"')\n",
            "4 (4, '0.058*\"cardiovascular\" + 0.037*\"risk\" + 0.027*\"new\" + 0.023*\"disease\" + 0.017*\"research\" + 0.017*\"patients\" + 0.014*\"analysis\" + 0.013*\"health\" + 0.013*\"diseases\" + 0.011*\"study\"')\n",
            "5 (5, '0.069*\"cardiovascular\" + 0.026*\"disease\" + 0.017*\"system\" + 0.016*\"health\" + 0.014*\"diseases\" + 0.011*\"people\" + 0.011*\"heart\" + 0.010*\"study\" + 0.009*\"immune\" + 0.008*\"effects\"')\n",
            "6 (6, '0.061*\"cardiovascular\" + 0.028*\"health\" + 0.021*\"disease\" + 0.020*\"heart\" + 0.017*\"diabetes\" + 0.017*\"risk\" + 0.015*\"blood\" + 0.010*\"exercise\" + 0.009*\"fitness\" + 0.008*\"pressure\"')\n",
            "7 (7, '0.073*\"cardiovascular\" + 0.036*\"disease\" + 0.016*\"health\" + 0.012*\"women\" + 0.012*\"heart\" + 0.010*\"risk\" + 0.009*\"research\" + 0.007*\"death\" + 0.006*\"march\" + 0.006*\"care\"')\n"
          ]
        }
      ],
      "source": [
        "import pickle\n",
        "\n",
        "for disease in diseases:\n",
        "  tweets_clean = pickle.load(open(path+disease+\"_clean_final.pickle\", \"rb\" ))\n",
        "  train = pickle.load(open(path+disease+\"_clean_final_train.pickle\", \"rb\" ))\n",
        "\n",
        "  dictionary = corpora.Dictionary(tweets_clean)\n",
        "  corpus = [dictionary.doc2bow(tweet) for tweet in train]\n",
        "\n",
        "  # TASK\n",
        "  # modele lda ba cluster 6,7,8 run shodan baraye dictionary jadid\n",
        "  # baghie ro ham run kon\n",
        "\n",
        "  # havaset bashe ke motasefane train o test ro dobare split kardi o ba ghabli fargh dare. \n",
        "  # har ja azashoon estefade shode ro bayad baz run koni\n",
        "\n",
        "  # chon modelet jadide bayad elbow ro ham mojadad hesab koni\n",
        "\n",
        "  # alan faghat Arthritis o migraine  asthma depression ba in halate jadid kalamatshun dar umade.\n",
        "  # baghoi jadvalaye gozaresh ro por kon\n",
        "\n",
        "  #Run batch LDA and cross fingers\n",
        "  for clusters in range(6,9):\n",
        "    run_lda(corpus, dictionary, clusters,path,disease)\n",
        "\n",
        "    tweet_topics = pickle.load(open(path+disease+\"_ffinalmodel_{}clusters_split.pickle\".format(clusters), \"rb\" ) )\n",
        "    for i, topic in enumerate(tweet_topics.print_topics(15)):\n",
        "        print (i, topic)\n",
        "\n",
        "    ### Visualizing\n",
        "    visualize(tweet_topics, corpus, dictionary, clusters, path, disease)\n"
      ]
    },
    {
      "cell_type": "code",
      "source": [
        "import math\n",
        "import matplotlib.pyplot as plt\n",
        "import numpy as np\n",
        "\n",
        "for disease in diseases:\n",
        "  test =  pickle.load(open(path+disease+\"_clean_final_train.pickle\", \"rb\" ))\n",
        "  tweets_clean = test\n",
        "  dictionary = corpora.Dictionary(tweets_clean)\n",
        "  corpus = [dictionary.doc2bow(tweet) for tweet in tweets_clean]\n",
        "\n",
        "  perplexity = []\n",
        "  for clusters in range(2,10):\n",
        "    lda_model = pickle.load(open(path+disease+\"_ffinalmodel_{}clusters_split.pickle\".format(clusters), \"rb\" ) )\n",
        "    perplexity.append(math.exp(lda_model.log_perplexity(corpus)))\n",
        "  print(perplexity)\n",
        "\n",
        "  fig, ax = plt.subplots()\n",
        "  ax.plot(range(2,10), perplexity, linewidth=2.0, color='g')\n",
        "  ax.set(xlim=(2, 9), xticks=np.arange(2, 10),\n",
        "          ylim=(min(perplexity)*0.98, max(perplexity)*1.02))\n",
        "  plt.title(disease+'- Perplexity of Train Set')\n",
        "  plt.xlabel(\"Clusters\")\n",
        "  plt.ylabel(\"Perplexity\")\n",
        "  plt.grid()\n",
        "  plt.savefig(path+disease+\"_fig_train.png\")\n",
        "  plt.show()"
      ],
      "metadata": {
        "id": "ZZDaRmpnzeak"
      },
      "execution_count": null,
      "outputs": []
    },
    {
      "cell_type": "code",
      "source": [
        "perplexity"
      ],
      "metadata": {
        "id": "Pw6Pz5rYzyLt"
      },
      "execution_count": null,
      "outputs": []
    },
    {
      "cell_type": "code",
      "execution_count": null,
      "metadata": {
        "colab": {
          "background_save": true
        },
        "id": "s4Bd_pkyVb3T"
      },
      "outputs": [],
      "source": [
        "print(perplexity)"
      ]
    },
    {
      "cell_type": "markdown",
      "metadata": {
        "id": "4_1H0LoHYMYP"
      },
      "source": [
        "### For all topics together"
      ]
    },
    {
      "cell_type": "code",
      "execution_count": null,
      "metadata": {
        "id": "fIlKLmBXO4c4"
      },
      "outputs": [],
      "source": [
        "import pandas as pd\n",
        "import pickle\n",
        "\n",
        "path = r'/content/drive/MyDrive/Colab Notebooks/thesis/' # use your path\n",
        "\n",
        "all_tweets = []\n",
        "\n",
        "for disease in diseases:\n",
        "  tweets = pickle.load(open(path+disease+\"_clean_final.pickle\", \"rb\" ) )\n",
        "  all_tweets+= tweets\n",
        "\n",
        "dictionary = corpora.Dictionary(all_tweets)\n",
        "corpus = [dictionary.doc2bow(tweet) for tweet in all_tweets]\n",
        "clusters = 6\n",
        "\n",
        "lda_model = run_lda(corpus, dictionary, clusters,path,'all')\n",
        "\n",
        "visualize(lda_model, corpus, dictionary, clusters, path, 'all')"
      ]
    },
    {
      "cell_type": "markdown",
      "source": [
        "### Predicting"
      ],
      "metadata": {
        "id": "oPw4VevpNT1G"
      }
    },
    {
      "cell_type": "code",
      "source": [
        "from collections import Counter \n",
        "\n",
        "cluster_map = {'COPD':8,\n",
        " 'Diabetes':8,\n",
        " 'Arthritis':8,\n",
        " 'Obesity':6,\n",
        " 'Migraine':8,\n",
        " 'Asthma':8,\n",
        " 'Depression':8,\n",
        " 'PTSD':8,\n",
        " 'Cancer':8,\n",
        " 'cardiovascular':7}\n",
        "\n",
        "#  predicting new text which is in text dataframe  \n",
        "# disease = 'cardiovascular'\n",
        "# clusters = 7\n",
        "for disease in diseases:\n",
        "  print(disease)\n",
        "  clusters = cluster_map[disease]\n",
        "  tweets_clean =  pickle.load(open(path+disease+\"_clean_final.pickle\", \"rb\" ))\n",
        "  dictionary = corpora.Dictionary(tweets_clean)\n",
        "  corpus = [dictionary.doc2bow(tweet) for tweet in tweets_clean]\n",
        "  ldamodel = pickle.load(open(path+disease+\"_ffinalmodel_{}clusters_split.pickle\".format(clusters), \"rb\" ) )\n",
        "\n",
        "  tops = ldamodel.get_document_topics(corpus)\n",
        "\n",
        "  topic_probability = []\n",
        "  i=0\n",
        "  for i in range(0, len(tops)):\n",
        "    t = tops[i]\n",
        "    new_t = [0]*clusters\n",
        "    for tup in t:\n",
        "      new_t[tup[0]]=tup[1]\n",
        "    topic_probability.append(new_t)\n",
        "\n",
        "  columns = []\n",
        "  for i in range(0,clusters):\n",
        "    columns.append('Topic {}'.format(i))\n",
        "\n",
        "  results_test = pd.DataFrame(topic_probability,columns=columns)\n",
        "\n",
        "  results_test.to_csv(path+disease+'_whole_predict_results.csv', index=True, header=True)\n",
        "\n",
        "  results_test['maxValueIndex'] = results_test[columns].idxmax(axis = 1)\n",
        "\n",
        "  for column in columns:\n",
        "    print(column)\n",
        "    indices = results_test[results_test['maxValueIndex']==column].index\n",
        "    new_tweets_clean = [tweets_clean[index] for index in indices]\n",
        "    words_count = pd.DataFrame(Counter(c for clist in new_tweets_clean for c in clist).most_common(250))\n",
        "    i = 0\n",
        "    for w in words_count[0]:\n",
        "      if i <20:\n",
        "        print(w,end=', ')\n",
        "      else:\n",
        "        break\n",
        "      i+=1\n",
        "    print()\n",
        "\n",
        "  results_test.to_csv(path+disease+'_whole_predict_results_labeled.csv', index=True, header=True)\n"
      ],
      "metadata": {
        "colab": {
          "base_uri": "https://localhost:8080/"
        },
        "id": "ZM8_XJPSNWmg",
        "outputId": "90fb4f6e-8c48-41f4-a7ad-546e45f54020"
      },
      "execution_count": 54,
      "outputs": [
        {
          "output_type": "stream",
          "name": "stdout",
          "text": [
            "COPD\n",
            "Topic 0\n",
            "copd, covid, get, people, got, like, mom, mask, years, asthma, know, one, still, hospital, dad, old, cancer, today, year, last, \n",
            "Topic 1\n",
            "copd, cancer, asthma, hospital, heart, covid, research, via, failure, one, diabetes, breathing, positive, active, open, patients, death, presented, awareness, register, \n",
            "Topic 2\n",
            "copd, asthma, care, patients, respiratory, new, research, patient, help, treatment, read, management, lung, health, study, join, today, people, free, clinical, \n",
            "Topic 3\n",
            "copd, pulmonary, disease, chronic, asthma, patients, obstructive, risk, lung, study, respiratory, treatment, new, emphysema, bronchitis, used, diseases, associated, health, lungs, \n",
            "Topic 4\n",
            "copd, disease, lung, asthma, smoking, cancer, health, help, people, patients, chronic, also, risk, used, heart, obstructive, covid, diabetes, pulmonary, conference, \n",
            "Topic 5\n",
            "copd, asthma, lung, generic, fda, symbicort, first, respiratory, via, health, youtube, cancer, covid, women, treat, approves, patients, common, diseases, pulmonary, \n",
            "Topic 6\n",
            "copd, cipla, rotacaps, asthma, treatment, dry, powder, device, inhalation, rotahaler, use, combination, covid, ciplarotahaler, plastic, capsules, tiova, rehabilitation, pulmonary, oxygen, \n",
            "Topic 7\n",
            "copd, asthma, health, lung, help, learn, people, patients, care, life, like, chronic, conditions, symptoms, breathing, know, respiratory, pulmonary, quality, air, \n",
            "Diabetes\n",
            "Topic 0\n",
            "diabetes, covid, cause, new, heart, brain, evidence, damage, research, many, blood, dysfunction, risk, erectile, effects, read, liver, clots, lungs, onset, \n",
            "Topic 1\n",
            "diabetes, type, health, diet, risk, control, patients, mellitus, help, disease, review, people, care, new, research, reduce, cancer, fitness, via, study, \n",
            "Topic 2\n",
            "diabetes, people, sugar, type, call, treatment, cancer, one, diabetic, got, also, joke, disease, insulin, hypertension, blood, tigray, complications, ethiopia, treated, \n",
            "Topic 3\n",
            "diabetes, blood, sugar, disease, type, heart, health, people, like, high, cancer, risk, get, obesity, diseases, glucose, help, know, insulin, food, \n",
            "Topic 4\n",
            "diabetes, risk, covid, type, new, study, increased, infection, studies, diagnosis, people, drug, higher, link, disease, developing, patients, health, men, conditions, \n",
            "Topic 5\n",
            "diabetes, type, risk, day, get, like, one, know, health, disease, today, need, could, make, help, got, time, people, still, nhs, \n",
            "Topic 6\n",
            "diabetes, drug, type, birth, defects, linked, cure, study, cells, finally, use, offer, stem, men, increase, finds, conception, treatment, patients, care, \n",
            "Topic 7\n",
            "diabetes, type, health, care, insulin, free, people, today, research, management, join, new, via, dukpc, get, help, technology, first, community, link, \n",
            "Arthritis\n",
            "Topic 0\n",
            "arthritis, pain, help, psoriatic, rheumatoid, medical, patients, back, symptoms, shoulder, share, avoid, pot, people, psoriasis, chronic, free, treatment, living, opioids, \n",
            "Topic 1\n",
            "arthritis, rheumatoid, disease, treatment, inflammation, health, diabetes, people, improve, life, pain, diseases, patients, cancer, reduce, risk, heart, help, chronic, dogs, \n",
            "Topic 2\n",
            "arthritis, day, cbd, pain, good, one, like, help, foot, anxiety, much, life, feel, news, oil, best, dog, would, love, better, \n",
            "Topic 3\n",
            "arthritis, like, pain, get, got, old, rheumatoid, back, hands, time, years, today, one, know, day, bad, getting, feel, think, really, \n",
            "Topic 4\n",
            "arthritis, rheumatoid, people, help, juvenile, today, children, via, day, young, awareness, covid, syndrome, drug, treatment, jia, wordday, patients, like, idiopathic, \n",
            "Topic 5\n",
            "arthritis, rheumatoid, pain, disease, therapy, deserve, use, get, study, best, patients, joints, inflammation, joint, might, bowel, air, either, inflammatory, risk, \n",
            "Topic 6\n",
            "arthritis, pain, joint, knee, relief, help, tea, health, joints, inflammation, symptoms, rheumatoid, hip, via, natural, back, support, osteoarthritis, stiffness, learn, \n",
            "Topic 7\n",
            "arthritis, rheumatoid, risk, hand, gloves, compression, diseases, air, study, long, disease, exposure, autoimmune, pollution, juvenile, pain, term, higher, milk, today, \n",
            "Obesity\n",
            "Topic 0\n",
            "obesity, people, fat, food, health, like, healthy, eating, time, obese, weight, eat, get, much, one, diabetes, life, diet, covid, think, \n",
            "Topic 1\n",
            "obesity, weight, diabetes, risk, health, sleep, disease, study, cancer, diseases, loss, new, associated, linked, sugar, overweight, diet, research, metabolic, many, \n",
            "Topic 2\n",
            "obesity, health, childhood, risk, people, covid, diabetes, body, rates, fat, cancer, children, food, one, real, physical, disease, america, problem, weight, \n",
            "Topic 3\n",
            "obesity, diabetes, health, weight, disease, high, new, heart, blood, type, research, study, risk, treatment, diet, fat, loss, pressure, women, overweight, \n",
            "Topic 4\n",
            "obesity, health, well, wellness, join, ichoose, taking, bactive, new, research, metabolic, webinar, kind, today, diet, check, march, able, following, type, \n",
            "Topic 5\n",
            "obesity, dogs, help, one, issues, preventable, childhood, year, people, new, use, tackle, journal, bread, children, bariatric, food, fat, thigh, health, \n",
            "Migraine\n",
            "Topic 0\n",
            "migraine, migraines, look, long, see, wake, fact, slept, outside, hear, quickly, fight, sky, reach, death, get, head, better, sometimes, seems, \n",
            "Topic 1\n",
            "migraines, migraine, headaches, get, help, getting, hate, chronic, like, pain, headache, one, know, health, really, stress, also, need, treatment, people, \n",
            "Topic 2\n",
            "migraine, day, migraines, got, today, bad, really, work, another, like, get, think, one, time, days, even, good, getting, headache, going, \n",
            "Topic 3\n",
            "migraine, today, like, migraines, feel, day, woke, got, stream, going, week, sleep, back, still, get, night, morning, last, work, away, \n",
            "Topic 4\n",
            "migraine, migraines, pain, head, like, headache, get, give, back, attack, people, help, meds, please, day, stop, neck, feels, right, body, \n",
            "Topic 5\n",
            "migraine, migraines, fucking, get, time, new, giving, two, today, days, day, got, love, coffee, waking, weeks, one, getting, good, first, \n",
            "Topic 6\n",
            "migraine, get, like, migraines, pain, time, one, still, today, day, last, bad, night, days, much, take, even, got, work, trying, \n",
            "Topic 7\n",
            "migraine, migraines, worst, days, one, like, ever, time, fuck, get, life, every, day, thing, work, want, headache, know, killing, think, \n",
            "Asthma\n",
            "Topic 0\n",
            "asthma, pollen, low, air, allergies, mold, quality, levels, dust, good, grass, dander, pollencount, hayfever, index, moderate, tree, utc, ragweed, health, \n",
            "Topic 1\n",
            "asthma, attack, got, like, covid, today, day, time, one, last, back, get, inhaler, work, bad, night, still, really, going, severe, \n",
            "Topic 2\n",
            "asthma, got, allergies, fuck, inhalers, get, without, people, really, doctors, advice, bad, boy, found, drugs, covid, allergy, dead, need, mum, \n",
            "Topic 3\n",
            "asthma, like, covid, allergies, get, inhaler, one, fucking, mask, people, symptoms, allergy, still, time, today, got, attack, help, know, need, \n",
            "Topic 4\n",
            "asthma, copd, risk, disease, health, new, study, children, treatment, lung, people, chronic, like, exposure, help, patients, used, cancer, symptoms, age, \n",
            "Topic 5\n",
            "asthma, study, linked, eczema, health, use, age, bpa, school, pregnancy, girls, finds, covid, childhood, severe, nurse, treatment, hospital, disinfectant, children, \n",
            "Topic 6\n",
            "asthma, copd, heart, years, risk, year, old, attack, see, study, going, help, wheezing, life, chest, could, induced, exercise, cat, girls, \n",
            "Topic 7\n",
            "asthma, attack, like, got, get, gave, pump, breathe, think, know, much, people, air, need, would, time, inhaler, make, back, even, \n",
            "Depression\n",
            "Topic 0\n",
            "depression, post, like, concert, real, feel, hard, time, one, got, think, anxiety, hit, fuck, great, shit, going, really, hitting, get, \n",
            "Topic 1\n",
            "depression, going, anxiety, back, people, get, today, one, always, life, someone, let, years, want, work, depressed, know, way, keep, really, \n",
            "Topic 2\n",
            "depression, love, please, young, reporter, battles, one, ukrainan, nights, obsessive, buy, recommended, calumet, editions, mentalhealth, check, long, help, live, art, \n",
            "Topic 3\n",
            "depression, anxiety, symptoms, new, suicide, seasonal, risk, patients, help, people, postpartum, treatment, health, high, great, cancer, study, ssr, women, mood, \n",
            "Topic 4\n",
            "depression, anxiety, mental, health, help, stress, people, suffering, therapy, disorders, issues, online, among, book, platform, certified, appointment, essentially, connects, dozens, \n",
            "Topic 5\n",
            "depression, like, anxiety, get, life, really, feel, day, know, time, people, much, back, good, even, think, want, one, feeling, help, \n",
            "Topic 6\n",
            "depression, anxiety, like, people, room, get, life, take, would, make, even, time, mental, also, feel, need, mentalhealth, new, one, health, \n",
            "Topic 7\n",
            "depression, anxiety, like, time, day, today, cure, one, work, feel, going, cured, know, away, think, need, sad, days, get, great, \n",
            "PTSD\n",
            "Topic 0\n",
            "ptsd, depression, anxiety, trauma, mental, health, help, people, get, need, real, know, like, suffering, panic, emotional, one, life, mentalhealth, women, \n",
            "Topic 1\n",
            "ptsd, like, still, years, story, old, time, see, veterans, people, start, every, day, life, year, new, help, veteran, men, mentalhealth, \n",
            "Topic 2\n",
            "ptsd, giving, life, watching, chris, rock, flashbacks, anxiety, symptoms, smith, getting, via, veterans, louise, thompson, hope, battle, oscars, amid, youtube, \n",
            "Topic 3\n",
            "ptsd, like, trauma, anxiety, know, one, get, people, depression, life, years, really, make, help, time, mentalhealth, even, police, feel, take, \n",
            "Topic 4\n",
            "ptsd, got, like, jay, get, time, really, still, getting, shit, gives, think, last, one, people, back, bad, going, feel, give, \n",
            "Topic 5\n",
            "ptsd, gave, get, war, time, day, like, car, mom, first, never, back, little, one, got, fun, life, shit, kids, accident, \n",
            "Topic 6\n",
            "ptsd, trauma, traumatic, stress, disorder, post, people, help, symptoms, therapy, war, abuse, mdma, also, mental, health, like, new, suffering, anxiety, \n",
            "Topic 7\n",
            "ptsd, got, veterans, love, next, switch, minute, day, support, new, someone, help, one, book, people, learn, many, ppl, quick, good, \n",
            "Cancer\n",
            "Topic 0\n",
            "two, cancer, one, better, even, heads, pancreatic, aspartame, acesulfame, associated, highest, risk, developing, distinct, classes, play, roles, single, check, listing, \n",
            "Topic 1\n",
            "cancer, risk, scorpio, year, aries, leo, pisces, new, prostate, sweeteners, libra, artificial, moon, love, heart, today, one, taurus, virgo, diet, \n",
            "Topic 2\n",
            "cancer, like, get, today, love, breast, one, time, good, know, years, day, still, would, every, life, free, family, via, women, \n",
            "Topic 3\n",
            "cancer, mosley, shot, terminal, max, boss, diagnosis, former, inquest, learning, hears, fuck, getting, lung, news, kid, trunks, dead, lied, killed, \n",
            "Topic 4\n",
            "cancer, breast, man, blood, study, second, new, know, support, say, prostate, wife, videos, awareness, treatment, predict, shit, finds, relapse, breastcancer, \n",
            "Topic 5\n",
            "cancer, help, like, people, patients, get, need, life, please, team, hair, support, alopecia, covid, great, family, screening, feel, one, care, \n",
            "Topic 6\n",
            "cancer, new, research, cancers, patients, lung, treatment, study, patient, breast, cell, therapy, oncology, cells, risk, like, joke, care, early, pancreatic, \n",
            "Topic 7\n",
            "cancer, research, awareness, help, colorectal, treatment, breast, health, support, screening, life, patients, care, colon, learn, men, month, new, people, one, \n",
            "cardiovascular\n",
            "Topic 0\n",
            "cardiovascular, disease, health, heart, risk, system, blood, healthy, sleep, study, pressure, also, help, diabetes, function, day, exercise, improve, reduce, people, \n",
            "Topic 1\n",
            "cardiovascular, disease, research, new, heart, risk, health, patients, women, clinical, care, cardiology, medicine, medical, cardiac, system, american, treatment, register, march, \n",
            "Topic 2\n",
            "cardiovascular, disease, cocoa, risk, health, flavanol, heart, research, supplement, surgery, reduce, help, join, cardiology, study, trial, job, read, could, new, \n",
            "Topic 3\n",
            "cardiovascular, disease, risk, health, diseases, new, diabetes, study, research, obesity, cancer, high, death, associated, patients, cause, review, many, chronic, mortality, \n",
            "Topic 4\n",
            "cardiovascular, covid, risk, disease, long, heart, patients, study, problems, health, people, term, diabetes, new, even, year, diseases, increased, research, infection, \n",
            "Topic 5\n",
            "cardiovascular, health, disease, heart, exercise, support, benefits, one, fitness, brain, care, activity, help, body, great, learn, prevention, improve, muscle, strength, \n",
            "Topic 6\n",
            "cardiovascular, disease, new, risk, covid, patients, research, mortality, study, adults, cause, cancer, events, coronary, heart, associated, diabetes, older, death, time, \n"
          ]
        }
      ]
    },
    {
      "cell_type": "markdown",
      "metadata": {
        "id": "pcfvdnO_Qyo5"
      },
      "source": [
        "# TFIDF\n"
      ]
    },
    {
      "cell_type": "markdown",
      "source": [
        "### YOU NEED TEST AND TRAIN DATA."
      ],
      "metadata": {
        "id": "uwXLArfdtAtZ"
      }
    },
    {
      "cell_type": "code",
      "execution_count": null,
      "metadata": {
        "id": "75jx6QsPQ2l_",
        "colab": {
          "base_uri": "https://localhost:8080/"
        },
        "outputId": "bc927a66-2fa4-4f88-8a2d-b9d87e939d25"
      },
      "outputs": [
        {
          "output_type": "stream",
          "name": "stdout",
          "text": [
            "['pulm wtchp cce stony brook first responder medical records drs notes discussing social history smoker smoker copd last yrs wrote many final reports shared ', 'would say prayer father triple year ago still dealing severe nerve pain also copd broke rib coughing prayers definitely needed tired seeing dad much pain ', 'airway clinical research center research programs asthma copd sarcoidosis cystic fibrosis along current programs sponsored nih pharmaceutical industry position ', 'differentiating asthma copd imaging machine pulmonology machinelearning ', 'clinical implications bronchodilator testing diagnosing differentiating copd asthma copd overlap ', 'chronic depression high blood pressure chronic asthma bronchitis copd alot ', 'person copd feels self conscious bringing oxygen hearts child best way strike conversation daughter law ', 'able walk around easier another days back able get things done remember much last week except hell plus finally quit smoking days never period scary shit covid copd hell ', 'many encourage giving offering gift learn make difference supporting copd foundation workplace giving programs visit copd donate copdfoundation ', 'pollution puts lung ailments like asthma copd greater risk still everyone exposed deadly smoke wildfires set climate wildfires ']\n"
          ]
        }
      ],
      "source": [
        "import pickle\n",
        "import numpy as np\n",
        "import pandas as pd \n",
        "from sklearn.cluster import MiniBatchKMeans\n",
        "from sklearn.feature_extraction.text import TfidfVectorizer\n",
        "\n",
        "for disease in ['COPD']:#diseases:\n",
        "  tweets_clean = pickle.load(open(path+disease+\"_clean_final.pickle\", \"rb\" ) )\n",
        "\n",
        "  # You need to change the cleaning process. \n",
        "  # or concatinate the tokens to create the entences. \n",
        "  # this will not work with tokens. it gets a column of sentences in your df.\n",
        "  text_content = tweets_clean\n",
        "  for i in range(len(text_content)):\n",
        "    s = ''\n",
        "    for token in text_content[i]:\n",
        "      s += token + ' '\n",
        "    text_content[i] = s\n",
        "  vector = TfidfVectorizer(stop_words = 'english') #Dont need stop words\n",
        "  tfidf = vector.fit_transform(text_content)\n",
        "  print(text_content[0:10])"
      ]
    },
    {
      "cell_type": "code",
      "source": [
        "## YOU SHOULD ALSO DO ALL THE REST FOR EACH TOPIC\n",
        "\n",
        "# 3. Using elbow method to decide cluster number\n",
        "# Introduction to elbow method\n",
        "\n",
        "K = range(1,15)\n",
        "SSE = []\n",
        "for k in K:\n",
        "    kmeans = MiniBatchKMeans(n_clusters = k,batch_size = 300)\n",
        "    kmeans.fit(tfidf)\n",
        "    SSE.append(kmeans.inertia_)\n",
        "    \n",
        "import matplotlib.pyplot as plt\n",
        "plt.plot(K,SSE,'bx-')\n",
        "plt.title('Elbow Method')\n",
        "plt.xlabel('cluster numbers')\n",
        "plt.show()"
      ],
      "metadata": {
        "colab": {
          "base_uri": "https://localhost:8080/",
          "height": 295
        },
        "id": "7yV8MgV_r3qQ",
        "outputId": "1a29fea4-8dc1-4b83-9ba1-98c116eb1c09"
      },
      "execution_count": null,
      "outputs": [
        {
          "output_type": "display_data",
          "data": {
            "text/plain": [
              "<Figure size 432x288 with 1 Axes>"
            ],
            "image/png": "[encoded data removed]"
          },
          "metadata": {
            "needs_background": "light"
          }
        }
      ]
    },
    {
      "cell_type": "code",
      "source": [
        "# 5. Using MiniBatchKMean to cluster\n",
        "# Comparison of the K-Means and MiniBatchKMeans clustering algorithms\n",
        "\n",
        "k = 4\n",
        "kmeans = MiniBatchKMeans(n_clusters = k)\n",
        "kmeans.fit(tfidf)\n",
        "centers = kmeans.cluster_centers_.argsort()[:,::-1]\n",
        "terms = vector.get_feature_names()\n",
        "\n",
        "for i in range(0,k):\n",
        "    word_list=[]\n",
        "    print(\"cluster%d:\"% i)\n",
        "    for j in centers[i,:15]:\n",
        "        word_list.append(terms[j])\n",
        "    print(word_list) "
      ],
      "metadata": {
        "colab": {
          "base_uri": "https://localhost:8080/"
        },
        "id": "USaquSDtsFTw",
        "outputId": "e56a0c0c-1e70-428f-82fc-0ee5521f6e24"
      },
      "execution_count": null,
      "outputs": [
        {
          "output_type": "stream",
          "name": "stdout",
          "text": [
            "cluster0:\n",
            "['covid', 'copd', 'mom', 'got', 'home', 'hospital', 'dad', 'mask', 'old', 'years', 'positive', 'time', 'year', 'people', 'tested']\n",
            "cluster1:\n",
            "['asthma', 'copd', 'disease', 'chronic', 'obstructive', 'lung', 'pulmonary', 'used', 'patients', 'respiratory', 'treat', 'treatment', 'diseases', 'bronchitis', 'rotacaps']\n",
            "cluster2:\n",
            "['copd', 'help', 'patients', 'disease', 'lung', 'pulmonary', 'people', 'health', 'study', 'smoking', 'chronic', 'risk', 'new', 'care', 'like']\n",
            "cluster3:\n",
            "['know', 'living', 'copd', 'youtube', 'people', 'lung', 'like', 'let', 'need', 'conditions', 'disease', 'fiberglass', 'friends', 'asthma', 'support']\n"
          ]
        },
        {
          "output_type": "stream",
          "name": "stderr",
          "text": [
            "/usr/local/lib/python3.7/dist-packages/sklearn/utils/deprecation.py:87: FutureWarning: Function get_feature_names is deprecated; get_feature_names is deprecated in 1.0 and will be removed in 1.2. Please use get_feature_names_out instead.\n",
            "  warnings.warn(msg, category=FutureWarning)\n"
          ]
        }
      ]
    },
    {
      "cell_type": "code",
      "source": [
        "# 7. Topic modeling\n",
        "\n",
        "# Here I use NMF instead of LDA because LDA's calculation is time-consuming.\n",
        "\n",
        "# The major topics consist of politics, society, finance and internetional affairs, which is quite similiar to our cluster resu\n",
        "\n",
        "from sklearn.decomposition import NMF\n",
        "\n",
        "nmf  = NMF(n_components = 4)\n",
        "nmf.fit(tfidf)\n",
        "for i in range(0,k):\n",
        "    word_list=[]\n",
        "    print(\"Topic%d:\"% i)\n",
        "    for j in nmf.components_.argsort()[i,-16:-1]:\n",
        "        word_list.append(terms[j])\n",
        "    print(word_list)"
      ],
      "metadata": {
        "colab": {
          "base_uri": "https://localhost:8080/"
        },
        "id": "2LdoButvsjqS",
        "outputId": "b300a2a2-365a-4c28-e98d-d8eca92321f1"
      },
      "execution_count": null,
      "outputs": [
        {
          "output_type": "stream",
          "name": "stderr",
          "text": [
            "/usr/local/lib/python3.7/dist-packages/sklearn/decomposition/_nmf.py:294: FutureWarning: The 'init' value, when 'init=None' and n_components is less than n_samples and n_features, will be changed from 'nndsvd' to 'nndsvda' in 1.1 (renaming of 0.26).\n",
            "  FutureWarning,\n"
          ]
        },
        {
          "output_type": "stream",
          "name": "stdout",
          "text": [
            "Topic0:\n",
            "['learn', 'today', 'risk', 'new', 'care', 'know', 'like', 'cancer', 'patients', 'health', 'asthma', 'lung', 'people', 'help', 'covid']\n",
            "Topic1:\n",
            "['cancer', 'common', 'causes', 'heart', 'rehabilitation', 'respiratory', 'copd', 'smoking', 'bronchitis', 'emphysema', 'diseases', 'lung', 'obstructive', 'pulmonary', 'disease']\n",
            "Topic2:\n",
            "['rotahaler', 'tiova', 'device', 'capsules', 'dry', 'treat', 'inhalation', 'approves', 'powder', 'cipla', 'symbicort', 'treatment', 'fda', 'generic', 'rotacaps']\n",
            "Topic3:\n",
            "['rotacaps', 'disease', 'obstructive', 'treat', 'patients', 'years', 'airway', 'older', 'age', 'prevent', 'reversible', 'prevention', 'asthalin', 'bronchospasm', 'inhaler']\n"
          ]
        }
      ]
    },
    {
      "cell_type": "markdown",
      "metadata": {
        "id": "IkEKtJ2bT2iq"
      },
      "source": [
        "## Determine time evolution of tweets"
      ]
    },
    {
      "cell_type": "code",
      "execution_count": null,
      "metadata": {
        "id": "JEG1BK9lT2iq"
      },
      "outputs": [],
      "source": [
        "# extract all document-topic distritbutions to dictionnary\n",
        "# document_key = list(tweet_df.date)\n",
        "document_topic = {}"
      ]
    },
    {
      "cell_type": "code",
      "execution_count": null,
      "metadata": {
        "id": "cxD0sEMZT2iq"
      },
      "outputs": [],
      "source": [
        "for doc_id in range(len(corpus)):\n",
        "    docbok = corpus[doc_id]\n",
        "    doc_topics = tweet_topics.get_document_topics(docbok, 0)\n",
        "    tmp = []\n",
        "    for topic_id, topic_prob in doc_topics:\n",
        "        tmp.append(topic_prob)\n",
        "    document_topic[document_key[doc_id]] = tmp"
      ]
    },
    {
      "cell_type": "code",
      "execution_count": null,
      "metadata": {
        "id": "OwvL29PxT2iq"
      },
      "outputs": [],
      "source": [
        "df = pd.DataFrame.from_dict(document_topic, orient='index')"
      ]
    },
    {
      "cell_type": "code",
      "execution_count": null,
      "metadata": {
        "id": "PtOYoWfXT2ir"
      },
      "outputs": [],
      "source": [
        "df.columns = [\"Nuclear\", \"Professor_Crime\", \"Thaler_Nobel\", \"Cancer_Research\", \"Unionization\", \"Evening_Program\", \"Zimmer_FreeSpeech\"]"
      ]
    },
    {
      "cell_type": "code",
      "execution_count": null,
      "metadata": {
        "id": "r8dINQdCT2ir"
      },
      "outputs": [],
      "source": [
        "df.head(5)"
      ]
    },
    {
      "cell_type": "code",
      "execution_count": null,
      "metadata": {
        "id": "yj9ZueKQT2ir"
      },
      "outputs": [],
      "source": [
        "df.to_csv(\"/Users/Orest/Desktop/Big Data and Text Analytics/FP/timed_tweets.csv\")"
      ]
    },
    {
      "cell_type": "markdown",
      "metadata": {
        "id": "mSRAzV1qT2ir"
      },
      "source": [
        "Graphs are produced with ggplot2 package in R."
      ]
    }
  ],
  "metadata": {
    "colab": {
      "collapsed_sections": [
        "Nvc_YBHOT2ih",
        "4_1H0LoHYMYP",
        "pcfvdnO_Qyo5",
        "uwXLArfdtAtZ"
      ],
      "name": "English - Twitter LDA TextAnalysis.ipynb",
      "provenance": [],
      "include_colab_link": true
    },
    "kernelspec": {
      "display_name": "Python 3",
      "language": "python",
      "name": "python3"
    },
    "language_info": {
      "codemirror_mode": {
        "name": "ipython",
        "version": 3
      },
      "file_extension": ".py",
      "mimetype": "text/x-python",
      "name": "python",
      "nbconvert_exporter": "python",
      "pygments_lexer": "ipython3",
      "version": "3.6.3"
    }
  },
  "nbformat": 4,
  "nbformat_minor": 0
}